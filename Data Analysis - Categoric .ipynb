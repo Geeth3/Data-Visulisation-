{
 "cells": [
  {
   "cell_type": "code",
   "execution_count": 1,
   "id": "57fd00e6",
   "metadata": {},
   "outputs": [],
   "source": [
    "import pandas as pd \n",
    "import numpy as np \n",
    "import matplotlib.pyplot as plt\n",
    "from statsmodels.formula.api import ols \n",
    "from statsmodels.formula.api import ols \n",
    "from statsmodels.stats.anova import anova_lm \n",
    "from statsmodels.graphics.gofplots import qqplot\n",
    "from scipy.stats import shapiro \n",
    "from scipy.stats import bartlett\n",
    "from statsmodels.stats.multicomp import pairwise_tukeyhsd, MultiComparison\n",
    "\n"
   ]
  },
  {
   "cell_type": "code",
   "execution_count": 6,
   "id": "ed4d63fb",
   "metadata": {},
   "outputs": [
    {
     "data": {
      "text/html": [
       "<div>\n",
       "<style scoped>\n",
       "    .dataframe tbody tr th:only-of-type {\n",
       "        vertical-align: middle;\n",
       "    }\n",
       "\n",
       "    .dataframe tbody tr th {\n",
       "        vertical-align: top;\n",
       "    }\n",
       "\n",
       "    .dataframe thead th {\n",
       "        text-align: right;\n",
       "    }\n",
       "</style>\n",
       "<table border=\"1\" class=\"dataframe\">\n",
       "  <thead>\n",
       "    <tr style=\"text-align: right;\">\n",
       "      <th></th>\n",
       "      <th>Unnamed: 0</th>\n",
       "      <th>Unnamed: 0.1</th>\n",
       "      <th>ADMID</th>\n",
       "      <th>PATIENTID</th>\n",
       "      <th>Average_Age</th>\n",
       "      <th>PROBLEM</th>\n",
       "      <th>PROB_NAME</th>\n",
       "      <th>ADM_DATE</th>\n",
       "      <th>DIS_DATE</th>\n",
       "      <th>LOS</th>\n",
       "      <th>...</th>\n",
       "      <th>Ionised calcium</th>\n",
       "      <th>Lactate</th>\n",
       "      <th>White cell</th>\n",
       "      <th>DBP</th>\n",
       "      <th>HEIGHT</th>\n",
       "      <th>HR</th>\n",
       "      <th>O2SAT</th>\n",
       "      <th>RR</th>\n",
       "      <th>SBP</th>\n",
       "      <th>WEIGHT</th>\n",
       "    </tr>\n",
       "  </thead>\n",
       "  <tbody>\n",
       "    <tr>\n",
       "      <th>0</th>\n",
       "      <td>0</td>\n",
       "      <td>0</td>\n",
       "      <td>566AF9016D2E9318EA7A3B3B8EF4441ABFE079F185CDB2...</td>\n",
       "      <td>3AB8F46DDDA4CC8466E3146BB26D8B5BD9E3B72D64EF22...</td>\n",
       "      <td>92</td>\n",
       "      <td>700097003.0</td>\n",
       "      <td>Hip fracture</td>\n",
       "      <td>35550</td>\n",
       "      <td>35565</td>\n",
       "      <td>15</td>\n",
       "      <td>...</td>\n",
       "      <td>1.220000</td>\n",
       "      <td>2.200000</td>\n",
       "      <td>12.270000</td>\n",
       "      <td>64.0</td>\n",
       "      <td>67.200000</td>\n",
       "      <td>80.0</td>\n",
       "      <td>96.0</td>\n",
       "      <td>14.0</td>\n",
       "      <td>141.0</td>\n",
       "      <td>69.999200</td>\n",
       "    </tr>\n",
       "    <tr>\n",
       "      <th>1</th>\n",
       "      <td>1</td>\n",
       "      <td>1</td>\n",
       "      <td>9997C278C602FABFE2BBDFAB818D67EF9C940418C75763...</td>\n",
       "      <td>D10067B6DE953CD140EBEFCEE70698B0CAEFF1BB557252...</td>\n",
       "      <td>82</td>\n",
       "      <td>700097003.0</td>\n",
       "      <td>Hip fracture</td>\n",
       "      <td>31824</td>\n",
       "      <td>31858</td>\n",
       "      <td>34</td>\n",
       "      <td>...</td>\n",
       "      <td>1.172366</td>\n",
       "      <td>1.787164</td>\n",
       "      <td>10.382805</td>\n",
       "      <td>62.0</td>\n",
       "      <td>62.008000</td>\n",
       "      <td>90.0</td>\n",
       "      <td>96.0</td>\n",
       "      <td>15.0</td>\n",
       "      <td>114.0</td>\n",
       "      <td>63.219396</td>\n",
       "    </tr>\n",
       "    <tr>\n",
       "      <th>2</th>\n",
       "      <td>2</td>\n",
       "      <td>2</td>\n",
       "      <td>9997C278C602FABFE2BBDFAB818D67EF9C940418C75763...</td>\n",
       "      <td>D10067B6DE953CD140EBEFCEE70698B0CAEFF1BB557252...</td>\n",
       "      <td>82</td>\n",
       "      <td>5913000.0</td>\n",
       "      <td>Fracture of neck of left femur</td>\n",
       "      <td>31824</td>\n",
       "      <td>31858</td>\n",
       "      <td>34</td>\n",
       "      <td>...</td>\n",
       "      <td>1.172366</td>\n",
       "      <td>1.787164</td>\n",
       "      <td>10.382805</td>\n",
       "      <td>62.0</td>\n",
       "      <td>62.008000</td>\n",
       "      <td>90.0</td>\n",
       "      <td>96.0</td>\n",
       "      <td>15.0</td>\n",
       "      <td>114.0</td>\n",
       "      <td>63.219396</td>\n",
       "    </tr>\n",
       "    <tr>\n",
       "      <th>3</th>\n",
       "      <td>3</td>\n",
       "      <td>3</td>\n",
       "      <td>A53241F3859B28AC2E43A68B8B24BE5806EA1341B1D16D...</td>\n",
       "      <td>4801FB1837D0F9A5F6041D39E48A72E9AC054365A4D202...</td>\n",
       "      <td>77</td>\n",
       "      <td>127287001.0</td>\n",
       "      <td>Intertrochanteric fracture of left hip</td>\n",
       "      <td>30203</td>\n",
       "      <td>30205</td>\n",
       "      <td>2</td>\n",
       "      <td>...</td>\n",
       "      <td>1.172366</td>\n",
       "      <td>1.787164</td>\n",
       "      <td>8.600000</td>\n",
       "      <td>63.0</td>\n",
       "      <td>64.790197</td>\n",
       "      <td>74.0</td>\n",
       "      <td>93.0</td>\n",
       "      <td>15.0</td>\n",
       "      <td>104.0</td>\n",
       "      <td>63.219396</td>\n",
       "    </tr>\n",
       "    <tr>\n",
       "      <th>4</th>\n",
       "      <td>4</td>\n",
       "      <td>4</td>\n",
       "      <td>BFA87E0D17A3084607B9439431707EEE54189FAC5AE26C...</td>\n",
       "      <td>CA5F39A757C1E534F2A95B3C730401ADEC3422C54A3F70...</td>\n",
       "      <td>82</td>\n",
       "      <td>127287001.0</td>\n",
       "      <td>Intertrochanteric fracture of left hip</td>\n",
       "      <td>32191</td>\n",
       "      <td>32196</td>\n",
       "      <td>5</td>\n",
       "      <td>...</td>\n",
       "      <td>1.230000</td>\n",
       "      <td>1.400000</td>\n",
       "      <td>12.870000</td>\n",
       "      <td>67.0</td>\n",
       "      <td>64.790197</td>\n",
       "      <td>91.0</td>\n",
       "      <td>100.0</td>\n",
       "      <td>15.0</td>\n",
       "      <td>112.0</td>\n",
       "      <td>63.219396</td>\n",
       "    </tr>\n",
       "    <tr>\n",
       "      <th>...</th>\n",
       "      <td>...</td>\n",
       "      <td>...</td>\n",
       "      <td>...</td>\n",
       "      <td>...</td>\n",
       "      <td>...</td>\n",
       "      <td>...</td>\n",
       "      <td>...</td>\n",
       "      <td>...</td>\n",
       "      <td>...</td>\n",
       "      <td>...</td>\n",
       "      <td>...</td>\n",
       "      <td>...</td>\n",
       "      <td>...</td>\n",
       "      <td>...</td>\n",
       "      <td>...</td>\n",
       "      <td>...</td>\n",
       "      <td>...</td>\n",
       "      <td>...</td>\n",
       "      <td>...</td>\n",
       "      <td>...</td>\n",
       "      <td>...</td>\n",
       "    </tr>\n",
       "    <tr>\n",
       "      <th>1203</th>\n",
       "      <td>1203</td>\n",
       "      <td>1447</td>\n",
       "      <td>5264ED483D6DD14F34C7F41DBF5075B1812CB3149AB7F7...</td>\n",
       "      <td>59F3A979B8E5C797D425696F17530AC9EA020C2DCB9195...</td>\n",
       "      <td>82</td>\n",
       "      <td>700097003.0</td>\n",
       "      <td>Hip fracture, right</td>\n",
       "      <td>31577</td>\n",
       "      <td>31594</td>\n",
       "      <td>17</td>\n",
       "      <td>...</td>\n",
       "      <td>1.120000</td>\n",
       "      <td>0.900000</td>\n",
       "      <td>11.700000</td>\n",
       "      <td>44.0</td>\n",
       "      <td>64.790197</td>\n",
       "      <td>96.0</td>\n",
       "      <td>97.0</td>\n",
       "      <td>16.0</td>\n",
       "      <td>98.0</td>\n",
       "      <td>63.219396</td>\n",
       "    </tr>\n",
       "    <tr>\n",
       "      <th>1204</th>\n",
       "      <td>1204</td>\n",
       "      <td>1448</td>\n",
       "      <td>9D04FE81A460B8242DC9548F2CD8921F4E0936A888C8A3...</td>\n",
       "      <td>222C0D67EE0A7D3722DFC9745E76074612AC706520EF06...</td>\n",
       "      <td>82</td>\n",
       "      <td>5913000.0</td>\n",
       "      <td>Fracture of neck of left femur</td>\n",
       "      <td>32235</td>\n",
       "      <td>32251</td>\n",
       "      <td>16</td>\n",
       "      <td>...</td>\n",
       "      <td>1.172366</td>\n",
       "      <td>1.787164</td>\n",
       "      <td>10.382805</td>\n",
       "      <td>54.0</td>\n",
       "      <td>64.790197</td>\n",
       "      <td>109.0</td>\n",
       "      <td>95.0</td>\n",
       "      <td>16.0</td>\n",
       "      <td>112.0</td>\n",
       "      <td>63.219396</td>\n",
       "    </tr>\n",
       "    <tr>\n",
       "      <th>1205</th>\n",
       "      <td>1205</td>\n",
       "      <td>1449</td>\n",
       "      <td>665FFC079CC5ACD04A4F6A7F7FF724897586A3AC6625B8...</td>\n",
       "      <td>92CF2F32964A9F8CAD9DF05CF7EBE8D7E3B5B1729C7AE1...</td>\n",
       "      <td>87</td>\n",
       "      <td>5913000.0</td>\n",
       "      <td>Fracture of neck of right femur</td>\n",
       "      <td>34372</td>\n",
       "      <td>34381</td>\n",
       "      <td>9</td>\n",
       "      <td>...</td>\n",
       "      <td>1.172366</td>\n",
       "      <td>1.787164</td>\n",
       "      <td>10.382805</td>\n",
       "      <td>50.0</td>\n",
       "      <td>64.790197</td>\n",
       "      <td>73.0</td>\n",
       "      <td>98.0</td>\n",
       "      <td>16.0</td>\n",
       "      <td>123.0</td>\n",
       "      <td>63.219396</td>\n",
       "    </tr>\n",
       "    <tr>\n",
       "      <th>1206</th>\n",
       "      <td>1206</td>\n",
       "      <td>1450</td>\n",
       "      <td>5FDAC7A8655D26734D99CE76A5CCDCDBC08243A5F0D860...</td>\n",
       "      <td>C77CE976D4B2D0F75FD3CF77B7119E4AC9208FE374097F...</td>\n",
       "      <td>92</td>\n",
       "      <td>5913000.0</td>\n",
       "      <td>Fracture of neck of left femur</td>\n",
       "      <td>35807</td>\n",
       "      <td>35814</td>\n",
       "      <td>7</td>\n",
       "      <td>...</td>\n",
       "      <td>1.172366</td>\n",
       "      <td>1.787164</td>\n",
       "      <td>13.000000</td>\n",
       "      <td>60.0</td>\n",
       "      <td>60.000000</td>\n",
       "      <td>91.0</td>\n",
       "      <td>97.0</td>\n",
       "      <td>15.0</td>\n",
       "      <td>114.0</td>\n",
       "      <td>63.219396</td>\n",
       "    </tr>\n",
       "    <tr>\n",
       "      <th>1207</th>\n",
       "      <td>1207</td>\n",
       "      <td>1451</td>\n",
       "      <td>31A0AF73B39007FADA40A41D73248DF3841ADF39312607...</td>\n",
       "      <td>D7E083ADC52264ADF4F0569BBCFBFD6816FC9361DE56FB...</td>\n",
       "      <td>92</td>\n",
       "      <td>127287001.0</td>\n",
       "      <td>Intertrochanteric fracture of right hip</td>\n",
       "      <td>35103</td>\n",
       "      <td>35112</td>\n",
       "      <td>9</td>\n",
       "      <td>...</td>\n",
       "      <td>1.110000</td>\n",
       "      <td>1.800000</td>\n",
       "      <td>13.100000</td>\n",
       "      <td>69.0</td>\n",
       "      <td>64.173000</td>\n",
       "      <td>60.0</td>\n",
       "      <td>98.0</td>\n",
       "      <td>12.0</td>\n",
       "      <td>99.0</td>\n",
       "      <td>63.219396</td>\n",
       "    </tr>\n",
       "  </tbody>\n",
       "</table>\n",
       "<p>1208 rows × 36 columns</p>\n",
       "</div>"
      ],
      "text/plain": [
       "      Unnamed: 0  Unnamed: 0.1  \\\n",
       "0              0             0   \n",
       "1              1             1   \n",
       "2              2             2   \n",
       "3              3             3   \n",
       "4              4             4   \n",
       "...          ...           ...   \n",
       "1203        1203          1447   \n",
       "1204        1204          1448   \n",
       "1205        1205          1449   \n",
       "1206        1206          1450   \n",
       "1207        1207          1451   \n",
       "\n",
       "                                                  ADMID  \\\n",
       "0     566AF9016D2E9318EA7A3B3B8EF4441ABFE079F185CDB2...   \n",
       "1     9997C278C602FABFE2BBDFAB818D67EF9C940418C75763...   \n",
       "2     9997C278C602FABFE2BBDFAB818D67EF9C940418C75763...   \n",
       "3     A53241F3859B28AC2E43A68B8B24BE5806EA1341B1D16D...   \n",
       "4     BFA87E0D17A3084607B9439431707EEE54189FAC5AE26C...   \n",
       "...                                                 ...   \n",
       "1203  5264ED483D6DD14F34C7F41DBF5075B1812CB3149AB7F7...   \n",
       "1204  9D04FE81A460B8242DC9548F2CD8921F4E0936A888C8A3...   \n",
       "1205  665FFC079CC5ACD04A4F6A7F7FF724897586A3AC6625B8...   \n",
       "1206  5FDAC7A8655D26734D99CE76A5CCDCDBC08243A5F0D860...   \n",
       "1207  31A0AF73B39007FADA40A41D73248DF3841ADF39312607...   \n",
       "\n",
       "                                              PATIENTID  Average_Age  \\\n",
       "0     3AB8F46DDDA4CC8466E3146BB26D8B5BD9E3B72D64EF22...           92   \n",
       "1     D10067B6DE953CD140EBEFCEE70698B0CAEFF1BB557252...           82   \n",
       "2     D10067B6DE953CD140EBEFCEE70698B0CAEFF1BB557252...           82   \n",
       "3     4801FB1837D0F9A5F6041D39E48A72E9AC054365A4D202...           77   \n",
       "4     CA5F39A757C1E534F2A95B3C730401ADEC3422C54A3F70...           82   \n",
       "...                                                 ...          ...   \n",
       "1203  59F3A979B8E5C797D425696F17530AC9EA020C2DCB9195...           82   \n",
       "1204  222C0D67EE0A7D3722DFC9745E76074612AC706520EF06...           82   \n",
       "1205  92CF2F32964A9F8CAD9DF05CF7EBE8D7E3B5B1729C7AE1...           87   \n",
       "1206  C77CE976D4B2D0F75FD3CF77B7119E4AC9208FE374097F...           92   \n",
       "1207  D7E083ADC52264ADF4F0569BBCFBFD6816FC9361DE56FB...           92   \n",
       "\n",
       "          PROBLEM                                PROB_NAME  ADM_DATE  \\\n",
       "0     700097003.0                             Hip fracture     35550   \n",
       "1     700097003.0                             Hip fracture     31824   \n",
       "2       5913000.0           Fracture of neck of left femur     31824   \n",
       "3     127287001.0   Intertrochanteric fracture of left hip     30203   \n",
       "4     127287001.0   Intertrochanteric fracture of left hip     32191   \n",
       "...           ...                                      ...       ...   \n",
       "1203  700097003.0                      Hip fracture, right     31577   \n",
       "1204    5913000.0           Fracture of neck of left femur     32235   \n",
       "1205    5913000.0          Fracture of neck of right femur     34372   \n",
       "1206    5913000.0           Fracture of neck of left femur     35807   \n",
       "1207  127287001.0  Intertrochanteric fracture of right hip     35103   \n",
       "\n",
       "      DIS_DATE  LOS  ... Ionised calcium   Lactate  White cell   DBP  \\\n",
       "0        35565   15  ...        1.220000  2.200000   12.270000  64.0   \n",
       "1        31858   34  ...        1.172366  1.787164   10.382805  62.0   \n",
       "2        31858   34  ...        1.172366  1.787164   10.382805  62.0   \n",
       "3        30205    2  ...        1.172366  1.787164    8.600000  63.0   \n",
       "4        32196    5  ...        1.230000  1.400000   12.870000  67.0   \n",
       "...        ...  ...  ...             ...       ...         ...   ...   \n",
       "1203     31594   17  ...        1.120000  0.900000   11.700000  44.0   \n",
       "1204     32251   16  ...        1.172366  1.787164   10.382805  54.0   \n",
       "1205     34381    9  ...        1.172366  1.787164   10.382805  50.0   \n",
       "1206     35814    7  ...        1.172366  1.787164   13.000000  60.0   \n",
       "1207     35112    9  ...        1.110000  1.800000   13.100000  69.0   \n",
       "\n",
       "         HEIGHT     HR  O2SAT    RR    SBP     WEIGHT  \n",
       "0     67.200000   80.0   96.0  14.0  141.0  69.999200  \n",
       "1     62.008000   90.0   96.0  15.0  114.0  63.219396  \n",
       "2     62.008000   90.0   96.0  15.0  114.0  63.219396  \n",
       "3     64.790197   74.0   93.0  15.0  104.0  63.219396  \n",
       "4     64.790197   91.0  100.0  15.0  112.0  63.219396  \n",
       "...         ...    ...    ...   ...    ...        ...  \n",
       "1203  64.790197   96.0   97.0  16.0   98.0  63.219396  \n",
       "1204  64.790197  109.0   95.0  16.0  112.0  63.219396  \n",
       "1205  64.790197   73.0   98.0  16.0  123.0  63.219396  \n",
       "1206  60.000000   91.0   97.0  15.0  114.0  63.219396  \n",
       "1207  64.173000   60.0   98.0  12.0   99.0  63.219396  \n",
       "\n",
       "[1208 rows x 36 columns]"
      ]
     },
     "execution_count": 6,
     "metadata": {},
     "output_type": "execute_result"
    }
   ],
   "source": [
    "df= pd.read_csv('MDf_NAFilled.csv')\n",
    "df"
   ]
  },
  {
   "cell_type": "code",
   "execution_count": 16,
   "id": "0479261e",
   "metadata": {},
   "outputs": [],
   "source": [
    "# Plotting Cancer Against LOS"
   ]
  },
  {
   "cell_type": "code",
   "execution_count": 13,
   "id": "415a658d",
   "metadata": {},
   "outputs": [
    {
     "data": {
      "text/html": [
       "<div>\n",
       "<style scoped>\n",
       "    .dataframe tbody tr th:only-of-type {\n",
       "        vertical-align: middle;\n",
       "    }\n",
       "\n",
       "    .dataframe tbody tr th {\n",
       "        vertical-align: top;\n",
       "    }\n",
       "\n",
       "    .dataframe thead th {\n",
       "        text-align: right;\n",
       "    }\n",
       "</style>\n",
       "<table border=\"1\" class=\"dataframe\">\n",
       "  <thead>\n",
       "    <tr style=\"text-align: right;\">\n",
       "      <th>CANCER</th>\n",
       "      <th>N</th>\n",
       "      <th>Y</th>\n",
       "    </tr>\n",
       "  </thead>\n",
       "  <tbody>\n",
       "    <tr>\n",
       "      <th>0</th>\n",
       "      <td>NaN</td>\n",
       "      <td>15.0</td>\n",
       "    </tr>\n",
       "    <tr>\n",
       "      <th>1</th>\n",
       "      <td>NaN</td>\n",
       "      <td>34.0</td>\n",
       "    </tr>\n",
       "    <tr>\n",
       "      <th>2</th>\n",
       "      <td>NaN</td>\n",
       "      <td>34.0</td>\n",
       "    </tr>\n",
       "    <tr>\n",
       "      <th>3</th>\n",
       "      <td>NaN</td>\n",
       "      <td>2.0</td>\n",
       "    </tr>\n",
       "    <tr>\n",
       "      <th>4</th>\n",
       "      <td>NaN</td>\n",
       "      <td>5.0</td>\n",
       "    </tr>\n",
       "    <tr>\n",
       "      <th>...</th>\n",
       "      <td>...</td>\n",
       "      <td>...</td>\n",
       "    </tr>\n",
       "    <tr>\n",
       "      <th>1203</th>\n",
       "      <td>NaN</td>\n",
       "      <td>17.0</td>\n",
       "    </tr>\n",
       "    <tr>\n",
       "      <th>1204</th>\n",
       "      <td>NaN</td>\n",
       "      <td>16.0</td>\n",
       "    </tr>\n",
       "    <tr>\n",
       "      <th>1205</th>\n",
       "      <td>NaN</td>\n",
       "      <td>9.0</td>\n",
       "    </tr>\n",
       "    <tr>\n",
       "      <th>1206</th>\n",
       "      <td>NaN</td>\n",
       "      <td>7.0</td>\n",
       "    </tr>\n",
       "    <tr>\n",
       "      <th>1207</th>\n",
       "      <td>NaN</td>\n",
       "      <td>9.0</td>\n",
       "    </tr>\n",
       "  </tbody>\n",
       "</table>\n",
       "<p>1208 rows × 2 columns</p>\n",
       "</div>"
      ],
      "text/plain": [
       "CANCER   N     Y\n",
       "0      NaN  15.0\n",
       "1      NaN  34.0\n",
       "2      NaN  34.0\n",
       "3      NaN   2.0\n",
       "4      NaN   5.0\n",
       "...     ..   ...\n",
       "1203   NaN  17.0\n",
       "1204   NaN  16.0\n",
       "1205   NaN   9.0\n",
       "1206   NaN   7.0\n",
       "1207   NaN   9.0\n",
       "\n",
       "[1208 rows x 2 columns]"
      ]
     },
     "execution_count": 13,
     "metadata": {},
     "output_type": "execute_result"
    }
   ],
   "source": [
    "\n",
    "Cancer = df.pivot(columns = 'CANCER', values = 'LOS')\n",
    "Cancer"
   ]
  },
  {
   "cell_type": "code",
   "execution_count": 11,
   "id": "2661246a",
   "metadata": {},
   "outputs": [
    {
     "data": {
      "text/html": [
       "<div>\n",
       "<style scoped>\n",
       "    .dataframe tbody tr th:only-of-type {\n",
       "        vertical-align: middle;\n",
       "    }\n",
       "\n",
       "    .dataframe tbody tr th {\n",
       "        vertical-align: top;\n",
       "    }\n",
       "\n",
       "    .dataframe thead th {\n",
       "        text-align: right;\n",
       "    }\n",
       "</style>\n",
       "<table border=\"1\" class=\"dataframe\">\n",
       "  <thead>\n",
       "    <tr style=\"text-align: right;\">\n",
       "      <th>CANCER</th>\n",
       "      <th>N</th>\n",
       "      <th>Y</th>\n",
       "    </tr>\n",
       "  </thead>\n",
       "  <tbody>\n",
       "    <tr>\n",
       "      <th>count</th>\n",
       "      <td>246.000000</td>\n",
       "      <td>962.000000</td>\n",
       "    </tr>\n",
       "    <tr>\n",
       "      <th>mean</th>\n",
       "      <td>12.174797</td>\n",
       "      <td>16.310811</td>\n",
       "    </tr>\n",
       "    <tr>\n",
       "      <th>std</th>\n",
       "      <td>8.649521</td>\n",
       "      <td>11.351909</td>\n",
       "    </tr>\n",
       "    <tr>\n",
       "      <th>min</th>\n",
       "      <td>0.000000</td>\n",
       "      <td>2.000000</td>\n",
       "    </tr>\n",
       "    <tr>\n",
       "      <th>25%</th>\n",
       "      <td>7.000000</td>\n",
       "      <td>9.000000</td>\n",
       "    </tr>\n",
       "    <tr>\n",
       "      <th>50%</th>\n",
       "      <td>10.000000</td>\n",
       "      <td>13.000000</td>\n",
       "    </tr>\n",
       "    <tr>\n",
       "      <th>75%</th>\n",
       "      <td>14.750000</td>\n",
       "      <td>20.000000</td>\n",
       "    </tr>\n",
       "    <tr>\n",
       "      <th>max</th>\n",
       "      <td>52.000000</td>\n",
       "      <td>88.000000</td>\n",
       "    </tr>\n",
       "  </tbody>\n",
       "</table>\n",
       "</div>"
      ],
      "text/plain": [
       "CANCER           N           Y\n",
       "count   246.000000  962.000000\n",
       "mean     12.174797   16.310811\n",
       "std       8.649521   11.351909\n",
       "min       0.000000    2.000000\n",
       "25%       7.000000    9.000000\n",
       "50%      10.000000   13.000000\n",
       "75%      14.750000   20.000000\n",
       "max      52.000000   88.000000"
      ]
     },
     "execution_count": 11,
     "metadata": {},
     "output_type": "execute_result"
    }
   ],
   "source": [
    "Cancer.describe()"
   ]
  },
  {
   "cell_type": "code",
   "execution_count": 17,
   "id": "79be0c73",
   "metadata": {},
   "outputs": [
    {
     "name": "stdout",
     "output_type": "stream",
     "text": [
      "Collecting package metadata (current_repodata.json): done\n",
      "Solving environment: done\n",
      "\n",
      "\n",
      "==> WARNING: A newer version of conda exists. <==\n",
      "  current version: 4.14.0\n",
      "  latest version: 23.3.1\n",
      "\n",
      "Please update conda by running\n",
      "\n",
      "    $ conda update -n base -c conda-forge conda\n",
      "\n",
      "\n",
      "\n",
      "# All requested packages already installed.\n",
      "\n",
      "Retrieving notices: ...working... done\n",
      "\n",
      "Note: you may need to restart the kernel to use updated packages.\n"
     ]
    }
   ],
   "source": [
    "conda install statsmodels"
   ]
  },
  {
   "cell_type": "code",
   "execution_count": 19,
   "id": "475794f7",
   "metadata": {},
   "outputs": [
    {
     "data": {
      "text/plain": [
       "Text(0, 0.5, 'LOS [days]')"
      ]
     },
     "execution_count": 19,
     "metadata": {},
     "output_type": "execute_result"
    },
    {
     "data": {
      "image/png": "[encoded data removed]",
      "text/plain": [
       "<Figure size 432x288 with 1 Axes>"
      ]
     },
     "metadata": {
      "needs_background": "light"
     },
     "output_type": "display_data"
    }
   ],
   "source": [
    "Cancer.boxplot()\n",
    "plt.ylabel('LOS [days]')"
   ]
  },
  {
   "cell_type": "code",
   "execution_count": 21,
   "id": "3ecff18a",
   "metadata": {},
   "outputs": [],
   "source": [
    "from statsmodels.formula.api import ols \n",
    "from statsmodels.stats.anova import anova_lm "
   ]
  },
  {
   "cell_type": "code",
   "execution_count": 48,
   "id": "746be9db",
   "metadata": {},
   "outputs": [
    {
     "data": {
      "text/html": [
       "<div>\n",
       "<style scoped>\n",
       "    .dataframe tbody tr th:only-of-type {\n",
       "        vertical-align: middle;\n",
       "    }\n",
       "\n",
       "    .dataframe tbody tr th {\n",
       "        vertical-align: top;\n",
       "    }\n",
       "\n",
       "    .dataframe thead th {\n",
       "        text-align: right;\n",
       "    }\n",
       "</style>\n",
       "<table border=\"1\" class=\"dataframe\">\n",
       "  <thead>\n",
       "    <tr style=\"text-align: right;\">\n",
       "      <th></th>\n",
       "      <th>df</th>\n",
       "      <th>sum_sq</th>\n",
       "      <th>mean_sq</th>\n",
       "      <th>F</th>\n",
       "      <th>PR(&gt;F)</th>\n",
       "    </tr>\n",
       "  </thead>\n",
       "  <tbody>\n",
       "    <tr>\n",
       "      <th>C(CANCER)</th>\n",
       "      <td>1.0</td>\n",
       "      <td>3351.253328</td>\n",
       "      <td>3351.253328</td>\n",
       "      <td>28.428109</td>\n",
       "      <td>1.160062e-07</td>\n",
       "    </tr>\n",
       "    <tr>\n",
       "      <th>Residual</th>\n",
       "      <td>1206.0</td>\n",
       "      <td>142169.551307</td>\n",
       "      <td>117.885200</td>\n",
       "      <td>NaN</td>\n",
       "      <td>NaN</td>\n",
       "    </tr>\n",
       "  </tbody>\n",
       "</table>\n",
       "</div>"
      ],
      "text/plain": [
       "               df         sum_sq      mean_sq          F        PR(>F)\n",
       "C(CANCER)     1.0    3351.253328  3351.253328  28.428109  1.160062e-07\n",
       "Residual   1206.0  142169.551307   117.885200        NaN           NaN"
      ]
     },
     "execution_count": 48,
     "metadata": {},
     "output_type": "execute_result"
    }
   ],
   "source": [
    "Cancer_aov = ols('LOS~C(CANCER)', data=df).fit()\n",
    "anova_lm(Cancer_aov)\n",
    "#This appears to be significant therefore we will investiagte this further"
   ]
  },
  {
   "cell_type": "code",
   "execution_count": 26,
   "id": "38e226e7",
   "metadata": {},
   "outputs": [],
   "source": [
    "from scipy.stats import shapiro\n",
    "from statsmodels.graphics.gofplots import qqplot"
   ]
  },
  {
   "cell_type": "code",
   "execution_count": 27,
   "id": "1a909408",
   "metadata": {},
   "outputs": [
    {
     "data": {
      "text/plain": [
       "ShapiroResult(statistic=0.8312811851501465, pvalue=7.06514073665939e-34)"
      ]
     },
     "execution_count": 27,
     "metadata": {},
     "output_type": "execute_result"
    }
   ],
   "source": [
    "shapiro(Cancer_aov.resid)"
   ]
  },
  {
   "cell_type": "code",
   "execution_count": 32,
   "id": "1533cbbe",
   "metadata": {},
   "outputs": [
    {
     "data": {
      "image/png": "[encoded data removed]",
      "text/plain": [
       "<Figure size 432x288 with 1 Axes>"
      ]
     },
     "execution_count": 32,
     "metadata": {},
     "output_type": "execute_result"
    },
    {
     "data": {
      "image/png": "[encoded data removed]",
      "text/plain": [
       "<Figure size 432x288 with 1 Axes>"
      ]
     },
     "metadata": {
      "needs_background": "light"
     },
     "output_type": "display_data"
    }
   ],
   "source": [
    "qqplot(Cancer_aov.resid, line ='s')"
   ]
  },
  {
   "cell_type": "code",
   "execution_count": 34,
   "id": "a055fb95",
   "metadata": {},
   "outputs": [],
   "source": [
    "Yes = Cancer.Y.dropna()\n",
    "No = Cancer.N.dropna()"
   ]
  },
  {
   "cell_type": "code",
   "execution_count": 75,
   "id": "068aa683",
   "metadata": {},
   "outputs": [
    {
     "data": {
      "text/plain": [
       "ShapiroResult(statistic=0.8298697471618652, pvalue=8.991736209213863e-31)"
      ]
     },
     "execution_count": 75,
     "metadata": {},
     "output_type": "execute_result"
    }
   ],
   "source": [
    "shapiro(Yes)"
   ]
  },
  {
   "cell_type": "code",
   "execution_count": 76,
   "id": "1fc6e9a6",
   "metadata": {},
   "outputs": [
    {
     "data": {
      "text/plain": [
       "ShapiroResult(statistic=0.825849711894989, pvalue=6.55037259649589e-16)"
      ]
     },
     "execution_count": 76,
     "metadata": {},
     "output_type": "execute_result"
    }
   ],
   "source": [
    "shapiro(No)"
   ]
  },
  {
   "cell_type": "code",
   "execution_count": 77,
   "id": "59d6d6a0",
   "metadata": {},
   "outputs": [
    {
     "data": {
      "image/png": "[encoded data removed]",
      "text/plain": [
       "<Figure size 432x288 with 1 Axes>"
      ]
     },
     "execution_count": 77,
     "metadata": {},
     "output_type": "execute_result"
    },
    {
     "data": {
      "image/png": "[encoded data removed]",
      "text/plain": [
       "<Figure size 432x288 with 1 Axes>"
      ]
     },
     "metadata": {
      "needs_background": "light"
     },
     "output_type": "display_data"
    }
   ],
   "source": [
    "qqplot(Yes, line ='s')"
   ]
  },
  {
   "cell_type": "code",
   "execution_count": 78,
   "id": "0a970b37",
   "metadata": {},
   "outputs": [
    {
     "data": {
      "image/png": "[encoded data removed]",
      "text/plain": [
       "<Figure size 432x288 with 1 Axes>"
      ]
     },
     "execution_count": 78,
     "metadata": {},
     "output_type": "execute_result"
    },
    {
     "data": {
      "image/png": "[encoded data removed]",
      "text/plain": [
       "<Figure size 432x288 with 1 Axes>"
      ]
     },
     "metadata": {
      "needs_background": "light"
     },
     "output_type": "display_data"
    }
   ],
   "source": [
    "qqplot(No, line ='s')"
   ]
  },
  {
   "cell_type": "code",
   "execution_count": 36,
   "id": "89e47735",
   "metadata": {},
   "outputs": [
    {
     "data": {
      "text/plain": [
       "BartlettResult(statistic=25.778227388793688, pvalue=3.8298452535695303e-07)"
      ]
     },
     "execution_count": 36,
     "metadata": {},
     "output_type": "execute_result"
    }
   ],
   "source": [
    "from scipy.stats import bartlett\n",
    "bartlett(Yes,No)"
   ]
  },
  {
   "cell_type": "code",
   "execution_count": 38,
   "id": "60fd9b97",
   "metadata": {},
   "outputs": [
    {
     "data": {
      "text/plain": [
       "Text(0, 0.5, 'Residuals')"
      ]
     },
     "execution_count": 38,
     "metadata": {},
     "output_type": "execute_result"
    },
    {
     "data": {
      "image/png": "[encoded data removed]",
      "text/plain": [
       "<Figure size 432x288 with 1 Axes>"
      ]
     },
     "metadata": {
      "needs_background": "light"
     },
     "output_type": "display_data"
    }
   ],
   "source": [
    "plt.scatter(Cancer_aov.fittedvalues ,Cancer_aov.resid)\n",
    "plt.axhline(y=0)\n",
    "plt.xlabel('Fitted Values')\n",
    "plt.ylabel('Residuals')"
   ]
  },
  {
   "cell_type": "code",
   "execution_count": 40,
   "id": "dbeb83b2",
   "metadata": {},
   "outputs": [
    {
     "data": {
      "text/plain": [
       "Text(0, 0.5, \"Cook's DIstance\")"
      ]
     },
     "execution_count": 40,
     "metadata": {},
     "output_type": "execute_result"
    },
    {
     "data": {
      "image/png": "[encoded data removed]",
      "text/plain": [
       "<Figure size 432x288 with 1 Axes>"
      ]
     },
     "metadata": {
      "needs_background": "light"
     },
     "output_type": "display_data"
    }
   ],
   "source": [
    "cooks = Cancer_aov.get_influence().cooks_distance[0] \n",
    "plt.stem(range(len(cooks)),cooks)\n",
    "plt.xlabel('Observation Number')\n",
    "plt.ylabel(\"Cook's DIstance\")"
   ]
  },
  {
   "cell_type": "code",
   "execution_count": 41,
   "id": "1cb81ef9",
   "metadata": {},
   "outputs": [],
   "source": [
    "## LOS Vs Age Group "
   ]
  },
  {
   "cell_type": "code",
   "execution_count": 44,
   "id": "3a5c98f5",
   "metadata": {},
   "outputs": [
    {
     "data": {
      "text/html": [
       "<div>\n",
       "<style scoped>\n",
       "    .dataframe tbody tr th:only-of-type {\n",
       "        vertical-align: middle;\n",
       "    }\n",
       "\n",
       "    .dataframe tbody tr th {\n",
       "        vertical-align: top;\n",
       "    }\n",
       "\n",
       "    .dataframe thead th {\n",
       "        text-align: right;\n",
       "    }\n",
       "</style>\n",
       "<table border=\"1\" class=\"dataframe\">\n",
       "  <thead>\n",
       "    <tr style=\"text-align: right;\">\n",
       "      <th>Average_Age</th>\n",
       "      <th>22</th>\n",
       "      <th>27</th>\n",
       "      <th>32</th>\n",
       "      <th>37</th>\n",
       "      <th>42</th>\n",
       "      <th>47</th>\n",
       "      <th>52</th>\n",
       "      <th>57</th>\n",
       "      <th>62</th>\n",
       "      <th>67</th>\n",
       "      <th>72</th>\n",
       "      <th>77</th>\n",
       "      <th>82</th>\n",
       "      <th>87</th>\n",
       "      <th>92</th>\n",
       "      <th>97</th>\n",
       "      <th>102</th>\n",
       "    </tr>\n",
       "  </thead>\n",
       "  <tbody>\n",
       "    <tr>\n",
       "      <th>0</th>\n",
       "      <td>NaN</td>\n",
       "      <td>NaN</td>\n",
       "      <td>NaN</td>\n",
       "      <td>NaN</td>\n",
       "      <td>NaN</td>\n",
       "      <td>NaN</td>\n",
       "      <td>NaN</td>\n",
       "      <td>NaN</td>\n",
       "      <td>NaN</td>\n",
       "      <td>NaN</td>\n",
       "      <td>NaN</td>\n",
       "      <td>NaN</td>\n",
       "      <td>NaN</td>\n",
       "      <td>NaN</td>\n",
       "      <td>15.0</td>\n",
       "      <td>NaN</td>\n",
       "      <td>NaN</td>\n",
       "    </tr>\n",
       "    <tr>\n",
       "      <th>1</th>\n",
       "      <td>NaN</td>\n",
       "      <td>NaN</td>\n",
       "      <td>NaN</td>\n",
       "      <td>NaN</td>\n",
       "      <td>NaN</td>\n",
       "      <td>NaN</td>\n",
       "      <td>NaN</td>\n",
       "      <td>NaN</td>\n",
       "      <td>NaN</td>\n",
       "      <td>NaN</td>\n",
       "      <td>NaN</td>\n",
       "      <td>NaN</td>\n",
       "      <td>34.0</td>\n",
       "      <td>NaN</td>\n",
       "      <td>NaN</td>\n",
       "      <td>NaN</td>\n",
       "      <td>NaN</td>\n",
       "    </tr>\n",
       "    <tr>\n",
       "      <th>2</th>\n",
       "      <td>NaN</td>\n",
       "      <td>NaN</td>\n",
       "      <td>NaN</td>\n",
       "      <td>NaN</td>\n",
       "      <td>NaN</td>\n",
       "      <td>NaN</td>\n",
       "      <td>NaN</td>\n",
       "      <td>NaN</td>\n",
       "      <td>NaN</td>\n",
       "      <td>NaN</td>\n",
       "      <td>NaN</td>\n",
       "      <td>NaN</td>\n",
       "      <td>34.0</td>\n",
       "      <td>NaN</td>\n",
       "      <td>NaN</td>\n",
       "      <td>NaN</td>\n",
       "      <td>NaN</td>\n",
       "    </tr>\n",
       "    <tr>\n",
       "      <th>3</th>\n",
       "      <td>NaN</td>\n",
       "      <td>NaN</td>\n",
       "      <td>NaN</td>\n",
       "      <td>NaN</td>\n",
       "      <td>NaN</td>\n",
       "      <td>NaN</td>\n",
       "      <td>NaN</td>\n",
       "      <td>NaN</td>\n",
       "      <td>NaN</td>\n",
       "      <td>NaN</td>\n",
       "      <td>NaN</td>\n",
       "      <td>2.0</td>\n",
       "      <td>NaN</td>\n",
       "      <td>NaN</td>\n",
       "      <td>NaN</td>\n",
       "      <td>NaN</td>\n",
       "      <td>NaN</td>\n",
       "    </tr>\n",
       "    <tr>\n",
       "      <th>4</th>\n",
       "      <td>NaN</td>\n",
       "      <td>NaN</td>\n",
       "      <td>NaN</td>\n",
       "      <td>NaN</td>\n",
       "      <td>NaN</td>\n",
       "      <td>NaN</td>\n",
       "      <td>NaN</td>\n",
       "      <td>NaN</td>\n",
       "      <td>NaN</td>\n",
       "      <td>NaN</td>\n",
       "      <td>NaN</td>\n",
       "      <td>NaN</td>\n",
       "      <td>5.0</td>\n",
       "      <td>NaN</td>\n",
       "      <td>NaN</td>\n",
       "      <td>NaN</td>\n",
       "      <td>NaN</td>\n",
       "    </tr>\n",
       "    <tr>\n",
       "      <th>...</th>\n",
       "      <td>...</td>\n",
       "      <td>...</td>\n",
       "      <td>...</td>\n",
       "      <td>...</td>\n",
       "      <td>...</td>\n",
       "      <td>...</td>\n",
       "      <td>...</td>\n",
       "      <td>...</td>\n",
       "      <td>...</td>\n",
       "      <td>...</td>\n",
       "      <td>...</td>\n",
       "      <td>...</td>\n",
       "      <td>...</td>\n",
       "      <td>...</td>\n",
       "      <td>...</td>\n",
       "      <td>...</td>\n",
       "      <td>...</td>\n",
       "    </tr>\n",
       "    <tr>\n",
       "      <th>1203</th>\n",
       "      <td>NaN</td>\n",
       "      <td>NaN</td>\n",
       "      <td>NaN</td>\n",
       "      <td>NaN</td>\n",
       "      <td>NaN</td>\n",
       "      <td>NaN</td>\n",
       "      <td>NaN</td>\n",
       "      <td>NaN</td>\n",
       "      <td>NaN</td>\n",
       "      <td>NaN</td>\n",
       "      <td>NaN</td>\n",
       "      <td>NaN</td>\n",
       "      <td>17.0</td>\n",
       "      <td>NaN</td>\n",
       "      <td>NaN</td>\n",
       "      <td>NaN</td>\n",
       "      <td>NaN</td>\n",
       "    </tr>\n",
       "    <tr>\n",
       "      <th>1204</th>\n",
       "      <td>NaN</td>\n",
       "      <td>NaN</td>\n",
       "      <td>NaN</td>\n",
       "      <td>NaN</td>\n",
       "      <td>NaN</td>\n",
       "      <td>NaN</td>\n",
       "      <td>NaN</td>\n",
       "      <td>NaN</td>\n",
       "      <td>NaN</td>\n",
       "      <td>NaN</td>\n",
       "      <td>NaN</td>\n",
       "      <td>NaN</td>\n",
       "      <td>16.0</td>\n",
       "      <td>NaN</td>\n",
       "      <td>NaN</td>\n",
       "      <td>NaN</td>\n",
       "      <td>NaN</td>\n",
       "    </tr>\n",
       "    <tr>\n",
       "      <th>1205</th>\n",
       "      <td>NaN</td>\n",
       "      <td>NaN</td>\n",
       "      <td>NaN</td>\n",
       "      <td>NaN</td>\n",
       "      <td>NaN</td>\n",
       "      <td>NaN</td>\n",
       "      <td>NaN</td>\n",
       "      <td>NaN</td>\n",
       "      <td>NaN</td>\n",
       "      <td>NaN</td>\n",
       "      <td>NaN</td>\n",
       "      <td>NaN</td>\n",
       "      <td>NaN</td>\n",
       "      <td>9.0</td>\n",
       "      <td>NaN</td>\n",
       "      <td>NaN</td>\n",
       "      <td>NaN</td>\n",
       "    </tr>\n",
       "    <tr>\n",
       "      <th>1206</th>\n",
       "      <td>NaN</td>\n",
       "      <td>NaN</td>\n",
       "      <td>NaN</td>\n",
       "      <td>NaN</td>\n",
       "      <td>NaN</td>\n",
       "      <td>NaN</td>\n",
       "      <td>NaN</td>\n",
       "      <td>NaN</td>\n",
       "      <td>NaN</td>\n",
       "      <td>NaN</td>\n",
       "      <td>NaN</td>\n",
       "      <td>NaN</td>\n",
       "      <td>NaN</td>\n",
       "      <td>NaN</td>\n",
       "      <td>7.0</td>\n",
       "      <td>NaN</td>\n",
       "      <td>NaN</td>\n",
       "    </tr>\n",
       "    <tr>\n",
       "      <th>1207</th>\n",
       "      <td>NaN</td>\n",
       "      <td>NaN</td>\n",
       "      <td>NaN</td>\n",
       "      <td>NaN</td>\n",
       "      <td>NaN</td>\n",
       "      <td>NaN</td>\n",
       "      <td>NaN</td>\n",
       "      <td>NaN</td>\n",
       "      <td>NaN</td>\n",
       "      <td>NaN</td>\n",
       "      <td>NaN</td>\n",
       "      <td>NaN</td>\n",
       "      <td>NaN</td>\n",
       "      <td>NaN</td>\n",
       "      <td>9.0</td>\n",
       "      <td>NaN</td>\n",
       "      <td>NaN</td>\n",
       "    </tr>\n",
       "  </tbody>\n",
       "</table>\n",
       "<p>1208 rows × 17 columns</p>\n",
       "</div>"
      ],
      "text/plain": [
       "Average_Age  22   27   32   37   42   47   52   57   62   67   72   77    82   \\\n",
       "0            NaN  NaN  NaN  NaN  NaN  NaN  NaN  NaN  NaN  NaN  NaN  NaN   NaN   \n",
       "1            NaN  NaN  NaN  NaN  NaN  NaN  NaN  NaN  NaN  NaN  NaN  NaN  34.0   \n",
       "2            NaN  NaN  NaN  NaN  NaN  NaN  NaN  NaN  NaN  NaN  NaN  NaN  34.0   \n",
       "3            NaN  NaN  NaN  NaN  NaN  NaN  NaN  NaN  NaN  NaN  NaN  2.0   NaN   \n",
       "4            NaN  NaN  NaN  NaN  NaN  NaN  NaN  NaN  NaN  NaN  NaN  NaN   5.0   \n",
       "...          ...  ...  ...  ...  ...  ...  ...  ...  ...  ...  ...  ...   ...   \n",
       "1203         NaN  NaN  NaN  NaN  NaN  NaN  NaN  NaN  NaN  NaN  NaN  NaN  17.0   \n",
       "1204         NaN  NaN  NaN  NaN  NaN  NaN  NaN  NaN  NaN  NaN  NaN  NaN  16.0   \n",
       "1205         NaN  NaN  NaN  NaN  NaN  NaN  NaN  NaN  NaN  NaN  NaN  NaN   NaN   \n",
       "1206         NaN  NaN  NaN  NaN  NaN  NaN  NaN  NaN  NaN  NaN  NaN  NaN   NaN   \n",
       "1207         NaN  NaN  NaN  NaN  NaN  NaN  NaN  NaN  NaN  NaN  NaN  NaN   NaN   \n",
       "\n",
       "Average_Age  87    92   97   102  \n",
       "0            NaN  15.0  NaN  NaN  \n",
       "1            NaN   NaN  NaN  NaN  \n",
       "2            NaN   NaN  NaN  NaN  \n",
       "3            NaN   NaN  NaN  NaN  \n",
       "4            NaN   NaN  NaN  NaN  \n",
       "...          ...   ...  ...  ...  \n",
       "1203         NaN   NaN  NaN  NaN  \n",
       "1204         NaN   NaN  NaN  NaN  \n",
       "1205         9.0   NaN  NaN  NaN  \n",
       "1206         NaN   7.0  NaN  NaN  \n",
       "1207         NaN   9.0  NaN  NaN  \n",
       "\n",
       "[1208 rows x 17 columns]"
      ]
     },
     "execution_count": 44,
     "metadata": {},
     "output_type": "execute_result"
    }
   ],
   "source": [
    "Age_Group = df.pivot(columns = 'Average_Age', values = 'LOS')\n",
    "Age_Group"
   ]
  },
  {
   "cell_type": "code",
   "execution_count": 46,
   "id": "487307cf",
   "metadata": {},
   "outputs": [
    {
     "data": {
      "text/html": [
       "<div>\n",
       "<style scoped>\n",
       "    .dataframe tbody tr th:only-of-type {\n",
       "        vertical-align: middle;\n",
       "    }\n",
       "\n",
       "    .dataframe tbody tr th {\n",
       "        vertical-align: top;\n",
       "    }\n",
       "\n",
       "    .dataframe thead th {\n",
       "        text-align: right;\n",
       "    }\n",
       "</style>\n",
       "<table border=\"1\" class=\"dataframe\">\n",
       "  <thead>\n",
       "    <tr style=\"text-align: right;\">\n",
       "      <th>Average_Age</th>\n",
       "      <th>22</th>\n",
       "      <th>27</th>\n",
       "      <th>32</th>\n",
       "      <th>37</th>\n",
       "      <th>42</th>\n",
       "      <th>47</th>\n",
       "      <th>52</th>\n",
       "      <th>57</th>\n",
       "      <th>62</th>\n",
       "      <th>67</th>\n",
       "      <th>72</th>\n",
       "      <th>77</th>\n",
       "      <th>82</th>\n",
       "      <th>87</th>\n",
       "      <th>92</th>\n",
       "      <th>97</th>\n",
       "      <th>102</th>\n",
       "    </tr>\n",
       "  </thead>\n",
       "  <tbody>\n",
       "    <tr>\n",
       "      <th>count</th>\n",
       "      <td>1.0</td>\n",
       "      <td>1.0</td>\n",
       "      <td>3.000000</td>\n",
       "      <td>3.000000</td>\n",
       "      <td>3.000000</td>\n",
       "      <td>7.000000</td>\n",
       "      <td>9.000000</td>\n",
       "      <td>15.000000</td>\n",
       "      <td>24.000000</td>\n",
       "      <td>68.000000</td>\n",
       "      <td>104.000000</td>\n",
       "      <td>159.000000</td>\n",
       "      <td>214.000000</td>\n",
       "      <td>281.000000</td>\n",
       "      <td>218.000000</td>\n",
       "      <td>93.000000</td>\n",
       "      <td>5.00000</td>\n",
       "    </tr>\n",
       "    <tr>\n",
       "      <th>mean</th>\n",
       "      <td>7.0</td>\n",
       "      <td>3.0</td>\n",
       "      <td>9.000000</td>\n",
       "      <td>14.000000</td>\n",
       "      <td>6.000000</td>\n",
       "      <td>16.285714</td>\n",
       "      <td>13.111111</td>\n",
       "      <td>7.666667</td>\n",
       "      <td>6.875000</td>\n",
       "      <td>12.264706</td>\n",
       "      <td>12.519231</td>\n",
       "      <td>15.283019</td>\n",
       "      <td>14.794393</td>\n",
       "      <td>16.455516</td>\n",
       "      <td>18.385321</td>\n",
       "      <td>17.408602</td>\n",
       "      <td>18.80000</td>\n",
       "    </tr>\n",
       "    <tr>\n",
       "      <th>std</th>\n",
       "      <td>NaN</td>\n",
       "      <td>NaN</td>\n",
       "      <td>5.196152</td>\n",
       "      <td>10.392305</td>\n",
       "      <td>3.605551</td>\n",
       "      <td>14.522560</td>\n",
       "      <td>10.623611</td>\n",
       "      <td>7.077799</td>\n",
       "      <td>3.779953</td>\n",
       "      <td>11.513286</td>\n",
       "      <td>11.182494</td>\n",
       "      <td>10.926180</td>\n",
       "      <td>10.794485</td>\n",
       "      <td>9.060451</td>\n",
       "      <td>12.604884</td>\n",
       "      <td>11.022937</td>\n",
       "      <td>9.14877</td>\n",
       "    </tr>\n",
       "    <tr>\n",
       "      <th>min</th>\n",
       "      <td>7.0</td>\n",
       "      <td>3.0</td>\n",
       "      <td>3.000000</td>\n",
       "      <td>2.000000</td>\n",
       "      <td>3.000000</td>\n",
       "      <td>3.000000</td>\n",
       "      <td>3.000000</td>\n",
       "      <td>3.000000</td>\n",
       "      <td>2.000000</td>\n",
       "      <td>2.000000</td>\n",
       "      <td>3.000000</td>\n",
       "      <td>2.000000</td>\n",
       "      <td>0.000000</td>\n",
       "      <td>2.000000</td>\n",
       "      <td>3.000000</td>\n",
       "      <td>2.000000</td>\n",
       "      <td>9.00000</td>\n",
       "    </tr>\n",
       "    <tr>\n",
       "      <th>25%</th>\n",
       "      <td>7.0</td>\n",
       "      <td>3.0</td>\n",
       "      <td>7.500000</td>\n",
       "      <td>11.000000</td>\n",
       "      <td>4.000000</td>\n",
       "      <td>4.500000</td>\n",
       "      <td>6.000000</td>\n",
       "      <td>3.500000</td>\n",
       "      <td>4.000000</td>\n",
       "      <td>5.000000</td>\n",
       "      <td>6.000000</td>\n",
       "      <td>8.000000</td>\n",
       "      <td>8.250000</td>\n",
       "      <td>10.000000</td>\n",
       "      <td>11.000000</td>\n",
       "      <td>9.000000</td>\n",
       "      <td>12.00000</td>\n",
       "    </tr>\n",
       "    <tr>\n",
       "      <th>50%</th>\n",
       "      <td>7.0</td>\n",
       "      <td>3.0</td>\n",
       "      <td>12.000000</td>\n",
       "      <td>20.000000</td>\n",
       "      <td>5.000000</td>\n",
       "      <td>9.000000</td>\n",
       "      <td>9.000000</td>\n",
       "      <td>4.000000</td>\n",
       "      <td>6.000000</td>\n",
       "      <td>9.000000</td>\n",
       "      <td>8.500000</td>\n",
       "      <td>12.000000</td>\n",
       "      <td>12.000000</td>\n",
       "      <td>14.000000</td>\n",
       "      <td>14.000000</td>\n",
       "      <td>15.000000</td>\n",
       "      <td>18.00000</td>\n",
       "    </tr>\n",
       "    <tr>\n",
       "      <th>75%</th>\n",
       "      <td>7.0</td>\n",
       "      <td>3.0</td>\n",
       "      <td>12.000000</td>\n",
       "      <td>20.000000</td>\n",
       "      <td>7.500000</td>\n",
       "      <td>27.000000</td>\n",
       "      <td>14.000000</td>\n",
       "      <td>8.500000</td>\n",
       "      <td>8.250000</td>\n",
       "      <td>13.500000</td>\n",
       "      <td>14.250000</td>\n",
       "      <td>18.000000</td>\n",
       "      <td>18.000000</td>\n",
       "      <td>20.000000</td>\n",
       "      <td>23.000000</td>\n",
       "      <td>22.000000</td>\n",
       "      <td>23.00000</td>\n",
       "    </tr>\n",
       "    <tr>\n",
       "      <th>max</th>\n",
       "      <td>7.0</td>\n",
       "      <td>3.0</td>\n",
       "      <td>12.000000</td>\n",
       "      <td>20.000000</td>\n",
       "      <td>10.000000</td>\n",
       "      <td>39.000000</td>\n",
       "      <td>31.000000</td>\n",
       "      <td>28.000000</td>\n",
       "      <td>18.000000</td>\n",
       "      <td>67.000000</td>\n",
       "      <td>61.000000</td>\n",
       "      <td>56.000000</td>\n",
       "      <td>66.000000</td>\n",
       "      <td>64.000000</td>\n",
       "      <td>88.000000</td>\n",
       "      <td>53.000000</td>\n",
       "      <td>32.00000</td>\n",
       "    </tr>\n",
       "  </tbody>\n",
       "</table>\n",
       "</div>"
      ],
      "text/plain": [
       "Average_Age  22   27         32         37         42         47         52   \\\n",
       "count        1.0  1.0   3.000000   3.000000   3.000000   7.000000   9.000000   \n",
       "mean         7.0  3.0   9.000000  14.000000   6.000000  16.285714  13.111111   \n",
       "std          NaN  NaN   5.196152  10.392305   3.605551  14.522560  10.623611   \n",
       "min          7.0  3.0   3.000000   2.000000   3.000000   3.000000   3.000000   \n",
       "25%          7.0  3.0   7.500000  11.000000   4.000000   4.500000   6.000000   \n",
       "50%          7.0  3.0  12.000000  20.000000   5.000000   9.000000   9.000000   \n",
       "75%          7.0  3.0  12.000000  20.000000   7.500000  27.000000  14.000000   \n",
       "max          7.0  3.0  12.000000  20.000000  10.000000  39.000000  31.000000   \n",
       "\n",
       "Average_Age        57         62         67          72          77   \\\n",
       "count        15.000000  24.000000  68.000000  104.000000  159.000000   \n",
       "mean          7.666667   6.875000  12.264706   12.519231   15.283019   \n",
       "std           7.077799   3.779953  11.513286   11.182494   10.926180   \n",
       "min           3.000000   2.000000   2.000000    3.000000    2.000000   \n",
       "25%           3.500000   4.000000   5.000000    6.000000    8.000000   \n",
       "50%           4.000000   6.000000   9.000000    8.500000   12.000000   \n",
       "75%           8.500000   8.250000  13.500000   14.250000   18.000000   \n",
       "max          28.000000  18.000000  67.000000   61.000000   56.000000   \n",
       "\n",
       "Average_Age         82          87          92         97        102  \n",
       "count        214.000000  281.000000  218.000000  93.000000   5.00000  \n",
       "mean          14.794393   16.455516   18.385321  17.408602  18.80000  \n",
       "std           10.794485    9.060451   12.604884  11.022937   9.14877  \n",
       "min            0.000000    2.000000    3.000000   2.000000   9.00000  \n",
       "25%            8.250000   10.000000   11.000000   9.000000  12.00000  \n",
       "50%           12.000000   14.000000   14.000000  15.000000  18.00000  \n",
       "75%           18.000000   20.000000   23.000000  22.000000  23.00000  \n",
       "max           66.000000   64.000000   88.000000  53.000000  32.00000  "
      ]
     },
     "execution_count": 46,
     "metadata": {},
     "output_type": "execute_result"
    }
   ],
   "source": [
    "Age_Group.describe()"
   ]
  },
  {
   "cell_type": "code",
   "execution_count": 47,
   "id": "0c073f46",
   "metadata": {},
   "outputs": [
    {
     "data": {
      "text/plain": [
       "Text(0, 0.5, 'LOS [days]')"
      ]
     },
     "execution_count": 47,
     "metadata": {},
     "output_type": "execute_result"
    },
    {
     "data": {
      "image/png": "[encoded data removed]",
      "text/plain": [
       "<Figure size 432x288 with 1 Axes>"
      ]
     },
     "metadata": {
      "needs_background": "light"
     },
     "output_type": "display_data"
    }
   ],
   "source": [
    "Age_Group.boxplot()\n",
    "plt.ylabel('LOS [days]')"
   ]
  },
  {
   "cell_type": "code",
   "execution_count": 50,
   "id": "8cc1d9f1",
   "metadata": {},
   "outputs": [
    {
     "data": {
      "text/html": [
       "<div>\n",
       "<style scoped>\n",
       "    .dataframe tbody tr th:only-of-type {\n",
       "        vertical-align: middle;\n",
       "    }\n",
       "\n",
       "    .dataframe tbody tr th {\n",
       "        vertical-align: top;\n",
       "    }\n",
       "\n",
       "    .dataframe thead th {\n",
       "        text-align: right;\n",
       "    }\n",
       "</style>\n",
       "<table border=\"1\" class=\"dataframe\">\n",
       "  <thead>\n",
       "    <tr style=\"text-align: right;\">\n",
       "      <th></th>\n",
       "      <th>df</th>\n",
       "      <th>sum_sq</th>\n",
       "      <th>mean_sq</th>\n",
       "      <th>F</th>\n",
       "      <th>PR(&gt;F)</th>\n",
       "    </tr>\n",
       "  </thead>\n",
       "  <tbody>\n",
       "    <tr>\n",
       "      <th>C(Average_Age)</th>\n",
       "      <td>16.0</td>\n",
       "      <td>7607.514492</td>\n",
       "      <td>475.469656</td>\n",
       "      <td>4.10609</td>\n",
       "      <td>9.628855e-08</td>\n",
       "    </tr>\n",
       "    <tr>\n",
       "      <th>Residual</th>\n",
       "      <td>1191.0</td>\n",
       "      <td>137913.290144</td>\n",
       "      <td>115.796213</td>\n",
       "      <td>NaN</td>\n",
       "      <td>NaN</td>\n",
       "    </tr>\n",
       "  </tbody>\n",
       "</table>\n",
       "</div>"
      ],
      "text/plain": [
       "                    df         sum_sq     mean_sq        F        PR(>F)\n",
       "C(Average_Age)    16.0    7607.514492  475.469656  4.10609  9.628855e-08\n",
       "Residual        1191.0  137913.290144  115.796213      NaN           NaN"
      ]
     },
     "execution_count": 50,
     "metadata": {},
     "output_type": "execute_result"
    }
   ],
   "source": [
    "AG_aov = ols('LOS~C(Average_Age)', data=df).fit()\n",
    "anova_lm(AG_aov)\n",
    "# although the p vlaue is <0.05 the hypothesis testing show this doesnt fit with the assumptions "
   ]
  },
  {
   "cell_type": "code",
   "execution_count": 52,
   "id": "23bbd68a",
   "metadata": {},
   "outputs": [
    {
     "data": {
      "text/plain": [
       "ShapiroResult(statistic=0.8202650547027588, pvalue=1.0242334826329026e-34)"
      ]
     },
     "execution_count": 52,
     "metadata": {},
     "output_type": "execute_result"
    }
   ],
   "source": [
    "shapiro(AG_aov.resid)"
   ]
  },
  {
   "cell_type": "code",
   "execution_count": 53,
   "id": "a4ec9f4d",
   "metadata": {},
   "outputs": [
    {
     "data": {
      "image/png": "[encoded data removed]",
      "text/plain": [
       "<Figure size 432x288 with 1 Axes>"
      ]
     },
     "execution_count": 53,
     "metadata": {},
     "output_type": "execute_result"
    },
    {
     "data": {
      "image/png": "[encoded data removed]",
      "text/plain": [
       "<Figure size 432x288 with 1 Axes>"
      ]
     },
     "metadata": {
      "needs_background": "light"
     },
     "output_type": "display_data"
    }
   ],
   "source": [
    "qqplot(AG_aov.resid, line ='s')"
   ]
  },
  {
   "cell_type": "code",
   "execution_count": 54,
   "id": "e9287b6e",
   "metadata": {},
   "outputs": [
    {
     "data": {
      "text/plain": [
       "Text(0, 0.5, 'Residuals')"
      ]
     },
     "execution_count": 54,
     "metadata": {},
     "output_type": "execute_result"
    },
    {
     "data": {
      "image/png": "[encoded data removed]",
      "text/plain": [
       "<Figure size 432x288 with 1 Axes>"
      ]
     },
     "metadata": {
      "needs_background": "light"
     },
     "output_type": "display_data"
    }
   ],
   "source": [
    "plt.scatter(AG_aov.fittedvalues ,Cancer_aov.resid)\n",
    "plt.axhline(y=0)\n",
    "plt.xlabel('Fitted Values')\n",
    "plt.ylabel('Residuals')"
   ]
  },
  {
   "cell_type": "code",
   "execution_count": 55,
   "id": "de729c56",
   "metadata": {},
   "outputs": [
    {
     "name": "stderr",
     "output_type": "stream",
     "text": [
      "/Users/geethsilva/opt/anaconda3/lib/python3.8/site-packages/statsmodels/stats/outliers_influence.py:693: RuntimeWarning: invalid value encountered in sqrt\n",
      "  return self.resid / sigma / np.sqrt(1 - hii)\n"
     ]
    },
    {
     "data": {
      "text/plain": [
       "Text(0, 0.5, \"Cook's DIstance\")"
      ]
     },
     "execution_count": 55,
     "metadata": {},
     "output_type": "execute_result"
    },
    {
     "data": {
      "image/png": "[encoded data removed]",
      "text/plain": [
       "<Figure size 432x288 with 1 Axes>"
      ]
     },
     "metadata": {
      "needs_background": "light"
     },
     "output_type": "display_data"
    }
   ],
   "source": [
    "cooks = AG_aov.get_influence().cooks_distance[0] \n",
    "plt.stem(range(len(cooks)),cooks)\n",
    "plt.xlabel('Observation Number')\n",
    "plt.ylabel(\"Cook's DIstance\")"
   ]
  },
  {
   "cell_type": "code",
   "execution_count": 57,
   "id": "dd000966",
   "metadata": {},
   "outputs": [
    {
     "name": "stdout",
     "output_type": "stream",
     "text": [
      " Multiple Comparison of Means - Tukey HSD, FWER=0.05 \n",
      "=====================================================\n",
      "group1 group2 meandiff p-adj   lower    upper  reject\n",
      "-----------------------------------------------------\n",
      "    22     27     -4.0    0.9 -56.7491 48.7491  False\n",
      "    22     32      2.0    0.9 -41.0695 45.0695  False\n",
      "    22     37      7.0    0.9 -36.0695 50.0695  False\n",
      "    22     42     -1.0    0.9 -44.0695 42.0695  False\n",
      "    22     47   9.2857    0.9 -30.5889 49.1603  False\n",
      "    22     52   6.1111    0.9 -33.2058  45.428  False\n",
      "    22     57   0.6667    0.9 -37.8559 39.1892  False\n",
      "    22     62   -0.125    0.9 -38.1934 37.9434  False\n",
      "    22     67   5.2647    0.9 -32.3078 42.8372  False\n",
      "    22     72   5.5192    0.9 -31.9589 42.9974  False\n",
      "    22     77    8.283    0.9 -29.1334 45.6994  False\n",
      "    22     82   7.7944    0.9 -29.5919 45.1807  False\n",
      "    22     87   9.4555    0.9 -27.9101 46.8211  False\n",
      "    22     92  11.3853    0.9 -25.9994   48.77  False\n",
      "    22     97  10.4086    0.9 -27.0907 47.9079  False\n",
      "    22    102     11.8    0.9 -29.0593 52.6593  False\n",
      "    27     32      6.0    0.9 -37.0695 49.0695  False\n",
      "    27     37     11.0    0.9 -32.0695 54.0695  False\n",
      "    27     42      3.0    0.9 -40.0695 46.0695  False\n",
      "    27     47  13.2857    0.9 -26.5889 53.1603  False\n",
      "    27     52  10.1111    0.9 -29.2058  49.428  False\n",
      "    27     57   4.6667    0.9 -33.8559 43.1892  False\n",
      "    27     62    3.875    0.9 -34.1934 41.9434  False\n",
      "    27     67   9.2647    0.9 -28.3078 46.8372  False\n",
      "    27     72   9.5192    0.9 -27.9589 46.9974  False\n",
      "    27     77   12.283    0.9 -25.1334 49.6994  False\n",
      "    27     82  11.7944    0.9 -25.5919 49.1807  False\n",
      "    27     87  13.4555    0.9 -23.9101 50.8211  False\n",
      "    27     92  15.3853    0.9 -21.9994   52.77  False\n",
      "    27     97  14.4086    0.9 -23.0907 51.9079  False\n",
      "    27    102     15.8    0.9 -25.0593 56.6593  False\n",
      "    32     37      5.0    0.9 -25.4547 35.4547  False\n",
      "    32     42     -3.0    0.9 -33.4547 27.4547  False\n",
      "    32     47   7.2857    0.9 -18.4532 33.0247  False\n",
      "    32     52   4.1111    0.9 -20.7551 28.9773  False\n",
      "    32     57  -1.3333    0.9 -24.9235 22.2568  False\n",
      "    32     62   -2.125    0.9  -24.966  20.716  False\n",
      "    32     67   3.2647    0.9 -18.7399 25.2694  False\n",
      "    32     72   3.5192    0.9 -18.3239 25.3624  False\n",
      "    32     77    6.283    0.9 -15.4539   28.02  False\n",
      "    32     82   5.7944    0.9 -15.8908 27.4796  False\n",
      "    32     87   7.4555    0.9 -14.1939 29.1049  False\n",
      "    32     92   9.3853    0.9 -12.2971 31.0677  False\n",
      "    32     97   8.4086    0.9 -13.4707 30.2879  False\n",
      "    32    102      9.8    0.9 -17.4395 37.0395  False\n",
      "    37     42     -8.0    0.9 -38.4547 22.4547  False\n",
      "    37     47   2.2857    0.9 -23.4532 28.0247  False\n",
      "    37     52  -0.8889    0.9 -25.7551 23.9773  False\n",
      "    37     57  -6.3333    0.9 -29.9235 17.2568  False\n",
      "    37     62   -7.125    0.9  -29.966  15.716  False\n",
      "    37     67  -1.7353    0.9 -23.7399 20.2694  False\n",
      "    37     72  -1.4808    0.9 -23.3239 20.3624  False\n",
      "    37     77    1.283    0.9 -20.4539   23.02  False\n",
      "    37     82   0.7944    0.9 -20.8908 22.4796  False\n",
      "    37     87   2.4555    0.9 -19.1939 24.1049  False\n",
      "    37     92   4.3853    0.9 -17.2971 26.0677  False\n",
      "    37     97   3.4086    0.9 -18.4707 25.2879  False\n",
      "    37    102      4.8    0.9 -22.4395 32.0395  False\n",
      "    42     47  10.2857    0.9 -15.4532 36.0247  False\n",
      "    42     52   7.1111    0.9 -17.7551 31.9773  False\n",
      "    42     57   1.6667    0.9 -21.9235 25.2568  False\n",
      "    42     62    0.875    0.9  -21.966  23.716  False\n",
      "    42     67   6.2647    0.9 -15.7399 28.2694  False\n",
      "    42     72   6.5192    0.9 -15.3239 28.3624  False\n",
      "    42     77    9.283    0.9 -12.4539   31.02  False\n",
      "    42     82   8.7944    0.9 -12.8908 30.4796  False\n",
      "    42     87  10.4555    0.9 -11.1939 32.1049  False\n",
      "    42     92  12.3853 0.8395  -9.2971 34.0677  False\n",
      "    42     97  11.4086    0.9 -10.4707 33.2879  False\n",
      "    42    102     12.8    0.9 -14.4395 40.0395  False\n",
      "    47     52  -3.1746    0.9 -21.9717 15.6225  False\n",
      "    47     57   -8.619    0.9 -25.6923  8.4542  False\n",
      "    47     62  -9.4107 0.8033 -25.4331  6.6116  False\n",
      "    47     67   -4.021    0.9 -18.8267 10.7846  False\n",
      "    47     72  -3.7665    0.9  -18.331  10.798  False\n",
      "    47     77  -1.0027    0.9 -15.4075 13.4021  False\n",
      "    47     82  -1.4913    0.9 -15.8178 12.8352  False\n",
      "    47     87   0.1698    0.9 -14.1025 14.4421  False\n",
      "    47     92   2.0996    0.9 -12.2227  16.422  False\n",
      "    47     97   1.1229    0.9 -13.4958 15.7416  False\n",
      "    47    102   2.5143    0.9 -19.3259 24.3545  False\n",
      "    52     57  -5.4444    0.9 -21.1712 10.2823  False\n",
      "    52     62  -6.2361    0.9 -20.8152   8.343  False\n",
      "    52     67  -0.8464    0.9 -14.0767 12.3839  False\n",
      "    52     72  -0.5919    0.9 -13.5518  12.368  False\n",
      "    52     77   2.1719    0.9 -10.6082  14.952  False\n",
      "    52     82   1.6833    0.9 -11.0086 14.3751  False\n",
      "    52     87   3.3444    0.9  -9.2862  15.975  False\n",
      "    52     92   5.2742    0.9  -7.4129 17.9614  False\n",
      "    52     97   4.2975    0.9  -8.7233 17.3183  False\n",
      "    52    102   5.6889    0.9 -15.1157 26.4934  False\n",
      "    57     62  -0.7917    0.9 -13.0684  11.485  False\n",
      "    57     67    4.598    0.9  -6.0419  15.238  False\n",
      "    57     72   4.8526    0.9  -5.4492 15.1543  False\n",
      "    57     77   7.6164 0.4174  -2.4583  17.691  False\n",
      "    57     82   7.1277 0.5152  -2.8347 17.0902  False\n",
      "    57     87   8.7888 0.1515  -1.0955 18.6732  False\n",
      "    57     92  10.7187 0.0205   0.7622 20.6751   True\n",
      "    57     97   9.7419 0.0948  -0.6363 20.1202  False\n",
      "    57    102  11.1333 0.8242  -8.1279 30.3946  False\n",
      "    62     67   5.3897 0.7555  -3.4662 14.2456  False\n",
      "    62     72   5.6442 0.6214  -2.8024 14.0909  False\n",
      "    62     77    8.408  0.036   0.2399 16.5761   True\n",
      "    62     82   7.9194 0.0582  -0.1099 15.9487  False\n",
      "    62     87   9.5805 0.0036   1.6484 17.5127   True\n",
      "    62     92  11.5103  0.001   3.4885 19.5322   True\n",
      "    62     97  10.5336 0.0025   1.9938 19.0734   True\n",
      "    62    102   11.925 0.6616  -6.4112 30.2612  False\n",
      "    67     72   0.2545    0.9  -5.5624  6.0714  False\n",
      "    67     77   3.0183 0.8682  -2.3862  8.4229  False\n",
      "    67     82   2.5297    0.9  -2.6627   7.722  False\n",
      "    67     87   4.1908 0.2452  -0.8501  9.2317  False\n",
      "    67     92   6.1206 0.0052   0.9398 11.3015   True\n",
      "    67     97   5.1439 0.1877  -0.8075 11.0953  False\n",
      "    67    102   6.5353    0.9 -10.7478 23.8184  False\n",
      "    72     77   2.7638 0.8028  -1.9402  7.4677  False\n",
      "    72     82   2.2752    0.9  -2.1834  6.7337  False\n",
      "    72     87   3.9363 0.1151  -0.3449  8.2174  False\n",
      "    72     92   5.8661  0.001    1.421 10.3112   True\n",
      "    72     97   4.8894 0.1161  -0.4339 10.2126  False\n",
      "    72    102   6.2808    0.9 -10.7962 23.3578  False\n",
      "    77     82  -0.4886    0.9  -4.3939  3.4166  False\n",
      "    77     87   1.1725    0.9   -2.529   4.874  False\n",
      "    77     92   3.1023  0.315  -0.7876  6.9923  False\n",
      "    77     97   2.1256    0.9  -2.7437  6.9948  False\n",
      "    77    102    3.517    0.9  -13.424  20.458  False\n",
      "    82     87   1.6611    0.9   -1.723  5.0452  False\n",
      "    82     92   3.5909 0.0498   0.0017  7.1802   True\n",
      "    82     97   2.6142 0.8551  -2.0184  7.2468  False\n",
      "    82    102   4.0056    0.9 -12.8689 20.8801  False\n",
      "    87     92   1.9298  0.835  -1.4366  5.2962  False\n",
      "    87     97   0.9531    0.9   -3.509  5.4152  False\n",
      "    87    102   2.3445    0.9  -14.484  19.173  False\n",
      "    92     97  -0.9767    0.9  -5.5964  3.6429  False\n",
      "    92    102   0.4147    0.9 -16.4563 17.2856  False\n",
      "    97    102   1.3914    0.9 -15.7319 18.5147  False\n",
      "-----------------------------------------------------\n"
     ]
    }
   ],
   "source": [
    "mc = MultiComparison(df.LOS, df.Average_Age)\n",
    "mc_results = mc.tukeyhsd()\n",
    "print(mc_results)\n",
    "#differnce between age group does occur when there is a great difference and there is enough data to support!"
   ]
  },
  {
   "cell_type": "code",
   "execution_count": 58,
   "id": "9fc32633",
   "metadata": {},
   "outputs": [],
   "source": [
    "## LOS vs Operation Undertaken \n",
    "\n",
    "\n",
    "\n",
    "\n"
   ]
  },
  {
   "cell_type": "code",
   "execution_count": 60,
   "id": "1326b856",
   "metadata": {},
   "outputs": [
    {
     "data": {
      "text/html": [
       "<div>\n",
       "<style scoped>\n",
       "    .dataframe tbody tr th:only-of-type {\n",
       "        vertical-align: middle;\n",
       "    }\n",
       "\n",
       "    .dataframe tbody tr th {\n",
       "        vertical-align: top;\n",
       "    }\n",
       "\n",
       "    .dataframe thead th {\n",
       "        text-align: right;\n",
       "    }\n",
       "</style>\n",
       "<table border=\"1\" class=\"dataframe\">\n",
       "  <thead>\n",
       "    <tr style=\"text-align: right;\">\n",
       "      <th>OPCS_DESC</th>\n",
       "      <th>CLOSED REDUCTION INSERTION DYNAMIC HIP SCREW</th>\n",
       "      <th>HEMIARTHROPLASTY HIP CANNULOK</th>\n",
       "      <th>HEMIARTHROPLASTY HIP CEMENTED USING EXETER STEM</th>\n",
       "      <th>HEMIARTHROPLASTY HIP CEMENTED USING EXETER TRAUMA STEM</th>\n",
       "      <th>OPEN REDUCTION INTERNAL FIXATION FEMUR</th>\n",
       "      <th>OPEN REDUCTION INTERNAL FIXATION FEMUR USING RIGID NAIL</th>\n",
       "      <th>OPEN REDUCTION INTERNAL FIXATION FRACTURE NECK OF FEMUR WITH HIP SCREW</th>\n",
       "      <th>OPEN REDUCTION INTERNAL FIXATION TROCHANTERIC FRACTURE FEMUR USING RIGID NAIL</th>\n",
       "      <th>TOTAL HIP REPLACEMENT</th>\n",
       "      <th>TOTAL HIP REPLACEMENT CEMENTED</th>\n",
       "      <th>TOTAL HIP REPLACEMENT EXETER CUP EXETER STEM</th>\n",
       "    </tr>\n",
       "  </thead>\n",
       "  <tbody>\n",
       "    <tr>\n",
       "      <th>0</th>\n",
       "      <td>NaN</td>\n",
       "      <td>NaN</td>\n",
       "      <td>15.0</td>\n",
       "      <td>NaN</td>\n",
       "      <td>NaN</td>\n",
       "      <td>NaN</td>\n",
       "      <td>NaN</td>\n",
       "      <td>NaN</td>\n",
       "      <td>NaN</td>\n",
       "      <td>NaN</td>\n",
       "      <td>NaN</td>\n",
       "    </tr>\n",
       "    <tr>\n",
       "      <th>1</th>\n",
       "      <td>NaN</td>\n",
       "      <td>NaN</td>\n",
       "      <td>34.0</td>\n",
       "      <td>NaN</td>\n",
       "      <td>NaN</td>\n",
       "      <td>NaN</td>\n",
       "      <td>NaN</td>\n",
       "      <td>NaN</td>\n",
       "      <td>NaN</td>\n",
       "      <td>NaN</td>\n",
       "      <td>NaN</td>\n",
       "    </tr>\n",
       "    <tr>\n",
       "      <th>2</th>\n",
       "      <td>NaN</td>\n",
       "      <td>NaN</td>\n",
       "      <td>34.0</td>\n",
       "      <td>NaN</td>\n",
       "      <td>NaN</td>\n",
       "      <td>NaN</td>\n",
       "      <td>NaN</td>\n",
       "      <td>NaN</td>\n",
       "      <td>NaN</td>\n",
       "      <td>NaN</td>\n",
       "      <td>NaN</td>\n",
       "    </tr>\n",
       "    <tr>\n",
       "      <th>3</th>\n",
       "      <td>NaN</td>\n",
       "      <td>NaN</td>\n",
       "      <td>NaN</td>\n",
       "      <td>NaN</td>\n",
       "      <td>NaN</td>\n",
       "      <td>NaN</td>\n",
       "      <td>NaN</td>\n",
       "      <td>NaN</td>\n",
       "      <td>NaN</td>\n",
       "      <td>2.0</td>\n",
       "      <td>NaN</td>\n",
       "    </tr>\n",
       "    <tr>\n",
       "      <th>4</th>\n",
       "      <td>NaN</td>\n",
       "      <td>NaN</td>\n",
       "      <td>NaN</td>\n",
       "      <td>NaN</td>\n",
       "      <td>NaN</td>\n",
       "      <td>NaN</td>\n",
       "      <td>5.0</td>\n",
       "      <td>NaN</td>\n",
       "      <td>NaN</td>\n",
       "      <td>NaN</td>\n",
       "      <td>NaN</td>\n",
       "    </tr>\n",
       "    <tr>\n",
       "      <th>...</th>\n",
       "      <td>...</td>\n",
       "      <td>...</td>\n",
       "      <td>...</td>\n",
       "      <td>...</td>\n",
       "      <td>...</td>\n",
       "      <td>...</td>\n",
       "      <td>...</td>\n",
       "      <td>...</td>\n",
       "      <td>...</td>\n",
       "      <td>...</td>\n",
       "      <td>...</td>\n",
       "    </tr>\n",
       "    <tr>\n",
       "      <th>1203</th>\n",
       "      <td>NaN</td>\n",
       "      <td>NaN</td>\n",
       "      <td>17.0</td>\n",
       "      <td>NaN</td>\n",
       "      <td>NaN</td>\n",
       "      <td>NaN</td>\n",
       "      <td>NaN</td>\n",
       "      <td>NaN</td>\n",
       "      <td>NaN</td>\n",
       "      <td>NaN</td>\n",
       "      <td>NaN</td>\n",
       "    </tr>\n",
       "    <tr>\n",
       "      <th>1204</th>\n",
       "      <td>16.0</td>\n",
       "      <td>NaN</td>\n",
       "      <td>NaN</td>\n",
       "      <td>NaN</td>\n",
       "      <td>NaN</td>\n",
       "      <td>NaN</td>\n",
       "      <td>NaN</td>\n",
       "      <td>NaN</td>\n",
       "      <td>NaN</td>\n",
       "      <td>NaN</td>\n",
       "      <td>NaN</td>\n",
       "    </tr>\n",
       "    <tr>\n",
       "      <th>1205</th>\n",
       "      <td>NaN</td>\n",
       "      <td>NaN</td>\n",
       "      <td>9.0</td>\n",
       "      <td>NaN</td>\n",
       "      <td>NaN</td>\n",
       "      <td>NaN</td>\n",
       "      <td>NaN</td>\n",
       "      <td>NaN</td>\n",
       "      <td>NaN</td>\n",
       "      <td>NaN</td>\n",
       "      <td>NaN</td>\n",
       "    </tr>\n",
       "    <tr>\n",
       "      <th>1206</th>\n",
       "      <td>7.0</td>\n",
       "      <td>NaN</td>\n",
       "      <td>NaN</td>\n",
       "      <td>NaN</td>\n",
       "      <td>NaN</td>\n",
       "      <td>NaN</td>\n",
       "      <td>NaN</td>\n",
       "      <td>NaN</td>\n",
       "      <td>NaN</td>\n",
       "      <td>NaN</td>\n",
       "      <td>NaN</td>\n",
       "    </tr>\n",
       "    <tr>\n",
       "      <th>1207</th>\n",
       "      <td>NaN</td>\n",
       "      <td>NaN</td>\n",
       "      <td>NaN</td>\n",
       "      <td>NaN</td>\n",
       "      <td>NaN</td>\n",
       "      <td>NaN</td>\n",
       "      <td>9.0</td>\n",
       "      <td>NaN</td>\n",
       "      <td>NaN</td>\n",
       "      <td>NaN</td>\n",
       "      <td>NaN</td>\n",
       "    </tr>\n",
       "  </tbody>\n",
       "</table>\n",
       "<p>1208 rows × 11 columns</p>\n",
       "</div>"
      ],
      "text/plain": [
       "OPCS_DESC  CLOSED REDUCTION INSERTION DYNAMIC HIP SCREW  \\\n",
       "0                                                   NaN   \n",
       "1                                                   NaN   \n",
       "2                                                   NaN   \n",
       "3                                                   NaN   \n",
       "4                                                   NaN   \n",
       "...                                                 ...   \n",
       "1203                                                NaN   \n",
       "1204                                               16.0   \n",
       "1205                                                NaN   \n",
       "1206                                                7.0   \n",
       "1207                                                NaN   \n",
       "\n",
       "OPCS_DESC  HEMIARTHROPLASTY HIP CANNULOK  \\\n",
       "0                                    NaN   \n",
       "1                                    NaN   \n",
       "2                                    NaN   \n",
       "3                                    NaN   \n",
       "4                                    NaN   \n",
       "...                                  ...   \n",
       "1203                                 NaN   \n",
       "1204                                 NaN   \n",
       "1205                                 NaN   \n",
       "1206                                 NaN   \n",
       "1207                                 NaN   \n",
       "\n",
       "OPCS_DESC  HEMIARTHROPLASTY HIP CEMENTED USING EXETER STEM  \\\n",
       "0                                                     15.0   \n",
       "1                                                     34.0   \n",
       "2                                                     34.0   \n",
       "3                                                      NaN   \n",
       "4                                                      NaN   \n",
       "...                                                    ...   \n",
       "1203                                                  17.0   \n",
       "1204                                                   NaN   \n",
       "1205                                                   9.0   \n",
       "1206                                                   NaN   \n",
       "1207                                                   NaN   \n",
       "\n",
       "OPCS_DESC  HEMIARTHROPLASTY HIP CEMENTED USING EXETER TRAUMA STEM  \\\n",
       "0                                                        NaN        \n",
       "1                                                        NaN        \n",
       "2                                                        NaN        \n",
       "3                                                        NaN        \n",
       "4                                                        NaN        \n",
       "...                                                      ...        \n",
       "1203                                                     NaN        \n",
       "1204                                                     NaN        \n",
       "1205                                                     NaN        \n",
       "1206                                                     NaN        \n",
       "1207                                                     NaN        \n",
       "\n",
       "OPCS_DESC  OPEN REDUCTION INTERNAL FIXATION FEMUR  \\\n",
       "0                                             NaN   \n",
       "1                                             NaN   \n",
       "2                                             NaN   \n",
       "3                                             NaN   \n",
       "4                                             NaN   \n",
       "...                                           ...   \n",
       "1203                                          NaN   \n",
       "1204                                          NaN   \n",
       "1205                                          NaN   \n",
       "1206                                          NaN   \n",
       "1207                                          NaN   \n",
       "\n",
       "OPCS_DESC  OPEN REDUCTION INTERNAL FIXATION FEMUR USING RIGID NAIL  \\\n",
       "0                                                        NaN         \n",
       "1                                                        NaN         \n",
       "2                                                        NaN         \n",
       "3                                                        NaN         \n",
       "4                                                        NaN         \n",
       "...                                                      ...         \n",
       "1203                                                     NaN         \n",
       "1204                                                     NaN         \n",
       "1205                                                     NaN         \n",
       "1206                                                     NaN         \n",
       "1207                                                     NaN         \n",
       "\n",
       "OPCS_DESC  OPEN REDUCTION INTERNAL FIXATION FRACTURE NECK OF FEMUR WITH HIP SCREW  \\\n",
       "0                                                        NaN                        \n",
       "1                                                        NaN                        \n",
       "2                                                        NaN                        \n",
       "3                                                        NaN                        \n",
       "4                                                        5.0                        \n",
       "...                                                      ...                        \n",
       "1203                                                     NaN                        \n",
       "1204                                                     NaN                        \n",
       "1205                                                     NaN                        \n",
       "1206                                                     NaN                        \n",
       "1207                                                     9.0                        \n",
       "\n",
       "OPCS_DESC  OPEN REDUCTION INTERNAL FIXATION TROCHANTERIC FRACTURE FEMUR USING RIGID NAIL  \\\n",
       "0                                                        NaN                               \n",
       "1                                                        NaN                               \n",
       "2                                                        NaN                               \n",
       "3                                                        NaN                               \n",
       "4                                                        NaN                               \n",
       "...                                                      ...                               \n",
       "1203                                                     NaN                               \n",
       "1204                                                     NaN                               \n",
       "1205                                                     NaN                               \n",
       "1206                                                     NaN                               \n",
       "1207                                                     NaN                               \n",
       "\n",
       "OPCS_DESC  TOTAL HIP REPLACEMENT  TOTAL HIP REPLACEMENT CEMENTED  \\\n",
       "0                            NaN                             NaN   \n",
       "1                            NaN                             NaN   \n",
       "2                            NaN                             NaN   \n",
       "3                            NaN                             2.0   \n",
       "4                            NaN                             NaN   \n",
       "...                          ...                             ...   \n",
       "1203                         NaN                             NaN   \n",
       "1204                         NaN                             NaN   \n",
       "1205                         NaN                             NaN   \n",
       "1206                         NaN                             NaN   \n",
       "1207                         NaN                             NaN   \n",
       "\n",
       "OPCS_DESC  TOTAL HIP REPLACEMENT EXETER CUP EXETER STEM  \n",
       "0                                                   NaN  \n",
       "1                                                   NaN  \n",
       "2                                                   NaN  \n",
       "3                                                   NaN  \n",
       "4                                                   NaN  \n",
       "...                                                 ...  \n",
       "1203                                                NaN  \n",
       "1204                                                NaN  \n",
       "1205                                                NaN  \n",
       "1206                                                NaN  \n",
       "1207                                                NaN  \n",
       "\n",
       "[1208 rows x 11 columns]"
      ]
     },
     "execution_count": 60,
     "metadata": {},
     "output_type": "execute_result"
    }
   ],
   "source": [
    "Op = df.pivot(columns = 'OPCS_DESC', values = 'LOS')\n",
    "Op"
   ]
  },
  {
   "cell_type": "code",
   "execution_count": 65,
   "id": "684a251e",
   "metadata": {},
   "outputs": [
    {
     "data": {
      "text/plain": [
       "<AxesSubplot:>"
      ]
     },
     "execution_count": 65,
     "metadata": {},
     "output_type": "execute_result"
    },
    {
     "data": {
      "image/png": "[encoded data removed]",
      "text/plain": [
       "<Figure size 432x288 with 1 Axes>"
      ]
     },
     "metadata": {
      "needs_background": "light"
     },
     "output_type": "display_data"
    }
   ],
   "source": [
    "Op.boxplot()\n"
   ]
  },
  {
   "cell_type": "code",
   "execution_count": 67,
   "id": "7a47fff7",
   "metadata": {},
   "outputs": [
    {
     "data": {
      "text/html": [
       "<div>\n",
       "<style scoped>\n",
       "    .dataframe tbody tr th:only-of-type {\n",
       "        vertical-align: middle;\n",
       "    }\n",
       "\n",
       "    .dataframe tbody tr th {\n",
       "        vertical-align: top;\n",
       "    }\n",
       "\n",
       "    .dataframe thead th {\n",
       "        text-align: right;\n",
       "    }\n",
       "</style>\n",
       "<table border=\"1\" class=\"dataframe\">\n",
       "  <thead>\n",
       "    <tr style=\"text-align: right;\">\n",
       "      <th></th>\n",
       "      <th>df</th>\n",
       "      <th>sum_sq</th>\n",
       "      <th>mean_sq</th>\n",
       "      <th>F</th>\n",
       "      <th>PR(&gt;F)</th>\n",
       "    </tr>\n",
       "  </thead>\n",
       "  <tbody>\n",
       "    <tr>\n",
       "      <th>C(OPCS_DESC)</th>\n",
       "      <td>10.0</td>\n",
       "      <td>6291.196522</td>\n",
       "      <td>629.119652</td>\n",
       "      <td>5.408736</td>\n",
       "      <td>7.204892e-08</td>\n",
       "    </tr>\n",
       "    <tr>\n",
       "      <th>Residual</th>\n",
       "      <td>1197.0</td>\n",
       "      <td>139229.608114</td>\n",
       "      <td>116.315462</td>\n",
       "      <td>NaN</td>\n",
       "      <td>NaN</td>\n",
       "    </tr>\n",
       "  </tbody>\n",
       "</table>\n",
       "</div>"
      ],
      "text/plain": [
       "                  df         sum_sq     mean_sq         F        PR(>F)\n",
       "C(OPCS_DESC)    10.0    6291.196522  629.119652  5.408736  7.204892e-08\n",
       "Residual      1197.0  139229.608114  116.315462       NaN           NaN"
      ]
     },
     "execution_count": 67,
     "metadata": {},
     "output_type": "execute_result"
    }
   ],
   "source": [
    "OP_aov = ols('LOS~C(OPCS_DESC)', data=df).fit()\n",
    "anova_lm(OP_aov)"
   ]
  },
  {
   "cell_type": "code",
   "execution_count": 68,
   "id": "03fc2d1b",
   "metadata": {},
   "outputs": [
    {
     "data": {
      "image/png": "[encoded data removed]",
      "text/plain": [
       "<Figure size 432x288 with 1 Axes>"
      ]
     },
     "execution_count": 68,
     "metadata": {},
     "output_type": "execute_result"
    },
    {
     "data": {
      "image/png": "[encoded data removed]",
      "text/plain": [
       "<Figure size 432x288 with 1 Axes>"
      ]
     },
     "metadata": {
      "needs_background": "light"
     },
     "output_type": "display_data"
    }
   ],
   "source": [
    "qqplot(OP_aov.resid, line ='s')"
   ]
  },
  {
   "cell_type": "code",
   "execution_count": 69,
   "id": "6d42ad08",
   "metadata": {},
   "outputs": [
    {
     "data": {
      "text/plain": [
       "ShapiroResult(statistic=0.8304665088653564, pvalue=6.104115330144629e-34)"
      ]
     },
     "execution_count": 69,
     "metadata": {},
     "output_type": "execute_result"
    }
   ],
   "source": [
    "shapiro(OP_aov.resid)"
   ]
  },
  {
   "cell_type": "code",
   "execution_count": 70,
   "id": "153f6dd6",
   "metadata": {},
   "outputs": [
    {
     "data": {
      "text/plain": [
       "Text(0, 0.5, 'Residuals')"
      ]
     },
     "execution_count": 70,
     "metadata": {},
     "output_type": "execute_result"
    },
    {
     "data": {
      "image/png": "[encoded data removed]",
      "text/plain": [
       "<Figure size 432x288 with 1 Axes>"
      ]
     },
     "metadata": {
      "needs_background": "light"
     },
     "output_type": "display_data"
    }
   ],
   "source": [
    "plt.scatter(OP_aov.fittedvalues ,Cancer_aov.resid)\n",
    "plt.axhline(y=0)\n",
    "plt.xlabel('Fitted Values')\n",
    "plt.ylabel('Residuals')"
   ]
  },
  {
   "cell_type": "code",
   "execution_count": 71,
   "id": "b9ff8d32",
   "metadata": {},
   "outputs": [
    {
     "data": {
      "text/plain": [
       "Text(0, 0.5, \"Cook's DIstance\")"
      ]
     },
     "execution_count": 71,
     "metadata": {},
     "output_type": "execute_result"
    },
    {
     "data": {
      "image/png": "[encoded data removed]",
      "text/plain": [
       "<Figure size 432x288 with 1 Axes>"
      ]
     },
     "metadata": {
      "needs_background": "light"
     },
     "output_type": "display_data"
    }
   ],
   "source": [
    "cooks = OP_aov.get_influence().cooks_distance[0] \n",
    "plt.stem(range(len(cooks)),cooks)\n",
    "plt.xlabel('Observation Number')\n",
    "plt.ylabel(\"Cook's DIstance\")"
   ]
  },
  {
   "cell_type": "code",
   "execution_count": 74,
   "id": "d8d367b0",
   "metadata": {},
   "outputs": [
    {
     "name": "stdout",
     "output_type": "stream",
     "text": [
      "                                                                        Multiple Comparison of Means - Tukey HSD, FWER=0.05                                                                        \n",
      "===================================================================================================================================================================================================\n",
      "                                    group1                                                                        group2                                    meandiff p-adj   lower    upper  reject\n",
      "---------------------------------------------------------------------------------------------------------------------------------------------------------------------------------------------------\n",
      "                                 CLOSED REDUCTION INSERTION DYNAMIC HIP SCREW                                                 HEMIARTHROPLASTY HIP CANNULOK  13.8466 0.7487 -10.8774 38.5705  False\n",
      "                                 CLOSED REDUCTION INSERTION DYNAMIC HIP SCREW                               HEMIARTHROPLASTY HIP CEMENTED USING EXETER STEM   0.0377    0.9  -3.0226  3.0981  False\n",
      "                                 CLOSED REDUCTION INSERTION DYNAMIC HIP SCREW                        HEMIARTHROPLASTY HIP CEMENTED USING EXETER TRAUMA STEM   1.6046    0.9  -2.4149  5.6242  False\n",
      "                                 CLOSED REDUCTION INSERTION DYNAMIC HIP SCREW                                        OPEN REDUCTION INTERNAL FIXATION FEMUR  -0.4868    0.9 -10.8411  9.8676  False\n",
      "                                 CLOSED REDUCTION INSERTION DYNAMIC HIP SCREW                       OPEN REDUCTION INTERNAL FIXATION FEMUR USING RIGID NAIL  -0.8327    0.9  -6.2388  4.5734  False\n",
      "                                 CLOSED REDUCTION INSERTION DYNAMIC HIP SCREW        OPEN REDUCTION INTERNAL FIXATION FRACTURE NECK OF FEMUR WITH HIP SCREW  -0.9741    0.9  -4.1487  2.2004  False\n",
      "                                 CLOSED REDUCTION INSERTION DYNAMIC HIP SCREW OPEN REDUCTION INTERNAL FIXATION TROCHANTERIC FRACTURE FEMUR USING RIGID NAIL  -0.8677    0.9 -14.2551 12.5196  False\n",
      "                                 CLOSED REDUCTION INSERTION DYNAMIC HIP SCREW                                                         TOTAL HIP REPLACEMENT  -7.7663  0.001 -12.8568 -2.6759   True\n",
      "                                 CLOSED REDUCTION INSERTION DYNAMIC HIP SCREW                                                TOTAL HIP REPLACEMENT CEMENTED -10.0482 0.0054 -18.4191 -1.6773   True\n",
      "                                 CLOSED REDUCTION INSERTION DYNAMIC HIP SCREW                                  TOTAL HIP REPLACEMENT EXETER CUP EXETER STEM  -6.8201    0.9 -27.0599 13.4197  False\n",
      "                                                HEMIARTHROPLASTY HIP CANNULOK                               HEMIARTHROPLASTY HIP CEMENTED USING EXETER STEM -13.8088 0.7486 -38.4632 10.8455  False\n",
      "                                                HEMIARTHROPLASTY HIP CANNULOK                        HEMIARTHROPLASTY HIP CEMENTED USING EXETER TRAUMA STEM -12.2419 0.8813 -37.0336 12.5498  False\n",
      "                                                HEMIARTHROPLASTY HIP CANNULOK                                        OPEN REDUCTION INTERNAL FIXATION FEMUR -14.3333 0.7897 -40.8981 12.2314  False\n",
      "                                                HEMIARTHROPLASTY HIP CANNULOK                       OPEN REDUCTION INTERNAL FIXATION FEMUR USING RIGID NAIL -14.6792  0.697 -39.7331 10.3747  False\n",
      "                                                HEMIARTHROPLASTY HIP CANNULOK        OPEN REDUCTION INTERNAL FIXATION FRACTURE NECK OF FEMUR WITH HIP SCREW -14.8207 0.6672 -39.4895  9.8481  False\n",
      "                                                HEMIARTHROPLASTY HIP CANNULOK OPEN REDUCTION INTERNAL FIXATION TROCHANTERIC FRACTURE FEMUR USING RIGID NAIL -14.7143 0.8136 -42.6014 13.1729  False\n",
      "                                                HEMIARTHROPLASTY HIP CANNULOK                                                         TOTAL HIP REPLACEMENT -21.6129 0.1635 -46.6006  3.3748  False\n",
      "                                                HEMIARTHROPLASTY HIP CANNULOK                                                TOTAL HIP REPLACEMENT CEMENTED -23.8947 0.1005 -49.7509  1.9615  False\n",
      "                                                HEMIARTHROPLASTY HIP CANNULOK                                  TOTAL HIP REPLACEMENT EXETER CUP EXETER STEM -20.6667  0.567 -52.4176 11.0842  False\n",
      "                              HEMIARTHROPLASTY HIP CEMENTED USING EXETER STEM                        HEMIARTHROPLASTY HIP CEMENTED USING EXETER TRAUMA STEM   1.5669    0.9  -1.9998  5.1335  False\n",
      "                              HEMIARTHROPLASTY HIP CEMENTED USING EXETER STEM                                        OPEN REDUCTION INTERNAL FIXATION FEMUR  -0.5245    0.9 -10.7116  9.6626  False\n",
      "                              HEMIARTHROPLASTY HIP CEMENTED USING EXETER STEM                       OPEN REDUCTION INTERNAL FIXATION FEMUR USING RIGID NAIL  -0.8704    0.9  -5.9488   4.208  False\n",
      "                              HEMIARTHROPLASTY HIP CEMENTED USING EXETER STEM        OPEN REDUCTION INTERNAL FIXATION FRACTURE NECK OF FEMUR WITH HIP SCREW  -1.0118    0.9  -3.5891  1.5654  False\n",
      "                              HEMIARTHROPLASTY HIP CEMENTED USING EXETER STEM OPEN REDUCTION INTERNAL FIXATION TROCHANTERIC FRACTURE FEMUR USING RIGID NAIL  -0.9055    0.9 -14.1639  12.353  False\n",
      "                              HEMIARTHROPLASTY HIP CEMENTED USING EXETER STEM                                                         TOTAL HIP REPLACEMENT  -7.8041  0.001 -12.5451 -3.0631   True\n",
      "                              HEMIARTHROPLASTY HIP CEMENTED USING EXETER STEM                                                TOTAL HIP REPLACEMENT CEMENTED -10.0859 0.0035  -18.249 -1.9228   True\n",
      "                              HEMIARTHROPLASTY HIP CEMENTED USING EXETER STEM                                  TOTAL HIP REPLACEMENT EXETER CUP EXETER STEM  -6.8578    0.9 -27.0126 13.2969  False\n",
      "                       HEMIARTHROPLASTY HIP CEMENTED USING EXETER TRAUMA STEM                                        OPEN REDUCTION INTERNAL FIXATION FEMUR  -2.0914    0.9 -12.6065  8.4237  False\n",
      "                       HEMIARTHROPLASTY HIP CEMENTED USING EXETER TRAUMA STEM                       OPEN REDUCTION INTERNAL FIXATION FEMUR USING RIGID NAIL  -2.4373    0.9  -8.1453  3.2707  False\n",
      "                       HEMIARTHROPLASTY HIP CEMENTED USING EXETER TRAUMA STEM        OPEN REDUCTION INTERNAL FIXATION FRACTURE NECK OF FEMUR WITH HIP SCREW  -2.5787 0.4593  -6.2438  1.0864  False\n",
      "                       HEMIARTHROPLASTY HIP CEMENTED USING EXETER TRAUMA STEM OPEN REDUCTION INTERNAL FIXATION TROCHANTERIC FRACTURE FEMUR USING RIGID NAIL  -2.4724    0.9 -15.9844 11.0397  False\n",
      "                       HEMIARTHROPLASTY HIP CEMENTED USING EXETER TRAUMA STEM                                                         TOTAL HIP REPLACEMENT   -9.371  0.001  -14.781  -3.961   True\n",
      "                       HEMIARTHROPLASTY HIP CEMENTED USING EXETER TRAUMA STEM                                                TOTAL HIP REPLACEMENT CEMENTED -11.6528  0.001 -20.2217 -3.0839   True\n",
      "                       HEMIARTHROPLASTY HIP CEMENTED USING EXETER TRAUMA STEM                                  TOTAL HIP REPLACEMENT EXETER CUP EXETER STEM  -8.4247    0.9 -28.7472 11.8978  False\n",
      "                                       OPEN REDUCTION INTERNAL FIXATION FEMUR                       OPEN REDUCTION INTERNAL FIXATION FEMUR USING RIGID NAIL  -0.3459    0.9 -11.4651 10.7733  False\n",
      "                                       OPEN REDUCTION INTERNAL FIXATION FEMUR        OPEN REDUCTION INTERNAL FIXATION FRACTURE NECK OF FEMUR WITH HIP SCREW  -0.4873    0.9 -10.7093  9.7347  False\n",
      "                                       OPEN REDUCTION INTERNAL FIXATION FEMUR OPEN REDUCTION INTERNAL FIXATION TROCHANTERIC FRACTURE FEMUR USING RIGID NAIL   -0.381    0.9 -16.9228 16.1609  False\n",
      "                                       OPEN REDUCTION INTERNAL FIXATION FEMUR                                                         TOTAL HIP REPLACEMENT  -7.2796 0.5415 -18.2488  3.6897  False\n",
      "                                       OPEN REDUCTION INTERNAL FIXATION FEMUR                                                TOTAL HIP REPLACEMENT CEMENTED  -9.5614 0.3663 -22.3865  3.2637  False\n",
      "                                       OPEN REDUCTION INTERNAL FIXATION FEMUR                                  TOTAL HIP REPLACEMENT EXETER CUP EXETER STEM  -6.3333    0.9 -28.7846  16.118  False\n",
      "                      OPEN REDUCTION INTERNAL FIXATION FEMUR USING RIGID NAIL        OPEN REDUCTION INTERNAL FIXATION FRACTURE NECK OF FEMUR WITH HIP SCREW  -0.1414    0.9  -5.2895  5.0066  False\n",
      "                      OPEN REDUCTION INTERNAL FIXATION FEMUR USING RIGID NAIL OPEN REDUCTION INTERNAL FIXATION TROCHANTERIC FRACTURE FEMUR USING RIGID NAIL   -0.035    0.9 -14.0224 13.9523  False\n",
      "                      OPEN REDUCTION INTERNAL FIXATION FEMUR USING RIGID NAIL                                                         TOTAL HIP REPLACEMENT  -6.9337 0.0256 -13.4404 -0.4269   True\n",
      "                      OPEN REDUCTION INTERNAL FIXATION FEMUR USING RIGID NAIL                                                TOTAL HIP REPLACEMENT CEMENTED  -9.2155 0.0547 -18.5158  0.0848  False\n",
      "                      OPEN REDUCTION INTERNAL FIXATION FEMUR USING RIGID NAIL                                  TOTAL HIP REPLACEMENT EXETER CUP EXETER STEM  -5.9874    0.9  -26.629 14.6541  False\n",
      "       OPEN REDUCTION INTERNAL FIXATION FRACTURE NECK OF FEMUR WITH HIP SCREW OPEN REDUCTION INTERNAL FIXATION TROCHANTERIC FRACTURE FEMUR USING RIGID NAIL   0.1064    0.9 -13.1789 13.3916  False\n",
      "       OPEN REDUCTION INTERNAL FIXATION FRACTURE NECK OF FEMUR WITH HIP SCREW                                                         TOTAL HIP REPLACEMENT  -6.7922  0.001 -11.6077 -1.9767   True\n",
      "       OPEN REDUCTION INTERNAL FIXATION FRACTURE NECK OF FEMUR WITH HIP SCREW                                                TOTAL HIP REPLACEMENT CEMENTED  -9.0741 0.0165 -17.2806 -0.8675   True\n",
      "       OPEN REDUCTION INTERNAL FIXATION FRACTURE NECK OF FEMUR WITH HIP SCREW                                  TOTAL HIP REPLACEMENT EXETER CUP EXETER STEM   -5.846    0.9 -26.0184 14.3264  False\n",
      "OPEN REDUCTION INTERNAL FIXATION TROCHANTERIC FRACTURE FEMUR USING RIGID NAIL                                                         TOTAL HIP REPLACEMENT  -6.8986  0.874  -20.767  6.9698  False\n",
      "OPEN REDUCTION INTERNAL FIXATION TROCHANTERIC FRACTURE FEMUR USING RIGID NAIL                                                TOTAL HIP REPLACEMENT CEMENTED  -9.1805 0.6748 -24.5587  6.1978  False\n",
      "OPEN REDUCTION INTERNAL FIXATION TROCHANTERIC FRACTURE FEMUR USING RIGID NAIL                                  TOTAL HIP REPLACEMENT EXETER CUP EXETER STEM  -5.9524    0.9 -29.9538 18.0491  False\n",
      "                                                        TOTAL HIP REPLACEMENT                                                TOTAL HIP REPLACEMENT CEMENTED  -2.2818    0.9 -11.4023  6.8386  False\n",
      "                                                        TOTAL HIP REPLACEMENT                                  TOTAL HIP REPLACEMENT EXETER CUP EXETER STEM   0.9462    0.9 -19.6149 21.5074  False\n",
      "                                               TOTAL HIP REPLACEMENT CEMENTED                                  TOTAL HIP REPLACEMENT EXETER CUP EXETER STEM   3.2281    0.9 -18.3802 24.8364  False\n",
      "---------------------------------------------------------------------------------------------------------------------------------------------------------------------------------------------------\n"
     ]
    }
   ],
   "source": [
    "mc = MultiComparison(df.LOS, df.OPCS_DESC)\n",
    "mc_results = mc.tukeyhsd()\n",
    "print(mc_results)"
   ]
  },
  {
   "cell_type": "code",
   "execution_count": 79,
   "id": "912ef11c",
   "metadata": {},
   "outputs": [],
   "source": [
    "## Gender Vs LOS"
   ]
  },
  {
   "cell_type": "code",
   "execution_count": 80,
   "id": "2e10469a",
   "metadata": {},
   "outputs": [
    {
     "data": {
      "text/html": [
       "<div>\n",
       "<style scoped>\n",
       "    .dataframe tbody tr th:only-of-type {\n",
       "        vertical-align: middle;\n",
       "    }\n",
       "\n",
       "    .dataframe tbody tr th {\n",
       "        vertical-align: top;\n",
       "    }\n",
       "\n",
       "    .dataframe thead th {\n",
       "        text-align: right;\n",
       "    }\n",
       "</style>\n",
       "<table border=\"1\" class=\"dataframe\">\n",
       "  <thead>\n",
       "    <tr style=\"text-align: right;\">\n",
       "      <th>GENDER</th>\n",
       "      <th>1</th>\n",
       "      <th>2</th>\n",
       "    </tr>\n",
       "  </thead>\n",
       "  <tbody>\n",
       "    <tr>\n",
       "      <th>0</th>\n",
       "      <td>15.0</td>\n",
       "      <td>NaN</td>\n",
       "    </tr>\n",
       "    <tr>\n",
       "      <th>1</th>\n",
       "      <td>NaN</td>\n",
       "      <td>34.0</td>\n",
       "    </tr>\n",
       "    <tr>\n",
       "      <th>2</th>\n",
       "      <td>NaN</td>\n",
       "      <td>34.0</td>\n",
       "    </tr>\n",
       "    <tr>\n",
       "      <th>3</th>\n",
       "      <td>NaN</td>\n",
       "      <td>2.0</td>\n",
       "    </tr>\n",
       "    <tr>\n",
       "      <th>4</th>\n",
       "      <td>NaN</td>\n",
       "      <td>5.0</td>\n",
       "    </tr>\n",
       "    <tr>\n",
       "      <th>...</th>\n",
       "      <td>...</td>\n",
       "      <td>...</td>\n",
       "    </tr>\n",
       "    <tr>\n",
       "      <th>1203</th>\n",
       "      <td>17.0</td>\n",
       "      <td>NaN</td>\n",
       "    </tr>\n",
       "    <tr>\n",
       "      <th>1204</th>\n",
       "      <td>NaN</td>\n",
       "      <td>16.0</td>\n",
       "    </tr>\n",
       "    <tr>\n",
       "      <th>1205</th>\n",
       "      <td>NaN</td>\n",
       "      <td>9.0</td>\n",
       "    </tr>\n",
       "    <tr>\n",
       "      <th>1206</th>\n",
       "      <td>NaN</td>\n",
       "      <td>7.0</td>\n",
       "    </tr>\n",
       "    <tr>\n",
       "      <th>1207</th>\n",
       "      <td>NaN</td>\n",
       "      <td>9.0</td>\n",
       "    </tr>\n",
       "  </tbody>\n",
       "</table>\n",
       "<p>1208 rows × 2 columns</p>\n",
       "</div>"
      ],
      "text/plain": [
       "GENDER     1     2\n",
       "0       15.0   NaN\n",
       "1        NaN  34.0\n",
       "2        NaN  34.0\n",
       "3        NaN   2.0\n",
       "4        NaN   5.0\n",
       "...      ...   ...\n",
       "1203    17.0   NaN\n",
       "1204     NaN  16.0\n",
       "1205     NaN   9.0\n",
       "1206     NaN   7.0\n",
       "1207     NaN   9.0\n",
       "\n",
       "[1208 rows x 2 columns]"
      ]
     },
     "execution_count": 80,
     "metadata": {},
     "output_type": "execute_result"
    }
   ],
   "source": [
    "GenderDF = df.pivot(columns = 'GENDER', values = 'LOS')\n",
    "GenderDF"
   ]
  },
  {
   "cell_type": "code",
   "execution_count": 81,
   "id": "2f3905f0",
   "metadata": {},
   "outputs": [
    {
     "data": {
      "text/plain": [
       "<AxesSubplot:>"
      ]
     },
     "execution_count": 81,
     "metadata": {},
     "output_type": "execute_result"
    },
    {
     "data": {
      "image/png": "[encoded data removed]",
      "text/plain": [
       "<Figure size 432x288 with 1 Axes>"
      ]
     },
     "metadata": {
      "needs_background": "light"
     },
     "output_type": "display_data"
    }
   ],
   "source": [
    "GenderDF.boxplot()"
   ]
  },
  {
   "cell_type": "code",
   "execution_count": 82,
   "id": "91c83bd2",
   "metadata": {},
   "outputs": [
    {
     "data": {
      "text/html": [
       "<div>\n",
       "<style scoped>\n",
       "    .dataframe tbody tr th:only-of-type {\n",
       "        vertical-align: middle;\n",
       "    }\n",
       "\n",
       "    .dataframe tbody tr th {\n",
       "        vertical-align: top;\n",
       "    }\n",
       "\n",
       "    .dataframe thead th {\n",
       "        text-align: right;\n",
       "    }\n",
       "</style>\n",
       "<table border=\"1\" class=\"dataframe\">\n",
       "  <thead>\n",
       "    <tr style=\"text-align: right;\">\n",
       "      <th>GENDER</th>\n",
       "      <th>1</th>\n",
       "      <th>2</th>\n",
       "    </tr>\n",
       "  </thead>\n",
       "  <tbody>\n",
       "    <tr>\n",
       "      <th>count</th>\n",
       "      <td>362.000000</td>\n",
       "      <td>846.000000</td>\n",
       "    </tr>\n",
       "    <tr>\n",
       "      <th>mean</th>\n",
       "      <td>15.867403</td>\n",
       "      <td>15.297872</td>\n",
       "    </tr>\n",
       "    <tr>\n",
       "      <th>std</th>\n",
       "      <td>11.758846</td>\n",
       "      <td>10.632257</td>\n",
       "    </tr>\n",
       "    <tr>\n",
       "      <th>min</th>\n",
       "      <td>0.000000</td>\n",
       "      <td>2.000000</td>\n",
       "    </tr>\n",
       "    <tr>\n",
       "      <th>25%</th>\n",
       "      <td>8.250000</td>\n",
       "      <td>8.000000</td>\n",
       "    </tr>\n",
       "    <tr>\n",
       "      <th>50%</th>\n",
       "      <td>13.000000</td>\n",
       "      <td>12.000000</td>\n",
       "    </tr>\n",
       "    <tr>\n",
       "      <th>75%</th>\n",
       "      <td>19.000000</td>\n",
       "      <td>19.000000</td>\n",
       "    </tr>\n",
       "    <tr>\n",
       "      <th>max</th>\n",
       "      <td>88.000000</td>\n",
       "      <td>67.000000</td>\n",
       "    </tr>\n",
       "  </tbody>\n",
       "</table>\n",
       "</div>"
      ],
      "text/plain": [
       "GENDER           1           2\n",
       "count   362.000000  846.000000\n",
       "mean     15.867403   15.297872\n",
       "std      11.758846   10.632257\n",
       "min       0.000000    2.000000\n",
       "25%       8.250000    8.000000\n",
       "50%      13.000000   12.000000\n",
       "75%      19.000000   19.000000\n",
       "max      88.000000   67.000000"
      ]
     },
     "execution_count": 82,
     "metadata": {},
     "output_type": "execute_result"
    }
   ],
   "source": [
    "GenderDF.describe()"
   ]
  },
  {
   "cell_type": "code",
   "execution_count": 83,
   "id": "c8aa4df8",
   "metadata": {},
   "outputs": [
    {
     "data": {
      "text/html": [
       "<div>\n",
       "<style scoped>\n",
       "    .dataframe tbody tr th:only-of-type {\n",
       "        vertical-align: middle;\n",
       "    }\n",
       "\n",
       "    .dataframe tbody tr th {\n",
       "        vertical-align: top;\n",
       "    }\n",
       "\n",
       "    .dataframe thead th {\n",
       "        text-align: right;\n",
       "    }\n",
       "</style>\n",
       "<table border=\"1\" class=\"dataframe\">\n",
       "  <thead>\n",
       "    <tr style=\"text-align: right;\">\n",
       "      <th></th>\n",
       "      <th>df</th>\n",
       "      <th>sum_sq</th>\n",
       "      <th>mean_sq</th>\n",
       "      <th>F</th>\n",
       "      <th>PR(&gt;F)</th>\n",
       "    </tr>\n",
       "  </thead>\n",
       "  <tbody>\n",
       "    <tr>\n",
       "      <th>C(GENDER)</th>\n",
       "      <td>1.0</td>\n",
       "      <td>82.233106</td>\n",
       "      <td>82.233106</td>\n",
       "      <td>0.68189</td>\n",
       "      <td>0.4091</td>\n",
       "    </tr>\n",
       "    <tr>\n",
       "      <th>Residual</th>\n",
       "      <td>1206.0</td>\n",
       "      <td>145438.571529</td>\n",
       "      <td>120.595830</td>\n",
       "      <td>NaN</td>\n",
       "      <td>NaN</td>\n",
       "    </tr>\n",
       "  </tbody>\n",
       "</table>\n",
       "</div>"
      ],
      "text/plain": [
       "               df         sum_sq     mean_sq        F  PR(>F)\n",
       "C(GENDER)     1.0      82.233106   82.233106  0.68189  0.4091\n",
       "Residual   1206.0  145438.571529  120.595830      NaN     NaN"
      ]
     },
     "execution_count": 83,
     "metadata": {},
     "output_type": "execute_result"
    }
   ],
   "source": [
    "GenderDF_aov = ols('LOS~C(GENDER)', data=df).fit()\n",
    "anova_lm(GenderDF_aov)\n",
    "#No Significant Differece therefore dont need to continue any further"
   ]
  },
  {
   "cell_type": "code",
   "execution_count": 101,
   "id": "718891ce",
   "metadata": {},
   "outputs": [],
   "source": [
    "Male = GenderDF[1].dropna()\n",
    "Female = GenderDF[2].dropna()"
   ]
  },
  {
   "cell_type": "code",
   "execution_count": 102,
   "id": "09b77172",
   "metadata": {},
   "outputs": [
    {
     "data": {
      "text/plain": [
       "ShapiroResult(statistic=0.8282862305641174, pvalue=4.138781529420884e-34)"
      ]
     },
     "execution_count": 102,
     "metadata": {},
     "output_type": "execute_result"
    }
   ],
   "source": [
    "shapiro(GenderDF_aov.resid)"
   ]
  },
  {
   "cell_type": "code",
   "execution_count": 103,
   "id": "ba192655",
   "metadata": {},
   "outputs": [
    {
     "data": {
      "text/plain": [
       "ShapiroResult(statistic=0.7836037278175354, pvalue=1.4152737163355525e-21)"
      ]
     },
     "execution_count": 103,
     "metadata": {},
     "output_type": "execute_result"
    }
   ],
   "source": [
    "shapiro(Male)"
   ]
  },
  {
   "cell_type": "code",
   "execution_count": 104,
   "id": "165be9f5",
   "metadata": {},
   "outputs": [
    {
     "data": {
      "text/plain": [
       "ShapiroResult(statistic=0.8468911051750183, pvalue=8.418588380236542e-28)"
      ]
     },
     "execution_count": 104,
     "metadata": {},
     "output_type": "execute_result"
    }
   ],
   "source": [
    "shapiro(Female)"
   ]
  },
  {
   "cell_type": "code",
   "execution_count": 105,
   "id": "99459b5c",
   "metadata": {},
   "outputs": [
    {
     "data": {
      "image/png": "[encoded data removed]",
      "text/plain": [
       "<Figure size 432x288 with 1 Axes>"
      ]
     },
     "execution_count": 105,
     "metadata": {},
     "output_type": "execute_result"
    },
    {
     "data": {
      "image/png": "[encoded data removed]",
      "text/plain": [
       "<Figure size 432x288 with 1 Axes>"
      ]
     },
     "metadata": {
      "needs_background": "light"
     },
     "output_type": "display_data"
    }
   ],
   "source": [
    "qqplot(GenderDF_aov.resid, line ='s')"
   ]
  },
  {
   "cell_type": "code",
   "execution_count": 106,
   "id": "5dab496e",
   "metadata": {},
   "outputs": [
    {
     "data": {
      "image/png": "[encoded data removed]",
      "text/plain": [
       "<Figure size 432x288 with 1 Axes>"
      ]
     },
     "execution_count": 106,
     "metadata": {},
     "output_type": "execute_result"
    },
    {
     "data": {
      "image/png": "[encoded data removed]",
      "text/plain": [
       "<Figure size 432x288 with 1 Axes>"
      ]
     },
     "metadata": {
      "needs_background": "light"
     },
     "output_type": "display_data"
    }
   ],
   "source": [
    "qqplot(Male, line ='s')"
   ]
  },
  {
   "cell_type": "code",
   "execution_count": 107,
   "id": "9c549b26",
   "metadata": {},
   "outputs": [
    {
     "data": {
      "image/png": "[encoded data removed]",
      "text/plain": [
       "<Figure size 432x288 with 1 Axes>"
      ]
     },
     "execution_count": 107,
     "metadata": {},
     "output_type": "execute_result"
    },
    {
     "data": {
      "image/png": "[encoded data removed]",
      "text/plain": [
       "<Figure size 432x288 with 1 Axes>"
      ]
     },
     "metadata": {
      "needs_background": "light"
     },
     "output_type": "display_data"
    }
   ],
   "source": [
    "qqplot(Female, line ='s')"
   ]
  },
  {
   "cell_type": "code",
   "execution_count": 108,
   "id": "9a0743bc",
   "metadata": {},
   "outputs": [
    {
     "data": {
      "text/plain": [
       "BartlettResult(statistic=5.259094634806171, pvalue=0.021832373174482972)"
      ]
     },
     "execution_count": 108,
     "metadata": {},
     "output_type": "execute_result"
    }
   ],
   "source": [
    "bartlett(Male, Female)"
   ]
  },
  {
   "cell_type": "code",
   "execution_count": 109,
   "id": "b5bfebd1",
   "metadata": {},
   "outputs": [
    {
     "data": {
      "text/plain": [
       "Text(0, 0.5, 'Residuals')"
      ]
     },
     "execution_count": 109,
     "metadata": {},
     "output_type": "execute_result"
    },
    {
     "data": {
      "image/png": "[encoded data removed]",
      "text/plain": [
       "<Figure size 432x288 with 1 Axes>"
      ]
     },
     "metadata": {
      "needs_background": "light"
     },
     "output_type": "display_data"
    }
   ],
   "source": [
    "plt.scatter(GenderDF_aov.fittedvalues ,GenderDF_aov.resid)\n",
    "plt.axhline(y=0)\n",
    "plt.xlabel('Fitted Values')\n",
    "plt.ylabel('Residuals')"
   ]
  },
  {
   "cell_type": "code",
   "execution_count": 110,
   "id": "e7239b86",
   "metadata": {},
   "outputs": [
    {
     "data": {
      "text/plain": [
       "Text(0, 0.5, \"Cook's DIstance\")"
      ]
     },
     "execution_count": 110,
     "metadata": {},
     "output_type": "execute_result"
    },
    {
     "data": {
      "image/png": "[encoded data removed]",
      "text/plain": [
       "<Figure size 432x288 with 1 Axes>"
      ]
     },
     "metadata": {
      "needs_background": "light"
     },
     "output_type": "display_data"
    }
   ],
   "source": [
    "cooks = GenderDF_aov.get_influence().cooks_distance[0] \n",
    "plt.stem(range(len(cooks)),cooks)\n",
    "plt.xlabel('Observation Number')\n",
    "plt.ylabel(\"Cook's DIstance\")"
   ]
  },
  {
   "cell_type": "code",
   "execution_count": null,
   "id": "5ede8a8f",
   "metadata": {},
   "outputs": [],
   "source": []
  },
  {
   "cell_type": "code",
   "execution_count": null,
   "id": "e258e663",
   "metadata": {},
   "outputs": [],
   "source": []
  },
  {
   "cell_type": "code",
   "execution_count": null,
   "id": "7f4ec94e",
   "metadata": {},
   "outputs": [],
   "source": []
  }
 ],
 "metadata": {
  "kernelspec": {
   "display_name": "Python 3",
   "language": "python",
   "name": "python3"
  },
  "language_info": {
   "codemirror_mode": {
    "name": "ipython",
    "version": 3
   },
   "file_extension": ".py",
   "mimetype": "text/x-python",
   "name": "python",
   "nbconvert_exporter": "python",
   "pygments_lexer": "ipython3",
   "version": "3.8.8"
  }
 },
 "nbformat": 4,
 "nbformat_minor": 5
}
