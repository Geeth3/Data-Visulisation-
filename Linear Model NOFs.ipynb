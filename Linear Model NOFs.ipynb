{
 "cells": [
  {
   "cell_type": "code",
   "execution_count": 1,
   "id": "2058db54",
   "metadata": {},
   "outputs": [],
   "source": [
    "import pandas as pd \n",
    "import matplotlib.pyplot as plt \n",
    "from statsmodels.graphics.factorplots import interaction_plot\n",
    "from statsmodels.formula.api import ols\n",
    "from statsmodels.graphics.gofplots import qqplot"
   ]
  },
  {
   "cell_type": "code",
   "execution_count": 2,
   "id": "e696615b",
   "metadata": {},
   "outputs": [
    {
     "data": {
      "text/html": [
       "<div>\n",
       "<style scoped>\n",
       "    .dataframe tbody tr th:only-of-type {\n",
       "        vertical-align: middle;\n",
       "    }\n",
       "\n",
       "    .dataframe tbody tr th {\n",
       "        vertical-align: top;\n",
       "    }\n",
       "\n",
       "    .dataframe thead th {\n",
       "        text-align: right;\n",
       "    }\n",
       "</style>\n",
       "<table border=\"1\" class=\"dataframe\">\n",
       "  <thead>\n",
       "    <tr style=\"text-align: right;\">\n",
       "      <th></th>\n",
       "      <th>Unnamed: 0</th>\n",
       "      <th>Unnamed: 0.1</th>\n",
       "      <th>ADMID</th>\n",
       "      <th>PATIENTID</th>\n",
       "      <th>Average_Age</th>\n",
       "      <th>PROBLEM</th>\n",
       "      <th>PROB_NAME</th>\n",
       "      <th>ADM_DATE</th>\n",
       "      <th>DIS_DATE</th>\n",
       "      <th>LOS</th>\n",
       "      <th>...</th>\n",
       "      <th>Ionised calcium</th>\n",
       "      <th>Lactate</th>\n",
       "      <th>White cell</th>\n",
       "      <th>DBP</th>\n",
       "      <th>HEIGHT</th>\n",
       "      <th>HR</th>\n",
       "      <th>O2SAT</th>\n",
       "      <th>RR</th>\n",
       "      <th>SBP</th>\n",
       "      <th>WEIGHT</th>\n",
       "    </tr>\n",
       "  </thead>\n",
       "  <tbody>\n",
       "    <tr>\n",
       "      <th>0</th>\n",
       "      <td>0</td>\n",
       "      <td>0</td>\n",
       "      <td>566AF9016D2E9318EA7A3B3B8EF4441ABFE079F185CDB2...</td>\n",
       "      <td>3AB8F46DDDA4CC8466E3146BB26D8B5BD9E3B72D64EF22...</td>\n",
       "      <td>92</td>\n",
       "      <td>700097003.0</td>\n",
       "      <td>Hip fracture</td>\n",
       "      <td>35550</td>\n",
       "      <td>35565</td>\n",
       "      <td>15</td>\n",
       "      <td>...</td>\n",
       "      <td>1.220000</td>\n",
       "      <td>2.200000</td>\n",
       "      <td>12.270000</td>\n",
       "      <td>64.0</td>\n",
       "      <td>67.200000</td>\n",
       "      <td>80.0</td>\n",
       "      <td>96.0</td>\n",
       "      <td>14.0</td>\n",
       "      <td>141.0</td>\n",
       "      <td>69.999200</td>\n",
       "    </tr>\n",
       "    <tr>\n",
       "      <th>1</th>\n",
       "      <td>1</td>\n",
       "      <td>1</td>\n",
       "      <td>9997C278C602FABFE2BBDFAB818D67EF9C940418C75763...</td>\n",
       "      <td>D10067B6DE953CD140EBEFCEE70698B0CAEFF1BB557252...</td>\n",
       "      <td>82</td>\n",
       "      <td>700097003.0</td>\n",
       "      <td>Hip fracture</td>\n",
       "      <td>31824</td>\n",
       "      <td>31858</td>\n",
       "      <td>34</td>\n",
       "      <td>...</td>\n",
       "      <td>1.172366</td>\n",
       "      <td>1.787164</td>\n",
       "      <td>10.382805</td>\n",
       "      <td>62.0</td>\n",
       "      <td>62.008000</td>\n",
       "      <td>90.0</td>\n",
       "      <td>96.0</td>\n",
       "      <td>15.0</td>\n",
       "      <td>114.0</td>\n",
       "      <td>63.219396</td>\n",
       "    </tr>\n",
       "    <tr>\n",
       "      <th>2</th>\n",
       "      <td>2</td>\n",
       "      <td>2</td>\n",
       "      <td>9997C278C602FABFE2BBDFAB818D67EF9C940418C75763...</td>\n",
       "      <td>D10067B6DE953CD140EBEFCEE70698B0CAEFF1BB557252...</td>\n",
       "      <td>82</td>\n",
       "      <td>5913000.0</td>\n",
       "      <td>Fracture of neck of left femur</td>\n",
       "      <td>31824</td>\n",
       "      <td>31858</td>\n",
       "      <td>34</td>\n",
       "      <td>...</td>\n",
       "      <td>1.172366</td>\n",
       "      <td>1.787164</td>\n",
       "      <td>10.382805</td>\n",
       "      <td>62.0</td>\n",
       "      <td>62.008000</td>\n",
       "      <td>90.0</td>\n",
       "      <td>96.0</td>\n",
       "      <td>15.0</td>\n",
       "      <td>114.0</td>\n",
       "      <td>63.219396</td>\n",
       "    </tr>\n",
       "    <tr>\n",
       "      <th>3</th>\n",
       "      <td>3</td>\n",
       "      <td>3</td>\n",
       "      <td>A53241F3859B28AC2E43A68B8B24BE5806EA1341B1D16D...</td>\n",
       "      <td>4801FB1837D0F9A5F6041D39E48A72E9AC054365A4D202...</td>\n",
       "      <td>77</td>\n",
       "      <td>127287001.0</td>\n",
       "      <td>Intertrochanteric fracture of left hip</td>\n",
       "      <td>30203</td>\n",
       "      <td>30205</td>\n",
       "      <td>2</td>\n",
       "      <td>...</td>\n",
       "      <td>1.172366</td>\n",
       "      <td>1.787164</td>\n",
       "      <td>8.600000</td>\n",
       "      <td>63.0</td>\n",
       "      <td>64.790197</td>\n",
       "      <td>74.0</td>\n",
       "      <td>93.0</td>\n",
       "      <td>15.0</td>\n",
       "      <td>104.0</td>\n",
       "      <td>63.219396</td>\n",
       "    </tr>\n",
       "    <tr>\n",
       "      <th>4</th>\n",
       "      <td>4</td>\n",
       "      <td>4</td>\n",
       "      <td>BFA87E0D17A3084607B9439431707EEE54189FAC5AE26C...</td>\n",
       "      <td>CA5F39A757C1E534F2A95B3C730401ADEC3422C54A3F70...</td>\n",
       "      <td>82</td>\n",
       "      <td>127287001.0</td>\n",
       "      <td>Intertrochanteric fracture of left hip</td>\n",
       "      <td>32191</td>\n",
       "      <td>32196</td>\n",
       "      <td>5</td>\n",
       "      <td>...</td>\n",
       "      <td>1.230000</td>\n",
       "      <td>1.400000</td>\n",
       "      <td>12.870000</td>\n",
       "      <td>67.0</td>\n",
       "      <td>64.790197</td>\n",
       "      <td>91.0</td>\n",
       "      <td>100.0</td>\n",
       "      <td>15.0</td>\n",
       "      <td>112.0</td>\n",
       "      <td>63.219396</td>\n",
       "    </tr>\n",
       "    <tr>\n",
       "      <th>...</th>\n",
       "      <td>...</td>\n",
       "      <td>...</td>\n",
       "      <td>...</td>\n",
       "      <td>...</td>\n",
       "      <td>...</td>\n",
       "      <td>...</td>\n",
       "      <td>...</td>\n",
       "      <td>...</td>\n",
       "      <td>...</td>\n",
       "      <td>...</td>\n",
       "      <td>...</td>\n",
       "      <td>...</td>\n",
       "      <td>...</td>\n",
       "      <td>...</td>\n",
       "      <td>...</td>\n",
       "      <td>...</td>\n",
       "      <td>...</td>\n",
       "      <td>...</td>\n",
       "      <td>...</td>\n",
       "      <td>...</td>\n",
       "      <td>...</td>\n",
       "    </tr>\n",
       "    <tr>\n",
       "      <th>1203</th>\n",
       "      <td>1203</td>\n",
       "      <td>1447</td>\n",
       "      <td>5264ED483D6DD14F34C7F41DBF5075B1812CB3149AB7F7...</td>\n",
       "      <td>59F3A979B8E5C797D425696F17530AC9EA020C2DCB9195...</td>\n",
       "      <td>82</td>\n",
       "      <td>700097003.0</td>\n",
       "      <td>Hip fracture, right</td>\n",
       "      <td>31577</td>\n",
       "      <td>31594</td>\n",
       "      <td>17</td>\n",
       "      <td>...</td>\n",
       "      <td>1.120000</td>\n",
       "      <td>0.900000</td>\n",
       "      <td>11.700000</td>\n",
       "      <td>44.0</td>\n",
       "      <td>64.790197</td>\n",
       "      <td>96.0</td>\n",
       "      <td>97.0</td>\n",
       "      <td>16.0</td>\n",
       "      <td>98.0</td>\n",
       "      <td>63.219396</td>\n",
       "    </tr>\n",
       "    <tr>\n",
       "      <th>1204</th>\n",
       "      <td>1204</td>\n",
       "      <td>1448</td>\n",
       "      <td>9D04FE81A460B8242DC9548F2CD8921F4E0936A888C8A3...</td>\n",
       "      <td>222C0D67EE0A7D3722DFC9745E76074612AC706520EF06...</td>\n",
       "      <td>82</td>\n",
       "      <td>5913000.0</td>\n",
       "      <td>Fracture of neck of left femur</td>\n",
       "      <td>32235</td>\n",
       "      <td>32251</td>\n",
       "      <td>16</td>\n",
       "      <td>...</td>\n",
       "      <td>1.172366</td>\n",
       "      <td>1.787164</td>\n",
       "      <td>10.382805</td>\n",
       "      <td>54.0</td>\n",
       "      <td>64.790197</td>\n",
       "      <td>109.0</td>\n",
       "      <td>95.0</td>\n",
       "      <td>16.0</td>\n",
       "      <td>112.0</td>\n",
       "      <td>63.219396</td>\n",
       "    </tr>\n",
       "    <tr>\n",
       "      <th>1205</th>\n",
       "      <td>1205</td>\n",
       "      <td>1449</td>\n",
       "      <td>665FFC079CC5ACD04A4F6A7F7FF724897586A3AC6625B8...</td>\n",
       "      <td>92CF2F32964A9F8CAD9DF05CF7EBE8D7E3B5B1729C7AE1...</td>\n",
       "      <td>87</td>\n",
       "      <td>5913000.0</td>\n",
       "      <td>Fracture of neck of right femur</td>\n",
       "      <td>34372</td>\n",
       "      <td>34381</td>\n",
       "      <td>9</td>\n",
       "      <td>...</td>\n",
       "      <td>1.172366</td>\n",
       "      <td>1.787164</td>\n",
       "      <td>10.382805</td>\n",
       "      <td>50.0</td>\n",
       "      <td>64.790197</td>\n",
       "      <td>73.0</td>\n",
       "      <td>98.0</td>\n",
       "      <td>16.0</td>\n",
       "      <td>123.0</td>\n",
       "      <td>63.219396</td>\n",
       "    </tr>\n",
       "    <tr>\n",
       "      <th>1206</th>\n",
       "      <td>1206</td>\n",
       "      <td>1450</td>\n",
       "      <td>5FDAC7A8655D26734D99CE76A5CCDCDBC08243A5F0D860...</td>\n",
       "      <td>C77CE976D4B2D0F75FD3CF77B7119E4AC9208FE374097F...</td>\n",
       "      <td>92</td>\n",
       "      <td>5913000.0</td>\n",
       "      <td>Fracture of neck of left femur</td>\n",
       "      <td>35807</td>\n",
       "      <td>35814</td>\n",
       "      <td>7</td>\n",
       "      <td>...</td>\n",
       "      <td>1.172366</td>\n",
       "      <td>1.787164</td>\n",
       "      <td>13.000000</td>\n",
       "      <td>60.0</td>\n",
       "      <td>60.000000</td>\n",
       "      <td>91.0</td>\n",
       "      <td>97.0</td>\n",
       "      <td>15.0</td>\n",
       "      <td>114.0</td>\n",
       "      <td>63.219396</td>\n",
       "    </tr>\n",
       "    <tr>\n",
       "      <th>1207</th>\n",
       "      <td>1207</td>\n",
       "      <td>1451</td>\n",
       "      <td>31A0AF73B39007FADA40A41D73248DF3841ADF39312607...</td>\n",
       "      <td>D7E083ADC52264ADF4F0569BBCFBFD6816FC9361DE56FB...</td>\n",
       "      <td>92</td>\n",
       "      <td>127287001.0</td>\n",
       "      <td>Intertrochanteric fracture of right hip</td>\n",
       "      <td>35103</td>\n",
       "      <td>35112</td>\n",
       "      <td>9</td>\n",
       "      <td>...</td>\n",
       "      <td>1.110000</td>\n",
       "      <td>1.800000</td>\n",
       "      <td>13.100000</td>\n",
       "      <td>69.0</td>\n",
       "      <td>64.173000</td>\n",
       "      <td>60.0</td>\n",
       "      <td>98.0</td>\n",
       "      <td>12.0</td>\n",
       "      <td>99.0</td>\n",
       "      <td>63.219396</td>\n",
       "    </tr>\n",
       "  </tbody>\n",
       "</table>\n",
       "<p>1208 rows × 36 columns</p>\n",
       "</div>"
      ],
      "text/plain": [
       "      Unnamed: 0  Unnamed: 0.1  \\\n",
       "0              0             0   \n",
       "1              1             1   \n",
       "2              2             2   \n",
       "3              3             3   \n",
       "4              4             4   \n",
       "...          ...           ...   \n",
       "1203        1203          1447   \n",
       "1204        1204          1448   \n",
       "1205        1205          1449   \n",
       "1206        1206          1450   \n",
       "1207        1207          1451   \n",
       "\n",
       "                                                  ADMID  \\\n",
       "0     566AF9016D2E9318EA7A3B3B8EF4441ABFE079F185CDB2...   \n",
       "1     9997C278C602FABFE2BBDFAB818D67EF9C940418C75763...   \n",
       "2     9997C278C602FABFE2BBDFAB818D67EF9C940418C75763...   \n",
       "3     A53241F3859B28AC2E43A68B8B24BE5806EA1341B1D16D...   \n",
       "4     BFA87E0D17A3084607B9439431707EEE54189FAC5AE26C...   \n",
       "...                                                 ...   \n",
       "1203  5264ED483D6DD14F34C7F41DBF5075B1812CB3149AB7F7...   \n",
       "1204  9D04FE81A460B8242DC9548F2CD8921F4E0936A888C8A3...   \n",
       "1205  665FFC079CC5ACD04A4F6A7F7FF724897586A3AC6625B8...   \n",
       "1206  5FDAC7A8655D26734D99CE76A5CCDCDBC08243A5F0D860...   \n",
       "1207  31A0AF73B39007FADA40A41D73248DF3841ADF39312607...   \n",
       "\n",
       "                                              PATIENTID  Average_Age  \\\n",
       "0     3AB8F46DDDA4CC8466E3146BB26D8B5BD9E3B72D64EF22...           92   \n",
       "1     D10067B6DE953CD140EBEFCEE70698B0CAEFF1BB557252...           82   \n",
       "2     D10067B6DE953CD140EBEFCEE70698B0CAEFF1BB557252...           82   \n",
       "3     4801FB1837D0F9A5F6041D39E48A72E9AC054365A4D202...           77   \n",
       "4     CA5F39A757C1E534F2A95B3C730401ADEC3422C54A3F70...           82   \n",
       "...                                                 ...          ...   \n",
       "1203  59F3A979B8E5C797D425696F17530AC9EA020C2DCB9195...           82   \n",
       "1204  222C0D67EE0A7D3722DFC9745E76074612AC706520EF06...           82   \n",
       "1205  92CF2F32964A9F8CAD9DF05CF7EBE8D7E3B5B1729C7AE1...           87   \n",
       "1206  C77CE976D4B2D0F75FD3CF77B7119E4AC9208FE374097F...           92   \n",
       "1207  D7E083ADC52264ADF4F0569BBCFBFD6816FC9361DE56FB...           92   \n",
       "\n",
       "          PROBLEM                                PROB_NAME  ADM_DATE  \\\n",
       "0     700097003.0                             Hip fracture     35550   \n",
       "1     700097003.0                             Hip fracture     31824   \n",
       "2       5913000.0           Fracture of neck of left femur     31824   \n",
       "3     127287001.0   Intertrochanteric fracture of left hip     30203   \n",
       "4     127287001.0   Intertrochanteric fracture of left hip     32191   \n",
       "...           ...                                      ...       ...   \n",
       "1203  700097003.0                      Hip fracture, right     31577   \n",
       "1204    5913000.0           Fracture of neck of left femur     32235   \n",
       "1205    5913000.0          Fracture of neck of right femur     34372   \n",
       "1206    5913000.0           Fracture of neck of left femur     35807   \n",
       "1207  127287001.0  Intertrochanteric fracture of right hip     35103   \n",
       "\n",
       "      DIS_DATE  LOS  ... Ionised calcium   Lactate  White cell   DBP  \\\n",
       "0        35565   15  ...        1.220000  2.200000   12.270000  64.0   \n",
       "1        31858   34  ...        1.172366  1.787164   10.382805  62.0   \n",
       "2        31858   34  ...        1.172366  1.787164   10.382805  62.0   \n",
       "3        30205    2  ...        1.172366  1.787164    8.600000  63.0   \n",
       "4        32196    5  ...        1.230000  1.400000   12.870000  67.0   \n",
       "...        ...  ...  ...             ...       ...         ...   ...   \n",
       "1203     31594   17  ...        1.120000  0.900000   11.700000  44.0   \n",
       "1204     32251   16  ...        1.172366  1.787164   10.382805  54.0   \n",
       "1205     34381    9  ...        1.172366  1.787164   10.382805  50.0   \n",
       "1206     35814    7  ...        1.172366  1.787164   13.000000  60.0   \n",
       "1207     35112    9  ...        1.110000  1.800000   13.100000  69.0   \n",
       "\n",
       "         HEIGHT     HR  O2SAT    RR    SBP     WEIGHT  \n",
       "0     67.200000   80.0   96.0  14.0  141.0  69.999200  \n",
       "1     62.008000   90.0   96.0  15.0  114.0  63.219396  \n",
       "2     62.008000   90.0   96.0  15.0  114.0  63.219396  \n",
       "3     64.790197   74.0   93.0  15.0  104.0  63.219396  \n",
       "4     64.790197   91.0  100.0  15.0  112.0  63.219396  \n",
       "...         ...    ...    ...   ...    ...        ...  \n",
       "1203  64.790197   96.0   97.0  16.0   98.0  63.219396  \n",
       "1204  64.790197  109.0   95.0  16.0  112.0  63.219396  \n",
       "1205  64.790197   73.0   98.0  16.0  123.0  63.219396  \n",
       "1206  60.000000   91.0   97.0  15.0  114.0  63.219396  \n",
       "1207  64.173000   60.0   98.0  12.0   99.0  63.219396  \n",
       "\n",
       "[1208 rows x 36 columns]"
      ]
     },
     "execution_count": 2,
     "metadata": {},
     "output_type": "execute_result"
    }
   ],
   "source": [
    "df = pd.read_csv('MDf_NAFilled.csv')\n",
    "df"
   ]
  },
  {
   "cell_type": "code",
   "execution_count": 3,
   "id": "21181288",
   "metadata": {},
   "outputs": [
    {
     "data": {
      "text/plain": [
       "['Unnamed: 0',\n",
       " 'Unnamed: 0.1',\n",
       " 'ADMID',\n",
       " 'PATIENTID',\n",
       " 'Average_Age',\n",
       " 'PROBLEM',\n",
       " 'PROB_NAME',\n",
       " 'ADM_DATE',\n",
       " 'DIS_DATE',\n",
       " 'LOS',\n",
       " 'OPCS_CODE',\n",
       " 'OPCS_DESC',\n",
       " 'OP_STRT_DATE',\n",
       " 'OP_STRT_TIME',\n",
       " 'OP_END_TIME',\n",
       " 'OP_Time',\n",
       " 'Days_To_Op',\n",
       " 'CANCER',\n",
       " 'GENDER',\n",
       " 'ETHNICITY',\n",
       " 'DOD',\n",
       " 'Passed_Vs_Adm',\n",
       " 'MED_HX_NAME',\n",
       " 'Creatinine',\n",
       " 'Glucose',\n",
       " 'Haemoglobin',\n",
       " 'Ionised calcium',\n",
       " 'Lactate',\n",
       " 'White cell',\n",
       " 'DBP',\n",
       " 'HEIGHT',\n",
       " 'HR',\n",
       " 'O2SAT',\n",
       " 'RR',\n",
       " 'SBP',\n",
       " 'WEIGHT']"
      ]
     },
     "execution_count": 3,
     "metadata": {},
     "output_type": "execute_result"
    }
   ],
   "source": [
    "list(df.columns.values)"
   ]
  },
  {
   "cell_type": "code",
   "execution_count": 4,
   "id": "6b8bb8d7",
   "metadata": {},
   "outputs": [],
   "source": [
    "from statsmodels.formula.api import ols \n",
    "from statsmodels.stats.anova import anova_lm \n",
    "from statsmodels.tools.eval_measures import aic"
   ]
  },
  {
   "cell_type": "code",
   "execution_count": 5,
   "id": "bdc5b7bb",
   "metadata": {},
   "outputs": [],
   "source": [
    "lm_cat = ols('LOS ~ CANCER + OPCS_DESC + Average_Age + CANCER:OPCS_DESC + CANCER:Average_Age + OPCS_DESC:Average_Age + OPCS_DESC:CANCER:Average_Age ', data=df).fit()"
   ]
  },
  {
   "cell_type": "code",
   "execution_count": 6,
   "id": "c026aed4",
   "metadata": {},
   "outputs": [
    {
     "data": {
      "text/html": [
       "<table class=\"simpletable\">\n",
       "<caption>OLS Regression Results</caption>\n",
       "<tr>\n",
       "  <th>Dep. Variable:</th>           <td>LOS</td>       <th>  R-squared:         </th> <td>   0.105</td>\n",
       "</tr>\n",
       "<tr>\n",
       "  <th>Model:</th>                   <td>OLS</td>       <th>  Adj. R-squared:    </th> <td>   0.075</td>\n",
       "</tr>\n",
       "<tr>\n",
       "  <th>Method:</th>             <td>Least Squares</td>  <th>  F-statistic:       </th> <td>   3.505</td>\n",
       "</tr>\n",
       "<tr>\n",
       "  <th>Date:</th>             <td>Thu, 20 Apr 2023</td> <th>  Prob (F-statistic):</th> <td>6.37e-12</td>\n",
       "</tr>\n",
       "<tr>\n",
       "  <th>Time:</th>                 <td>11:20:24</td>     <th>  Log-Likelihood:    </th> <td> -4541.2</td>\n",
       "</tr>\n",
       "<tr>\n",
       "  <th>No. Observations:</th>      <td>  1208</td>      <th>  AIC:               </th> <td>   9162.</td>\n",
       "</tr>\n",
       "<tr>\n",
       "  <th>Df Residuals:</th>          <td>  1168</td>      <th>  BIC:               </th> <td>   9366.</td>\n",
       "</tr>\n",
       "<tr>\n",
       "  <th>Df Model:</th>              <td>    39</td>      <th>                     </th>     <td> </td>   \n",
       "</tr>\n",
       "<tr>\n",
       "  <th>Covariance Type:</th>      <td>nonrobust</td>    <th>                     </th>     <td> </td>   \n",
       "</tr>\n",
       "</table>\n",
       "<table class=\"simpletable\">\n",
       "<tr>\n",
       "                                                           <td></td>                                                             <th>coef</th>     <th>std err</th>      <th>t</th>      <th>P>|t|</th>  <th>[0.025</th>    <th>0.975]</th>  \n",
       "</tr>\n",
       "<tr>\n",
       "  <th>Intercept</th>                                                                                                          <td>   -3.4133</td> <td>    8.525</td> <td>   -0.400</td> <td> 0.689</td> <td>  -20.139</td> <td>   13.313</td>\n",
       "</tr>\n",
       "<tr>\n",
       "  <th>CANCER[T.Y]</th>                                                                                                        <td>    4.8367</td> <td>   10.747</td> <td>    0.450</td> <td> 0.653</td> <td>  -16.250</td> <td>   25.923</td>\n",
       "</tr>\n",
       "<tr>\n",
       "  <th>OPCS_DESC[T.HEMIARTHROPLASTY HIP CANNULOK]</th>                                                                         <td> -120.9117</td> <td>  126.303</td> <td>   -0.957</td> <td> 0.339</td> <td> -368.718</td> <td>  126.894</td>\n",
       "</tr>\n",
       "<tr>\n",
       "  <th>OPCS_DESC[T.HEMIARTHROPLASTY HIP CEMENTED USING EXETER STEM]</th>                                                       <td>  -16.2611</td> <td>   16.166</td> <td>   -1.006</td> <td> 0.315</td> <td>  -47.979</td> <td>   15.457</td>\n",
       "</tr>\n",
       "<tr>\n",
       "  <th>OPCS_DESC[T.HEMIARTHROPLASTY HIP CEMENTED USING EXETER TRAUMA STEM]</th>                                                <td>    5.6004</td> <td>   20.710</td> <td>    0.270</td> <td> 0.787</td> <td>  -35.033</td> <td>   46.234</td>\n",
       "</tr>\n",
       "<tr>\n",
       "  <th>OPCS_DESC[T.OPEN REDUCTION INTERNAL FIXATION FEMUR]</th>                                                                <td>   -7.8893</td> <td>   29.833</td> <td>   -0.264</td> <td> 0.791</td> <td>  -66.421</td> <td>   50.642</td>\n",
       "</tr>\n",
       "<tr>\n",
       "  <th>OPCS_DESC[T.OPEN REDUCTION INTERNAL FIXATION FEMUR USING RIGID NAIL]</th>                                               <td>   23.9807</td> <td>   17.418</td> <td>    1.377</td> <td> 0.169</td> <td>  -10.194</td> <td>   58.155</td>\n",
       "</tr>\n",
       "<tr>\n",
       "  <th>OPCS_DESC[T.OPEN REDUCTION INTERNAL FIXATION FRACTURE NECK OF FEMUR WITH HIP SCREW]</th>                                <td>    1.1139</td> <td>   11.008</td> <td>    0.101</td> <td> 0.919</td> <td>  -20.484</td> <td>   22.711</td>\n",
       "</tr>\n",
       "<tr>\n",
       "  <th>OPCS_DESC[T.OPEN REDUCTION INTERNAL FIXATION TROCHANTERIC FRACTURE FEMUR USING RIGID NAIL]</th>                         <td>   47.2133</td> <td>   25.701</td> <td>    1.837</td> <td> 0.066</td> <td>   -3.212</td> <td>   97.638</td>\n",
       "</tr>\n",
       "<tr>\n",
       "  <th>OPCS_DESC[T.TOTAL HIP REPLACEMENT]</th>                                                                                 <td>    5.9004</td> <td>   21.243</td> <td>    0.278</td> <td> 0.781</td> <td>  -35.779</td> <td>   47.580</td>\n",
       "</tr>\n",
       "<tr>\n",
       "  <th>OPCS_DESC[T.TOTAL HIP REPLACEMENT CEMENTED]</th>                                                                        <td>   -5.8250</td> <td>   41.752</td> <td>   -0.140</td> <td> 0.889</td> <td>  -87.742</td> <td>   76.092</td>\n",
       "</tr>\n",
       "<tr>\n",
       "  <th>OPCS_DESC[T.TOTAL HIP REPLACEMENT EXETER CUP EXETER STEM]</th>                                                          <td>  -22.4450</td> <td>   31.363</td> <td>   -0.716</td> <td> 0.474</td> <td>  -83.980</td> <td>   39.090</td>\n",
       "</tr>\n",
       "<tr>\n",
       "  <th>CANCER[T.Y]:OPCS_DESC[T.HEMIARTHROPLASTY HIP CANNULOK]</th>                                                             <td> -120.9117</td> <td>  126.303</td> <td>   -0.957</td> <td> 0.339</td> <td> -368.718</td> <td>  126.894</td>\n",
       "</tr>\n",
       "<tr>\n",
       "  <th>CANCER[T.Y]:OPCS_DESC[T.HEMIARTHROPLASTY HIP CEMENTED USING EXETER STEM]</th>                                           <td>   37.6321</td> <td>   18.470</td> <td>    2.037</td> <td> 0.042</td> <td>    1.393</td> <td>   73.871</td>\n",
       "</tr>\n",
       "<tr>\n",
       "  <th>CANCER[T.Y]:OPCS_DESC[T.HEMIARTHROPLASTY HIP CEMENTED USING EXETER TRAUMA STEM]</th>                                    <td>  -23.8112</td> <td>   23.877</td> <td>   -0.997</td> <td> 0.319</td> <td>  -70.658</td> <td>   23.036</td>\n",
       "</tr>\n",
       "<tr>\n",
       "  <th>CANCER[T.Y]:OPCS_DESC[T.OPEN REDUCTION INTERNAL FIXATION FEMUR]</th>                                                    <td>   30.8181</td> <td>   35.375</td> <td>    0.871</td> <td> 0.384</td> <td>  -38.588</td> <td>  100.224</td>\n",
       "</tr>\n",
       "<tr>\n",
       "  <th>CANCER[T.Y]:OPCS_DESC[T.OPEN REDUCTION INTERNAL FIXATION FEMUR USING RIGID NAIL]</th>                                   <td>  -25.1734</td> <td>   20.908</td> <td>   -1.204</td> <td> 0.229</td> <td>  -66.196</td> <td>   15.849</td>\n",
       "</tr>\n",
       "<tr>\n",
       "  <th>CANCER[T.Y]:OPCS_DESC[T.OPEN REDUCTION INTERNAL FIXATION FRACTURE NECK OF FEMUR WITH HIP SCREW]</th>                    <td>    2.2475</td> <td>   13.902</td> <td>    0.162</td> <td> 0.872</td> <td>  -25.029</td> <td>   29.524</td>\n",
       "</tr>\n",
       "<tr>\n",
       "  <th>CANCER[T.Y]:OPCS_DESC[T.OPEN REDUCTION INTERNAL FIXATION TROCHANTERIC FRACTURE FEMUR USING RIGID NAIL]</th>             <td>  -73.9701</td> <td>   89.013</td> <td>   -0.831</td> <td> 0.406</td> <td> -248.614</td> <td>  100.674</td>\n",
       "</tr>\n",
       "<tr>\n",
       "  <th>CANCER[T.Y]:OPCS_DESC[T.TOTAL HIP REPLACEMENT]</th>                                                                     <td>  -31.8680</td> <td>   25.529</td> <td>   -1.248</td> <td> 0.212</td> <td>  -81.955</td> <td>   18.219</td>\n",
       "</tr>\n",
       "<tr>\n",
       "  <th>CANCER[T.Y]:OPCS_DESC[T.TOTAL HIP REPLACEMENT CEMENTED]</th>                                                            <td>    7.0561</td> <td>   58.704</td> <td>    0.120</td> <td> 0.904</td> <td> -108.120</td> <td>  122.232</td>\n",
       "</tr>\n",
       "<tr>\n",
       "  <th>CANCER[T.Y]:OPCS_DESC[T.TOTAL HIP REPLACEMENT EXETER CUP EXETER STEM]</th>                                              <td>  -22.4450</td> <td>   31.363</td> <td>   -0.716</td> <td> 0.474</td> <td>  -83.980</td> <td>   39.090</td>\n",
       "</tr>\n",
       "<tr>\n",
       "  <th>Average_Age</th>                                                                                                        <td>    0.2092</td> <td>    0.104</td> <td>    2.007</td> <td> 0.045</td> <td>    0.005</td> <td>    0.414</td>\n",
       "</tr>\n",
       "<tr>\n",
       "  <th>CANCER[T.Y]:Average_Age</th>                                                                                            <td>   -0.0216</td> <td>    0.130</td> <td>   -0.166</td> <td> 0.868</td> <td>   -0.277</td> <td>    0.234</td>\n",
       "</tr>\n",
       "<tr>\n",
       "  <th>OPCS_DESC[T.HEMIARTHROPLASTY HIP CANNULOK]:Average_Age</th>                                                             <td>    1.5062</td> <td>    1.494</td> <td>    1.008</td> <td> 0.314</td> <td>   -1.425</td> <td>    4.438</td>\n",
       "</tr>\n",
       "<tr>\n",
       "  <th>OPCS_DESC[T.HEMIARTHROPLASTY HIP CEMENTED USING EXETER STEM]:Average_Age</th>                                           <td>    0.1738</td> <td>    0.195</td> <td>    0.892</td> <td> 0.372</td> <td>   -0.208</td> <td>    0.556</td>\n",
       "</tr>\n",
       "<tr>\n",
       "  <th>OPCS_DESC[T.HEMIARTHROPLASTY HIP CEMENTED USING EXETER TRAUMA STEM]:Average_Age</th>                                    <td>   -0.0608</td> <td>    0.247</td> <td>   -0.246</td> <td> 0.806</td> <td>   -0.546</td> <td>    0.424</td>\n",
       "</tr>\n",
       "<tr>\n",
       "  <th>OPCS_DESC[T.OPEN REDUCTION INTERNAL FIXATION FEMUR]:Average_Age</th>                                                    <td>    0.1329</td> <td>    0.358</td> <td>    0.371</td> <td> 0.711</td> <td>   -0.570</td> <td>    0.836</td>\n",
       "</tr>\n",
       "<tr>\n",
       "  <th>OPCS_DESC[T.OPEN REDUCTION INTERNAL FIXATION FEMUR USING RIGID NAIL]:Average_Age</th>                                   <td>   -0.3004</td> <td>    0.209</td> <td>   -1.437</td> <td> 0.151</td> <td>   -0.710</td> <td>    0.110</td>\n",
       "</tr>\n",
       "<tr>\n",
       "  <th>OPCS_DESC[T.OPEN REDUCTION INTERNAL FIXATION FRACTURE NECK OF FEMUR WITH HIP SCREW]:Average_Age</th>                    <td>   -0.0254</td> <td>    0.136</td> <td>   -0.186</td> <td> 0.852</td> <td>   -0.293</td> <td>    0.242</td>\n",
       "</tr>\n",
       "<tr>\n",
       "  <th>OPCS_DESC[T.OPEN REDUCTION INTERNAL FIXATION TROCHANTERIC FRACTURE FEMUR USING RIGID NAIL]:Average_Age</th>             <td>   -0.6092</td> <td>    0.348</td> <td>   -1.751</td> <td> 0.080</td> <td>   -1.292</td> <td>    0.073</td>\n",
       "</tr>\n",
       "<tr>\n",
       "  <th>OPCS_DESC[T.TOTAL HIP REPLACEMENT]:Average_Age</th>                                                                     <td>   -0.1479</td> <td>    0.288</td> <td>   -0.514</td> <td> 0.607</td> <td>   -0.713</td> <td>    0.417</td>\n",
       "</tr>\n",
       "<tr>\n",
       "  <th>OPCS_DESC[T.TOTAL HIP REPLACEMENT CEMENTED]:Average_Age</th>                                                            <td>    0.0269</td> <td>    0.586</td> <td>    0.046</td> <td> 0.963</td> <td>   -1.122</td> <td>    1.176</td>\n",
       "</tr>\n",
       "<tr>\n",
       "  <th>OPCS_DESC[T.TOTAL HIP REPLACEMENT EXETER CUP EXETER STEM]:Average_Age</th>                                              <td>    0.2728</td> <td>    0.433</td> <td>    0.630</td> <td> 0.529</td> <td>   -0.577</td> <td>    1.122</td>\n",
       "</tr>\n",
       "<tr>\n",
       "  <th>OPCS_DESC[T.HEMIARTHROPLASTY HIP CANNULOK]:CANCER[T.Y]:Average_Age</th>                                                 <td>    1.5062</td> <td>    1.494</td> <td>    1.008</td> <td> 0.314</td> <td>   -1.425</td> <td>    4.438</td>\n",
       "</tr>\n",
       "<tr>\n",
       "  <th>OPCS_DESC[T.HEMIARTHROPLASTY HIP CEMENTED USING EXETER STEM]:CANCER[T.Y]:Average_Age</th>                               <td>   -0.4313</td> <td>    0.222</td> <td>   -1.945</td> <td> 0.052</td> <td>   -0.866</td> <td>    0.004</td>\n",
       "</tr>\n",
       "<tr>\n",
       "  <th>OPCS_DESC[T.HEMIARTHROPLASTY HIP CEMENTED USING EXETER TRAUMA STEM]:CANCER[T.Y]:Average_Age</th>                        <td>    0.2915</td> <td>    0.284</td> <td>    1.025</td> <td> 0.306</td> <td>   -0.266</td> <td>    0.850</td>\n",
       "</tr>\n",
       "<tr>\n",
       "  <th>OPCS_DESC[T.OPEN REDUCTION INTERNAL FIXATION FEMUR]:CANCER[T.Y]:Average_Age</th>                                        <td>   -0.4314</td> <td>    0.422</td> <td>   -1.022</td> <td> 0.307</td> <td>   -1.260</td> <td>    0.397</td>\n",
       "</tr>\n",
       "<tr>\n",
       "  <th>OPCS_DESC[T.OPEN REDUCTION INTERNAL FIXATION FEMUR USING RIGID NAIL]:CANCER[T.Y]:Average_Age</th>                       <td>    0.3090</td> <td>    0.252</td> <td>    1.226</td> <td> 0.221</td> <td>   -0.186</td> <td>    0.804</td>\n",
       "</tr>\n",
       "<tr>\n",
       "  <th>OPCS_DESC[T.OPEN REDUCTION INTERNAL FIXATION FRACTURE NECK OF FEMUR WITH HIP SCREW]:CANCER[T.Y]:Average_Age</th>        <td>   -0.0278</td> <td>    0.170</td> <td>   -0.164</td> <td> 0.870</td> <td>   -0.361</td> <td>    0.305</td>\n",
       "</tr>\n",
       "<tr>\n",
       "  <th>OPCS_DESC[T.OPEN REDUCTION INTERNAL FIXATION TROCHANTERIC FRACTURE FEMUR USING RIGID NAIL]:CANCER[T.Y]:Average_Age</th> <td>    0.8799</td> <td>    1.028</td> <td>    0.856</td> <td> 0.392</td> <td>   -1.137</td> <td>    2.897</td>\n",
       "</tr>\n",
       "<tr>\n",
       "  <th>OPCS_DESC[T.TOTAL HIP REPLACEMENT]:CANCER[T.Y]:Average_Age</th>                                                         <td>    0.4330</td> <td>    0.346</td> <td>    1.253</td> <td> 0.211</td> <td>   -0.245</td> <td>    1.111</td>\n",
       "</tr>\n",
       "<tr>\n",
       "  <th>OPCS_DESC[T.TOTAL HIP REPLACEMENT CEMENTED]:CANCER[T.Y]:Average_Age</th>                                                <td>   -0.1782</td> <td>    0.808</td> <td>   -0.221</td> <td> 0.826</td> <td>   -1.764</td> <td>    1.408</td>\n",
       "</tr>\n",
       "<tr>\n",
       "  <th>OPCS_DESC[T.TOTAL HIP REPLACEMENT EXETER CUP EXETER STEM]:CANCER[T.Y]:Average_Age</th>                                  <td>    0.2728</td> <td>    0.433</td> <td>    0.630</td> <td> 0.529</td> <td>   -0.577</td> <td>    1.122</td>\n",
       "</tr>\n",
       "</table>\n",
       "<table class=\"simpletable\">\n",
       "<tr>\n",
       "  <th>Omnibus:</th>       <td>540.700</td> <th>  Durbin-Watson:     </th> <td>   1.696</td>\n",
       "</tr>\n",
       "<tr>\n",
       "  <th>Prob(Omnibus):</th> <td> 0.000</td>  <th>  Jarque-Bera (JB):  </th> <td>2852.992</td>\n",
       "</tr>\n",
       "<tr>\n",
       "  <th>Skew:</th>          <td> 2.054</td>  <th>  Prob(JB):          </th> <td>    0.00</td>\n",
       "</tr>\n",
       "<tr>\n",
       "  <th>Kurtosis:</th>      <td> 9.309</td>  <th>  Cond. No.          </th> <td>1.04e+16</td>\n",
       "</tr>\n",
       "</table><br/><br/>Notes:<br/>[1] Standard Errors assume that the covariance matrix of the errors is correctly specified.<br/>[2] The smallest eigenvalue is 1.63e-25. This might indicate that there are<br/>strong multicollinearity problems or that the design matrix is singular."
      ],
      "text/plain": [
       "<class 'statsmodels.iolib.summary.Summary'>\n",
       "\"\"\"\n",
       "                            OLS Regression Results                            \n",
       "==============================================================================\n",
       "Dep. Variable:                    LOS   R-squared:                       0.105\n",
       "Model:                            OLS   Adj. R-squared:                  0.075\n",
       "Method:                 Least Squares   F-statistic:                     3.505\n",
       "Date:                Thu, 20 Apr 2023   Prob (F-statistic):           6.37e-12\n",
       "Time:                        11:20:24   Log-Likelihood:                -4541.2\n",
       "No. Observations:                1208   AIC:                             9162.\n",
       "Df Residuals:                    1168   BIC:                             9366.\n",
       "Df Model:                          39                                         \n",
       "Covariance Type:            nonrobust                                         \n",
       "======================================================================================================================================================================================\n",
       "                                                                                                                         coef    std err          t      P>|t|      [0.025      0.975]\n",
       "--------------------------------------------------------------------------------------------------------------------------------------------------------------------------------------\n",
       "Intercept                                                                                                             -3.4133      8.525     -0.400      0.689     -20.139      13.313\n",
       "CANCER[T.Y]                                                                                                            4.8367     10.747      0.450      0.653     -16.250      25.923\n",
       "OPCS_DESC[T.HEMIARTHROPLASTY HIP CANNULOK]                                                                          -120.9117    126.303     -0.957      0.339    -368.718     126.894\n",
       "OPCS_DESC[T.HEMIARTHROPLASTY HIP CEMENTED USING EXETER STEM]                                                         -16.2611     16.166     -1.006      0.315     -47.979      15.457\n",
       "OPCS_DESC[T.HEMIARTHROPLASTY HIP CEMENTED USING EXETER TRAUMA STEM]                                                    5.6004     20.710      0.270      0.787     -35.033      46.234\n",
       "OPCS_DESC[T.OPEN REDUCTION INTERNAL FIXATION FEMUR]                                                                   -7.8893     29.833     -0.264      0.791     -66.421      50.642\n",
       "OPCS_DESC[T.OPEN REDUCTION INTERNAL FIXATION FEMUR USING RIGID NAIL]                                                  23.9807     17.418      1.377      0.169     -10.194      58.155\n",
       "OPCS_DESC[T.OPEN REDUCTION INTERNAL FIXATION FRACTURE NECK OF FEMUR WITH HIP SCREW]                                    1.1139     11.008      0.101      0.919     -20.484      22.711\n",
       "OPCS_DESC[T.OPEN REDUCTION INTERNAL FIXATION TROCHANTERIC FRACTURE FEMUR USING RIGID NAIL]                            47.2133     25.701      1.837      0.066      -3.212      97.638\n",
       "OPCS_DESC[T.TOTAL HIP REPLACEMENT]                                                                                     5.9004     21.243      0.278      0.781     -35.779      47.580\n",
       "OPCS_DESC[T.TOTAL HIP REPLACEMENT CEMENTED]                                                                           -5.8250     41.752     -0.140      0.889     -87.742      76.092\n",
       "OPCS_DESC[T.TOTAL HIP REPLACEMENT EXETER CUP EXETER STEM]                                                            -22.4450     31.363     -0.716      0.474     -83.980      39.090\n",
       "CANCER[T.Y]:OPCS_DESC[T.HEMIARTHROPLASTY HIP CANNULOK]                                                              -120.9117    126.303     -0.957      0.339    -368.718     126.894\n",
       "CANCER[T.Y]:OPCS_DESC[T.HEMIARTHROPLASTY HIP CEMENTED USING EXETER STEM]                                              37.6321     18.470      2.037      0.042       1.393      73.871\n",
       "CANCER[T.Y]:OPCS_DESC[T.HEMIARTHROPLASTY HIP CEMENTED USING EXETER TRAUMA STEM]                                      -23.8112     23.877     -0.997      0.319     -70.658      23.036\n",
       "CANCER[T.Y]:OPCS_DESC[T.OPEN REDUCTION INTERNAL FIXATION FEMUR]                                                       30.8181     35.375      0.871      0.384     -38.588     100.224\n",
       "CANCER[T.Y]:OPCS_DESC[T.OPEN REDUCTION INTERNAL FIXATION FEMUR USING RIGID NAIL]                                     -25.1734     20.908     -1.204      0.229     -66.196      15.849\n",
       "CANCER[T.Y]:OPCS_DESC[T.OPEN REDUCTION INTERNAL FIXATION FRACTURE NECK OF FEMUR WITH HIP SCREW]                        2.2475     13.902      0.162      0.872     -25.029      29.524\n",
       "CANCER[T.Y]:OPCS_DESC[T.OPEN REDUCTION INTERNAL FIXATION TROCHANTERIC FRACTURE FEMUR USING RIGID NAIL]               -73.9701     89.013     -0.831      0.406    -248.614     100.674\n",
       "CANCER[T.Y]:OPCS_DESC[T.TOTAL HIP REPLACEMENT]                                                                       -31.8680     25.529     -1.248      0.212     -81.955      18.219\n",
       "CANCER[T.Y]:OPCS_DESC[T.TOTAL HIP REPLACEMENT CEMENTED]                                                                7.0561     58.704      0.120      0.904    -108.120     122.232\n",
       "CANCER[T.Y]:OPCS_DESC[T.TOTAL HIP REPLACEMENT EXETER CUP EXETER STEM]                                                -22.4450     31.363     -0.716      0.474     -83.980      39.090\n",
       "Average_Age                                                                                                            0.2092      0.104      2.007      0.045       0.005       0.414\n",
       "CANCER[T.Y]:Average_Age                                                                                               -0.0216      0.130     -0.166      0.868      -0.277       0.234\n",
       "OPCS_DESC[T.HEMIARTHROPLASTY HIP CANNULOK]:Average_Age                                                                 1.5062      1.494      1.008      0.314      -1.425       4.438\n",
       "OPCS_DESC[T.HEMIARTHROPLASTY HIP CEMENTED USING EXETER STEM]:Average_Age                                               0.1738      0.195      0.892      0.372      -0.208       0.556\n",
       "OPCS_DESC[T.HEMIARTHROPLASTY HIP CEMENTED USING EXETER TRAUMA STEM]:Average_Age                                       -0.0608      0.247     -0.246      0.806      -0.546       0.424\n",
       "OPCS_DESC[T.OPEN REDUCTION INTERNAL FIXATION FEMUR]:Average_Age                                                        0.1329      0.358      0.371      0.711      -0.570       0.836\n",
       "OPCS_DESC[T.OPEN REDUCTION INTERNAL FIXATION FEMUR USING RIGID NAIL]:Average_Age                                      -0.3004      0.209     -1.437      0.151      -0.710       0.110\n",
       "OPCS_DESC[T.OPEN REDUCTION INTERNAL FIXATION FRACTURE NECK OF FEMUR WITH HIP SCREW]:Average_Age                       -0.0254      0.136     -0.186      0.852      -0.293       0.242\n",
       "OPCS_DESC[T.OPEN REDUCTION INTERNAL FIXATION TROCHANTERIC FRACTURE FEMUR USING RIGID NAIL]:Average_Age                -0.6092      0.348     -1.751      0.080      -1.292       0.073\n",
       "OPCS_DESC[T.TOTAL HIP REPLACEMENT]:Average_Age                                                                        -0.1479      0.288     -0.514      0.607      -0.713       0.417\n",
       "OPCS_DESC[T.TOTAL HIP REPLACEMENT CEMENTED]:Average_Age                                                                0.0269      0.586      0.046      0.963      -1.122       1.176\n",
       "OPCS_DESC[T.TOTAL HIP REPLACEMENT EXETER CUP EXETER STEM]:Average_Age                                                  0.2728      0.433      0.630      0.529      -0.577       1.122\n",
       "OPCS_DESC[T.HEMIARTHROPLASTY HIP CANNULOK]:CANCER[T.Y]:Average_Age                                                     1.5062      1.494      1.008      0.314      -1.425       4.438\n",
       "OPCS_DESC[T.HEMIARTHROPLASTY HIP CEMENTED USING EXETER STEM]:CANCER[T.Y]:Average_Age                                  -0.4313      0.222     -1.945      0.052      -0.866       0.004\n",
       "OPCS_DESC[T.HEMIARTHROPLASTY HIP CEMENTED USING EXETER TRAUMA STEM]:CANCER[T.Y]:Average_Age                            0.2915      0.284      1.025      0.306      -0.266       0.850\n",
       "OPCS_DESC[T.OPEN REDUCTION INTERNAL FIXATION FEMUR]:CANCER[T.Y]:Average_Age                                           -0.4314      0.422     -1.022      0.307      -1.260       0.397\n",
       "OPCS_DESC[T.OPEN REDUCTION INTERNAL FIXATION FEMUR USING RIGID NAIL]:CANCER[T.Y]:Average_Age                           0.3090      0.252      1.226      0.221      -0.186       0.804\n",
       "OPCS_DESC[T.OPEN REDUCTION INTERNAL FIXATION FRACTURE NECK OF FEMUR WITH HIP SCREW]:CANCER[T.Y]:Average_Age           -0.0278      0.170     -0.164      0.870      -0.361       0.305\n",
       "OPCS_DESC[T.OPEN REDUCTION INTERNAL FIXATION TROCHANTERIC FRACTURE FEMUR USING RIGID NAIL]:CANCER[T.Y]:Average_Age     0.8799      1.028      0.856      0.392      -1.137       2.897\n",
       "OPCS_DESC[T.TOTAL HIP REPLACEMENT]:CANCER[T.Y]:Average_Age                                                             0.4330      0.346      1.253      0.211      -0.245       1.111\n",
       "OPCS_DESC[T.TOTAL HIP REPLACEMENT CEMENTED]:CANCER[T.Y]:Average_Age                                                   -0.1782      0.808     -0.221      0.826      -1.764       1.408\n",
       "OPCS_DESC[T.TOTAL HIP REPLACEMENT EXETER CUP EXETER STEM]:CANCER[T.Y]:Average_Age                                      0.2728      0.433      0.630      0.529      -0.577       1.122\n",
       "==============================================================================\n",
       "Omnibus:                      540.700   Durbin-Watson:                   1.696\n",
       "Prob(Omnibus):                  0.000   Jarque-Bera (JB):             2852.992\n",
       "Skew:                           2.054   Prob(JB):                         0.00\n",
       "Kurtosis:                       9.309   Cond. No.                     1.04e+16\n",
       "==============================================================================\n",
       "\n",
       "Notes:\n",
       "[1] Standard Errors assume that the covariance matrix of the errors is correctly specified.\n",
       "[2] The smallest eigenvalue is 1.63e-25. This might indicate that there are\n",
       "strong multicollinearity problems or that the design matrix is singular.\n",
       "\"\"\""
      ]
     },
     "execution_count": 6,
     "metadata": {},
     "output_type": "execute_result"
    }
   ],
   "source": [
    "lm_cat.summary()"
   ]
  },
  {
   "cell_type": "code",
   "execution_count": 7,
   "id": "61bbf02f",
   "metadata": {},
   "outputs": [
    {
     "data": {
      "text/plain": [
       "9162.39927961709"
      ]
     },
     "execution_count": 7,
     "metadata": {},
     "output_type": "execute_result"
    }
   ],
   "source": [
    "lm_cat.aic "
   ]
  },
  {
   "cell_type": "code",
   "execution_count": 8,
   "id": "d24a9db4",
   "metadata": {},
   "outputs": [],
   "source": [
    "lm_cat1 = ols('LOS ~ CANCER + OPCS_DESC + Average_Age + CANCER:OPCS_DESC + CANCER:Average_Age ', data=df).fit()"
   ]
  },
  {
   "cell_type": "code",
   "execution_count": 9,
   "id": "78a4b19c",
   "metadata": {},
   "outputs": [],
   "source": [
    "lm_cat2 = ols('LOS ~ CANCER + OPCS_DESC + Average_Age + CANCER:OPCS_DESC + OPCS_DESC:Average_Age', data=df).fit()"
   ]
  },
  {
   "cell_type": "code",
   "execution_count": 10,
   "id": "12cdc16c",
   "metadata": {},
   "outputs": [],
   "source": [
    "lm_cat3 = ols('LOS ~ CANCER + OPCS_DESC + Average_Age + CANCER:Average_Age + OPCS_DESC:Average_Age', data=df).fit()"
   ]
  },
  {
   "cell_type": "code",
   "execution_count": 11,
   "id": "950da47b",
   "metadata": {},
   "outputs": [
    {
     "data": {
      "text/plain": [
       "9155.776331815132"
      ]
     },
     "execution_count": 11,
     "metadata": {},
     "output_type": "execute_result"
    }
   ],
   "source": [
    "lm_cat1.aic"
   ]
  },
  {
   "cell_type": "code",
   "execution_count": 12,
   "id": "cb80de6c",
   "metadata": {},
   "outputs": [
    {
     "data": {
      "text/plain": [
       "9157.970805720168"
      ]
     },
     "execution_count": 12,
     "metadata": {},
     "output_type": "execute_result"
    }
   ],
   "source": [
    "lm_cat2.aic"
   ]
  },
  {
   "cell_type": "code",
   "execution_count": 13,
   "id": "86a70509",
   "metadata": {},
   "outputs": [
    {
     "data": {
      "text/plain": [
       "9147.000862442124"
      ]
     },
     "execution_count": 13,
     "metadata": {},
     "output_type": "execute_result"
    }
   ],
   "source": [
    "lm_cat3.aic #Lowest AIC"
   ]
  },
  {
   "cell_type": "code",
   "execution_count": 14,
   "id": "21292f20",
   "metadata": {},
   "outputs": [],
   "source": [
    "lm_cat4 = ols('LOS ~ CANCER + OPCS_DESC + Average_Age + CANCER:Average_Age ', data=df).fit()"
   ]
  },
  {
   "cell_type": "code",
   "execution_count": 15,
   "id": "181e87a3",
   "metadata": {},
   "outputs": [],
   "source": [
    "lm_cat5 = ols('LOS ~ CANCER + OPCS_DESC + Average_Age + OPCS_DESC:Average_Age', data=df).fit()"
   ]
  },
  {
   "cell_type": "code",
   "execution_count": 16,
   "id": "82b60813",
   "metadata": {},
   "outputs": [
    {
     "data": {
      "text/plain": [
       "9143.670903285401"
      ]
     },
     "execution_count": 16,
     "metadata": {},
     "output_type": "execute_result"
    }
   ],
   "source": [
    "lm_cat4.aic #Lowest AIC"
   ]
  },
  {
   "cell_type": "code",
   "execution_count": 17,
   "id": "b2638c0c",
   "metadata": {},
   "outputs": [
    {
     "data": {
      "text/plain": [
       "9145.034333047914"
      ]
     },
     "execution_count": 17,
     "metadata": {},
     "output_type": "execute_result"
    }
   ],
   "source": [
    "lm_cat5.aic"
   ]
  },
  {
   "cell_type": "code",
   "execution_count": 18,
   "id": "ba6c82b4",
   "metadata": {},
   "outputs": [],
   "source": [
    "lm_cat6 = ols('LOS ~ CANCER + Average_Age + CANCER:Average_Age ', data=df).fit()"
   ]
  },
  {
   "cell_type": "code",
   "execution_count": 19,
   "id": "b94ae34f",
   "metadata": {},
   "outputs": [],
   "source": [
    "lm_cat7 = ols('LOS ~ CANCER + OPCS_DESC + Average_Age ', data=df).fit()"
   ]
  },
  {
   "cell_type": "code",
   "execution_count": 20,
   "id": "cce2ff04",
   "metadata": {},
   "outputs": [
    {
     "data": {
      "text/plain": [
       "9155.20573586988"
      ]
     },
     "execution_count": 20,
     "metadata": {},
     "output_type": "execute_result"
    }
   ],
   "source": [
    "lm_cat6.aic"
   ]
  },
  {
   "cell_type": "code",
   "execution_count": 21,
   "id": "605946a5",
   "metadata": {},
   "outputs": [
    {
     "data": {
      "text/plain": [
       "9155.20573586988"
      ]
     },
     "execution_count": 21,
     "metadata": {},
     "output_type": "execute_result"
    }
   ],
   "source": [
    "lm_cat6.aic "
   ]
  },
  {
   "cell_type": "code",
   "execution_count": 22,
   "id": "aa98ffeb",
   "metadata": {},
   "outputs": [
    {
     "data": {
      "text/html": [
       "<table class=\"simpletable\">\n",
       "<caption>OLS Regression Results</caption>\n",
       "<tr>\n",
       "  <th>Dep. Variable:</th>           <td>LOS</td>       <th>  R-squared:         </th> <td>   0.080</td>\n",
       "</tr>\n",
       "<tr>\n",
       "  <th>Model:</th>                   <td>OLS</td>       <th>  Adj. R-squared:    </th> <td>   0.070</td>\n",
       "</tr>\n",
       "<tr>\n",
       "  <th>Method:</th>             <td>Least Squares</td>  <th>  F-statistic:       </th> <td>   7.963</td>\n",
       "</tr>\n",
       "<tr>\n",
       "  <th>Date:</th>             <td>Thu, 20 Apr 2023</td> <th>  Prob (F-statistic):</th> <td>1.87e-15</td>\n",
       "</tr>\n",
       "<tr>\n",
       "  <th>Time:</th>                 <td>11:20:33</td>     <th>  Log-Likelihood:    </th> <td> -4557.8</td>\n",
       "</tr>\n",
       "<tr>\n",
       "  <th>No. Observations:</th>      <td>  1208</td>      <th>  AIC:               </th> <td>   9144.</td>\n",
       "</tr>\n",
       "<tr>\n",
       "  <th>Df Residuals:</th>          <td>  1194</td>      <th>  BIC:               </th> <td>   9215.</td>\n",
       "</tr>\n",
       "<tr>\n",
       "  <th>Df Model:</th>              <td>    13</td>      <th>                     </th>     <td> </td>   \n",
       "</tr>\n",
       "<tr>\n",
       "  <th>Covariance Type:</th>      <td>nonrobust</td>    <th>                     </th>     <td> </td>   \n",
       "</tr>\n",
       "</table>\n",
       "<table class=\"simpletable\">\n",
       "<tr>\n",
       "                                               <td></td>                                                 <th>coef</th>     <th>std err</th>      <th>t</th>      <th>P>|t|</th>  <th>[0.025</th>    <th>0.975]</th>  \n",
       "</tr>\n",
       "<tr>\n",
       "  <th>Intercept</th>                                                                                  <td>    1.1958</td> <td>    4.312</td> <td>    0.277</td> <td> 0.782</td> <td>   -7.263</td> <td>    9.655</td>\n",
       "</tr>\n",
       "<tr>\n",
       "  <th>CANCER[T.Y]</th>                                                                                <td>    4.1397</td> <td>    5.077</td> <td>    0.815</td> <td> 0.415</td> <td>   -5.821</td> <td>   14.101</td>\n",
       "</tr>\n",
       "<tr>\n",
       "  <th>OPCS_DESC[T.HEMIARTHROPLASTY HIP CANNULOK]</th>                                                 <td>   12.7437</td> <td>    7.531</td> <td>    1.692</td> <td> 0.091</td> <td>   -2.031</td> <td>   27.518</td>\n",
       "</tr>\n",
       "<tr>\n",
       "  <th>OPCS_DESC[T.HEMIARTHROPLASTY HIP CEMENTED USING EXETER STEM]</th>                               <td>   -0.4660</td> <td>    0.935</td> <td>   -0.498</td> <td> 0.618</td> <td>   -2.301</td> <td>    1.369</td>\n",
       "</tr>\n",
       "<tr>\n",
       "  <th>OPCS_DESC[T.HEMIARTHROPLASTY HIP CEMENTED USING EXETER TRAUMA STEM]</th>                        <td>    1.1449</td> <td>    1.226</td> <td>    0.934</td> <td> 0.350</td> <td>   -1.260</td> <td>    3.550</td>\n",
       "</tr>\n",
       "<tr>\n",
       "  <th>OPCS_DESC[T.OPEN REDUCTION INTERNAL FIXATION FEMUR]</th>                                        <td>   -0.2477</td> <td>    3.153</td> <td>   -0.079</td> <td> 0.937</td> <td>   -6.435</td> <td>    5.939</td>\n",
       "</tr>\n",
       "<tr>\n",
       "  <th>OPCS_DESC[T.OPEN REDUCTION INTERNAL FIXATION FEMUR USING RIGID NAIL]</th>                       <td>   -0.6542</td> <td>    1.649</td> <td>   -0.397</td> <td> 0.692</td> <td>   -3.890</td> <td>    2.582</td>\n",
       "</tr>\n",
       "<tr>\n",
       "  <th>OPCS_DESC[T.OPEN REDUCTION INTERNAL FIXATION FRACTURE NECK OF FEMUR WITH HIP SCREW]</th>        <td>   -1.0689</td> <td>    0.968</td> <td>   -1.105</td> <td> 0.270</td> <td>   -2.967</td> <td>    0.829</td>\n",
       "</tr>\n",
       "<tr>\n",
       "  <th>OPCS_DESC[T.OPEN REDUCTION INTERNAL FIXATION TROCHANTERIC FRACTURE FEMUR USING RIGID NAIL]</th> <td>   -0.7343</td> <td>    4.081</td> <td>   -0.180</td> <td> 0.857</td> <td>   -8.741</td> <td>    7.272</td>\n",
       "</tr>\n",
       "<tr>\n",
       "  <th>OPCS_DESC[T.TOTAL HIP REPLACEMENT]</th>                                                         <td>   -5.9228</td> <td>    1.585</td> <td>   -3.736</td> <td> 0.000</td> <td>   -9.033</td> <td>   -2.813</td>\n",
       "</tr>\n",
       "<tr>\n",
       "  <th>OPCS_DESC[T.TOTAL HIP REPLACEMENT CEMENTED]</th>                                                <td>   -8.1965</td> <td>    2.567</td> <td>   -3.193</td> <td> 0.001</td> <td>  -13.233</td> <td>   -3.160</td>\n",
       "</tr>\n",
       "<tr>\n",
       "  <th>OPCS_DESC[T.TOTAL HIP REPLACEMENT EXETER CUP EXETER STEM]</th>                                  <td>   -6.1595</td> <td>    6.178</td> <td>   -0.997</td> <td> 0.319</td> <td>  -18.281</td> <td>    5.961</td>\n",
       "</tr>\n",
       "<tr>\n",
       "  <th>Average_Age</th>                                                                                <td>    0.1511</td> <td>    0.052</td> <td>    2.879</td> <td> 0.004</td> <td>    0.048</td> <td>    0.254</td>\n",
       "</tr>\n",
       "<tr>\n",
       "  <th>CANCER[T.Y]:Average_Age</th>                                                                    <td>   -0.0100</td> <td>    0.062</td> <td>   -0.161</td> <td> 0.872</td> <td>   -0.132</td> <td>    0.112</td>\n",
       "</tr>\n",
       "</table>\n",
       "<table class=\"simpletable\">\n",
       "<tr>\n",
       "  <th>Omnibus:</th>       <td>538.928</td> <th>  Durbin-Watson:     </th> <td>   1.689</td>\n",
       "</tr>\n",
       "<tr>\n",
       "  <th>Prob(Omnibus):</th> <td> 0.000</td>  <th>  Jarque-Bera (JB):  </th> <td>2733.439</td>\n",
       "</tr>\n",
       "<tr>\n",
       "  <th>Skew:</th>          <td> 2.064</td>  <th>  Prob(JB):          </th> <td>    0.00</td>\n",
       "</tr>\n",
       "<tr>\n",
       "  <th>Kurtosis:</th>      <td> 9.104</td>  <th>  Cond. No.          </th> <td>2.69e+03</td>\n",
       "</tr>\n",
       "</table><br/><br/>Notes:<br/>[1] Standard Errors assume that the covariance matrix of the errors is correctly specified.<br/>[2] The condition number is large, 2.69e+03. This might indicate that there are<br/>strong multicollinearity or other numerical problems."
      ],
      "text/plain": [
       "<class 'statsmodels.iolib.summary.Summary'>\n",
       "\"\"\"\n",
       "                            OLS Regression Results                            \n",
       "==============================================================================\n",
       "Dep. Variable:                    LOS   R-squared:                       0.080\n",
       "Model:                            OLS   Adj. R-squared:                  0.070\n",
       "Method:                 Least Squares   F-statistic:                     7.963\n",
       "Date:                Thu, 20 Apr 2023   Prob (F-statistic):           1.87e-15\n",
       "Time:                        11:20:33   Log-Likelihood:                -4557.8\n",
       "No. Observations:                1208   AIC:                             9144.\n",
       "Df Residuals:                    1194   BIC:                             9215.\n",
       "Df Model:                          13                                         \n",
       "Covariance Type:            nonrobust                                         \n",
       "==============================================================================================================================================================\n",
       "                                                                                                 coef    std err          t      P>|t|      [0.025      0.975]\n",
       "--------------------------------------------------------------------------------------------------------------------------------------------------------------\n",
       "Intercept                                                                                      1.1958      4.312      0.277      0.782      -7.263       9.655\n",
       "CANCER[T.Y]                                                                                    4.1397      5.077      0.815      0.415      -5.821      14.101\n",
       "OPCS_DESC[T.HEMIARTHROPLASTY HIP CANNULOK]                                                    12.7437      7.531      1.692      0.091      -2.031      27.518\n",
       "OPCS_DESC[T.HEMIARTHROPLASTY HIP CEMENTED USING EXETER STEM]                                  -0.4660      0.935     -0.498      0.618      -2.301       1.369\n",
       "OPCS_DESC[T.HEMIARTHROPLASTY HIP CEMENTED USING EXETER TRAUMA STEM]                            1.1449      1.226      0.934      0.350      -1.260       3.550\n",
       "OPCS_DESC[T.OPEN REDUCTION INTERNAL FIXATION FEMUR]                                           -0.2477      3.153     -0.079      0.937      -6.435       5.939\n",
       "OPCS_DESC[T.OPEN REDUCTION INTERNAL FIXATION FEMUR USING RIGID NAIL]                          -0.6542      1.649     -0.397      0.692      -3.890       2.582\n",
       "OPCS_DESC[T.OPEN REDUCTION INTERNAL FIXATION FRACTURE NECK OF FEMUR WITH HIP SCREW]           -1.0689      0.968     -1.105      0.270      -2.967       0.829\n",
       "OPCS_DESC[T.OPEN REDUCTION INTERNAL FIXATION TROCHANTERIC FRACTURE FEMUR USING RIGID NAIL]    -0.7343      4.081     -0.180      0.857      -8.741       7.272\n",
       "OPCS_DESC[T.TOTAL HIP REPLACEMENT]                                                            -5.9228      1.585     -3.736      0.000      -9.033      -2.813\n",
       "OPCS_DESC[T.TOTAL HIP REPLACEMENT CEMENTED]                                                   -8.1965      2.567     -3.193      0.001     -13.233      -3.160\n",
       "OPCS_DESC[T.TOTAL HIP REPLACEMENT EXETER CUP EXETER STEM]                                     -6.1595      6.178     -0.997      0.319     -18.281       5.961\n",
       "Average_Age                                                                                    0.1511      0.052      2.879      0.004       0.048       0.254\n",
       "CANCER[T.Y]:Average_Age                                                                       -0.0100      0.062     -0.161      0.872      -0.132       0.112\n",
       "==============================================================================\n",
       "Omnibus:                      538.928   Durbin-Watson:                   1.689\n",
       "Prob(Omnibus):                  0.000   Jarque-Bera (JB):             2733.439\n",
       "Skew:                           2.064   Prob(JB):                         0.00\n",
       "Kurtosis:                       9.104   Cond. No.                     2.69e+03\n",
       "==============================================================================\n",
       "\n",
       "Notes:\n",
       "[1] Standard Errors assume that the covariance matrix of the errors is correctly specified.\n",
       "[2] The condition number is large, 2.69e+03. This might indicate that there are\n",
       "strong multicollinearity or other numerical problems.\n",
       "\"\"\""
      ]
     },
     "execution_count": 22,
     "metadata": {},
     "output_type": "execute_result"
    }
   ],
   "source": [
    "# lm_cat4 is the best model and the Cancer & Average Age ineraction is signifcant\n",
    "lm_cat4.summary()"
   ]
  },
  {
   "cell_type": "code",
   "execution_count": 23,
   "id": "6324af36",
   "metadata": {},
   "outputs": [],
   "source": [
    "from statsmodels.formula.api import ols\n",
    "from statsmodels.stats.anova import anova_lm"
   ]
  },
  {
   "cell_type": "code",
   "execution_count": 24,
   "id": "582cc5d4",
   "metadata": {},
   "outputs": [
    {
     "data": {
      "text/html": [
       "<div>\n",
       "<style scoped>\n",
       "    .dataframe tbody tr th:only-of-type {\n",
       "        vertical-align: middle;\n",
       "    }\n",
       "\n",
       "    .dataframe tbody tr th {\n",
       "        vertical-align: top;\n",
       "    }\n",
       "\n",
       "    .dataframe thead th {\n",
       "        text-align: right;\n",
       "    }\n",
       "</style>\n",
       "<table border=\"1\" class=\"dataframe\">\n",
       "  <thead>\n",
       "    <tr style=\"text-align: right;\">\n",
       "      <th></th>\n",
       "      <th>df</th>\n",
       "      <th>sum_sq</th>\n",
       "      <th>mean_sq</th>\n",
       "      <th>F</th>\n",
       "      <th>PR(&gt;F)</th>\n",
       "    </tr>\n",
       "  </thead>\n",
       "  <tbody>\n",
       "    <tr>\n",
       "      <th>CANCER</th>\n",
       "      <td>1.0</td>\n",
       "      <td>3351.253328</td>\n",
       "      <td>3351.253328</td>\n",
       "      <td>29.881049</td>\n",
       "      <td>5.588958e-08</td>\n",
       "    </tr>\n",
       "    <tr>\n",
       "      <th>OPCS_DESC</th>\n",
       "      <td>10.0</td>\n",
       "      <td>5564.003832</td>\n",
       "      <td>556.400383</td>\n",
       "      <td>4.961077</td>\n",
       "      <td>4.488285e-07</td>\n",
       "    </tr>\n",
       "    <tr>\n",
       "      <th>Average_Age</th>\n",
       "      <td>1.0</td>\n",
       "      <td>2691.807821</td>\n",
       "      <td>2691.807821</td>\n",
       "      <td>24.001182</td>\n",
       "      <td>1.095129e-06</td>\n",
       "    </tr>\n",
       "    <tr>\n",
       "      <th>CANCER:Average_Age</th>\n",
       "      <td>1.0</td>\n",
       "      <td>2.897968</td>\n",
       "      <td>2.897968</td>\n",
       "      <td>0.025839</td>\n",
       "      <td>8.723204e-01</td>\n",
       "    </tr>\n",
       "    <tr>\n",
       "      <th>Residual</th>\n",
       "      <td>1194.0</td>\n",
       "      <td>133910.841685</td>\n",
       "      <td>112.153134</td>\n",
       "      <td>NaN</td>\n",
       "      <td>NaN</td>\n",
       "    </tr>\n",
       "  </tbody>\n",
       "</table>\n",
       "</div>"
      ],
      "text/plain": [
       "                        df         sum_sq      mean_sq          F  \\\n",
       "CANCER                 1.0    3351.253328  3351.253328  29.881049   \n",
       "OPCS_DESC             10.0    5564.003832   556.400383   4.961077   \n",
       "Average_Age            1.0    2691.807821  2691.807821  24.001182   \n",
       "CANCER:Average_Age     1.0       2.897968     2.897968   0.025839   \n",
       "Residual            1194.0  133910.841685   112.153134        NaN   \n",
       "\n",
       "                          PR(>F)  \n",
       "CANCER              5.588958e-08  \n",
       "OPCS_DESC           4.488285e-07  \n",
       "Average_Age         1.095129e-06  \n",
       "CANCER:Average_Age  8.723204e-01  \n",
       "Residual                     NaN  "
      ]
     },
     "execution_count": 24,
     "metadata": {},
     "output_type": "execute_result"
    }
   ],
   "source": [
    "aov_table = anova_lm(lm_cat4,typ=1)\n",
    "aov_table"
   ]
  },
  {
   "cell_type": "code",
   "execution_count": 25,
   "id": "80c38466",
   "metadata": {},
   "outputs": [
    {
     "data": {
      "text/plain": [
       "['Unnamed: 0',\n",
       " 'Unnamed: 0.1',\n",
       " 'ADMID',\n",
       " 'PATIENTID',\n",
       " 'Average_Age',\n",
       " 'PROBLEM',\n",
       " 'PROB_NAME',\n",
       " 'ADM_DATE',\n",
       " 'DIS_DATE',\n",
       " 'LOS',\n",
       " 'OPCS_CODE',\n",
       " 'OPCS_DESC',\n",
       " 'OP_STRT_DATE',\n",
       " 'OP_STRT_TIME',\n",
       " 'OP_END_TIME',\n",
       " 'OP_Time',\n",
       " 'Days_To_Op',\n",
       " 'CANCER',\n",
       " 'GENDER',\n",
       " 'ETHNICITY',\n",
       " 'DOD',\n",
       " 'Passed_Vs_Adm',\n",
       " 'MED_HX_NAME',\n",
       " 'Creatinine',\n",
       " 'Glucose',\n",
       " 'Haemoglobin',\n",
       " 'Ca',\n",
       " 'Lactate',\n",
       " 'WCC',\n",
       " 'DBP',\n",
       " 'HEIGHT',\n",
       " 'HR',\n",
       " 'O2SAT',\n",
       " 'RR',\n",
       " 'SBP',\n",
       " 'WEIGHT']"
      ]
     },
     "execution_count": 25,
     "metadata": {},
     "output_type": "execute_result"
    }
   ],
   "source": [
    "df = df.rename(columns={'Ionised calcium': 'Ca', 'White cell': 'WCC'})\n",
    "list(df.columns.values)"
   ]
  },
  {
   "cell_type": "code",
   "execution_count": 26,
   "id": "3ec1e5ae",
   "metadata": {},
   "outputs": [],
   "source": [
    "lm_full = ols('LOS ~ CANCER + OPCS_DESC + Average_Age + MED_HX_NAME + Lactate + Haemoglobin + Creatinine + WEIGHT + CANCER:Average_Age + Lactate:Haemoglobin + Lactate:Creatinine + Lactate:WEIGHT + Haemoglobin:Creatinine + Creatinine:WEIGHT + CANCER:MED_HX_NAME+ Average_Age:MED_HX_NAME + MED_HX_NAME:Lactate + MED_HX_NAME:Haemoglobin + MED_HX_NAME:Creatinine',data=df).fit()\n",
    "\n"
   ]
  },
  {
   "cell_type": "code",
   "execution_count": 27,
   "id": "15caeabb",
   "metadata": {},
   "outputs": [
    {
     "data": {
      "text/html": [
       "<table class=\"simpletable\">\n",
       "<caption>OLS Regression Results</caption>\n",
       "<tr>\n",
       "  <th>Dep. Variable:</th>           <td>LOS</td>       <th>  R-squared:         </th> <td>   0.105</td>\n",
       "</tr>\n",
       "<tr>\n",
       "  <th>Model:</th>                   <td>OLS</td>       <th>  Adj. R-squared:    </th> <td>   0.084</td>\n",
       "</tr>\n",
       "<tr>\n",
       "  <th>Method:</th>             <td>Least Squares</td>  <th>  F-statistic:       </th> <td>   5.101</td>\n",
       "</tr>\n",
       "<tr>\n",
       "  <th>Date:</th>             <td>Thu, 20 Apr 2023</td> <th>  Prob (F-statistic):</th> <td>1.01e-15</td>\n",
       "</tr>\n",
       "<tr>\n",
       "  <th>Time:</th>                 <td>11:20:49</td>     <th>  Log-Likelihood:    </th> <td> -4541.4</td>\n",
       "</tr>\n",
       "<tr>\n",
       "  <th>No. Observations:</th>      <td>  1208</td>      <th>  AIC:               </th> <td>   9139.</td>\n",
       "</tr>\n",
       "<tr>\n",
       "  <th>Df Residuals:</th>          <td>  1180</td>      <th>  BIC:               </th> <td>   9281.</td>\n",
       "</tr>\n",
       "<tr>\n",
       "  <th>Df Model:</th>              <td>    27</td>      <th>                     </th>     <td> </td>   \n",
       "</tr>\n",
       "<tr>\n",
       "  <th>Covariance Type:</th>      <td>nonrobust</td>    <th>                     </th>     <td> </td>   \n",
       "</tr>\n",
       "</table>\n",
       "<table class=\"simpletable\">\n",
       "<tr>\n",
       "                                               <td></td>                                                 <th>coef</th>     <th>std err</th>      <th>t</th>      <th>P>|t|</th>  <th>[0.025</th>    <th>0.975]</th>  \n",
       "</tr>\n",
       "<tr>\n",
       "  <th>Intercept</th>                                                                                  <td>   18.7632</td> <td>   10.838</td> <td>    1.731</td> <td> 0.084</td> <td>   -2.500</td> <td>   40.027</td>\n",
       "</tr>\n",
       "<tr>\n",
       "  <th>CANCER[T.Y]</th>                                                                                <td>   -1.3219</td> <td>    5.866</td> <td>   -0.225</td> <td> 0.822</td> <td>  -12.830</td> <td>   10.186</td>\n",
       "</tr>\n",
       "<tr>\n",
       "  <th>OPCS_DESC[T.HEMIARTHROPLASTY HIP CANNULOK]</th>                                                 <td>   13.1471</td> <td>    7.507</td> <td>    1.751</td> <td> 0.080</td> <td>   -1.581</td> <td>   27.875</td>\n",
       "</tr>\n",
       "<tr>\n",
       "  <th>OPCS_DESC[T.HEMIARTHROPLASTY HIP CEMENTED USING EXETER STEM]</th>                               <td>    0.0276</td> <td>    0.941</td> <td>    0.029</td> <td> 0.977</td> <td>   -1.819</td> <td>    1.874</td>\n",
       "</tr>\n",
       "<tr>\n",
       "  <th>OPCS_DESC[T.HEMIARTHROPLASTY HIP CEMENTED USING EXETER TRAUMA STEM]</th>                        <td>    1.5833</td> <td>    1.229</td> <td>    1.288</td> <td> 0.198</td> <td>   -0.829</td> <td>    3.995</td>\n",
       "</tr>\n",
       "<tr>\n",
       "  <th>OPCS_DESC[T.OPEN REDUCTION INTERNAL FIXATION FEMUR]</th>                                        <td>    0.5385</td> <td>    3.163</td> <td>    0.170</td> <td> 0.865</td> <td>   -5.667</td> <td>    6.744</td>\n",
       "</tr>\n",
       "<tr>\n",
       "  <th>OPCS_DESC[T.OPEN REDUCTION INTERNAL FIXATION FEMUR USING RIGID NAIL]</th>                       <td>   -0.5606</td> <td>    1.646</td> <td>   -0.341</td> <td> 0.733</td> <td>   -3.790</td> <td>    2.669</td>\n",
       "</tr>\n",
       "<tr>\n",
       "  <th>OPCS_DESC[T.OPEN REDUCTION INTERNAL FIXATION FRACTURE NECK OF FEMUR WITH HIP SCREW]</th>        <td>   -0.9545</td> <td>    0.967</td> <td>   -0.988</td> <td> 0.324</td> <td>   -2.851</td> <td>    0.942</td>\n",
       "</tr>\n",
       "<tr>\n",
       "  <th>OPCS_DESC[T.OPEN REDUCTION INTERNAL FIXATION TROCHANTERIC FRACTURE FEMUR USING RIGID NAIL]</th> <td>   -0.8500</td> <td>    4.058</td> <td>   -0.209</td> <td> 0.834</td> <td>   -8.813</td> <td>    7.113</td>\n",
       "</tr>\n",
       "<tr>\n",
       "  <th>OPCS_DESC[T.TOTAL HIP REPLACEMENT]</th>                                                         <td>   -5.0699</td> <td>    1.587</td> <td>   -3.194</td> <td> 0.001</td> <td>   -8.184</td> <td>   -1.955</td>\n",
       "</tr>\n",
       "<tr>\n",
       "  <th>OPCS_DESC[T.TOTAL HIP REPLACEMENT CEMENTED]</th>                                                <td>   -7.5278</td> <td>    2.555</td> <td>   -2.946</td> <td> 0.003</td> <td>  -12.541</td> <td>   -2.515</td>\n",
       "</tr>\n",
       "<tr>\n",
       "  <th>OPCS_DESC[T.TOTAL HIP REPLACEMENT EXETER CUP EXETER STEM]</th>                                  <td>   -5.6612</td> <td>    6.135</td> <td>   -0.923</td> <td> 0.356</td> <td>  -17.698</td> <td>    6.375</td>\n",
       "</tr>\n",
       "<tr>\n",
       "  <th>Average_Age</th>                                                                                <td>    0.1339</td> <td>    0.053</td> <td>    2.529</td> <td> 0.012</td> <td>    0.030</td> <td>    0.238</td>\n",
       "</tr>\n",
       "<tr>\n",
       "  <th>CANCER[T.Y]:Average_Age</th>                                                                    <td>    0.0441</td> <td>    0.072</td> <td>    0.614</td> <td> 0.539</td> <td>   -0.097</td> <td>    0.185</td>\n",
       "</tr>\n",
       "<tr>\n",
       "  <th>MED_HX_NAME</th>                                                                                <td>    0.0905</td> <td>    0.537</td> <td>    0.169</td> <td> 0.866</td> <td>   -0.962</td> <td>    1.143</td>\n",
       "</tr>\n",
       "<tr>\n",
       "  <th>CANCER[T.Y]:MED_HX_NAME</th>                                                                    <td>    0.0905</td> <td>    0.537</td> <td>    0.169</td> <td> 0.866</td> <td>   -0.962</td> <td>    1.143</td>\n",
       "</tr>\n",
       "<tr>\n",
       "  <th>Lactate</th>                                                                                    <td>    0.4232</td> <td>    3.943</td> <td>    0.107</td> <td> 0.915</td> <td>   -7.313</td> <td>    8.159</td>\n",
       "</tr>\n",
       "<tr>\n",
       "  <th>Haemoglobin</th>                                                                                <td>   -0.0871</td> <td>    0.068</td> <td>   -1.274</td> <td> 0.203</td> <td>   -0.221</td> <td>    0.047</td>\n",
       "</tr>\n",
       "<tr>\n",
       "  <th>Creatinine</th>                                                                                 <td>   -0.1061</td> <td>    0.076</td> <td>   -1.397</td> <td> 0.163</td> <td>   -0.255</td> <td>    0.043</td>\n",
       "</tr>\n",
       "<tr>\n",
       "  <th>WEIGHT</th>                                                                                     <td>   -0.1208</td> <td>    0.116</td> <td>   -1.045</td> <td> 0.296</td> <td>   -0.347</td> <td>    0.106</td>\n",
       "</tr>\n",
       "<tr>\n",
       "  <th>Lactate:Haemoglobin</th>                                                                        <td>    0.0121</td> <td>    0.027</td> <td>    0.441</td> <td> 0.659</td> <td>   -0.042</td> <td>    0.066</td>\n",
       "</tr>\n",
       "<tr>\n",
       "  <th>Lactate:Creatinine</th>                                                                         <td>    0.0044</td> <td>    0.011</td> <td>    0.406</td> <td> 0.685</td> <td>   -0.017</td> <td>    0.026</td>\n",
       "</tr>\n",
       "<tr>\n",
       "  <th>Lactate:WEIGHT</th>                                                                             <td>   -0.0080</td> <td>    0.046</td> <td>   -0.173</td> <td> 0.863</td> <td>   -0.099</td> <td>    0.083</td>\n",
       "</tr>\n",
       "<tr>\n",
       "  <th>Haemoglobin:Creatinine</th>                                                                     <td>-1.244e-05</td> <td>    0.000</td> <td>   -0.025</td> <td> 0.980</td> <td>   -0.001</td> <td>    0.001</td>\n",
       "</tr>\n",
       "<tr>\n",
       "  <th>Creatinine:WEIGHT</th>                                                                          <td>    0.0013</td> <td>    0.001</td> <td>    1.547</td> <td> 0.122</td> <td>   -0.000</td> <td>    0.003</td>\n",
       "</tr>\n",
       "<tr>\n",
       "  <th>Average_Age:MED_HX_NAME</th>                                                                    <td>   -0.0103</td> <td>    0.009</td> <td>   -1.090</td> <td> 0.276</td> <td>   -0.029</td> <td>    0.008</td>\n",
       "</tr>\n",
       "<tr>\n",
       "  <th>MED_HX_NAME:Lactate</th>                                                                        <td>   -0.1829</td> <td>    0.142</td> <td>   -1.290</td> <td> 0.197</td> <td>   -0.461</td> <td>    0.095</td>\n",
       "</tr>\n",
       "<tr>\n",
       "  <th>MED_HX_NAME:Haemoglobin</th>                                                                    <td>    0.0084</td> <td>    0.006</td> <td>    1.408</td> <td> 0.159</td> <td>   -0.003</td> <td>    0.020</td>\n",
       "</tr>\n",
       "<tr>\n",
       "  <th>MED_HX_NAME:Creatinine</th>                                                                     <td>    0.0036</td> <td>    0.002</td> <td>    2.067</td> <td> 0.039</td> <td>    0.000</td> <td>    0.007</td>\n",
       "</tr>\n",
       "</table>\n",
       "<table class=\"simpletable\">\n",
       "<tr>\n",
       "  <th>Omnibus:</th>       <td>538.883</td> <th>  Durbin-Watson:     </th> <td>   1.690</td>\n",
       "</tr>\n",
       "<tr>\n",
       "  <th>Prob(Omnibus):</th> <td> 0.000</td>  <th>  Jarque-Bera (JB):  </th> <td>2816.285</td>\n",
       "</tr>\n",
       "<tr>\n",
       "  <th>Skew:</th>          <td> 2.050</td>  <th>  Prob(JB):          </th> <td>    0.00</td>\n",
       "</tr>\n",
       "<tr>\n",
       "  <th>Kurtosis:</th>      <td> 9.256</td>  <th>  Cond. No.          </th> <td>1.10e+16</td>\n",
       "</tr>\n",
       "</table><br/><br/>Notes:<br/>[1] Standard Errors assume that the covariance matrix of the errors is correctly specified.<br/>[2] The smallest eigenvalue is 1.44e-21. This might indicate that there are<br/>strong multicollinearity problems or that the design matrix is singular."
      ],
      "text/plain": [
       "<class 'statsmodels.iolib.summary.Summary'>\n",
       "\"\"\"\n",
       "                            OLS Regression Results                            \n",
       "==============================================================================\n",
       "Dep. Variable:                    LOS   R-squared:                       0.105\n",
       "Model:                            OLS   Adj. R-squared:                  0.084\n",
       "Method:                 Least Squares   F-statistic:                     5.101\n",
       "Date:                Thu, 20 Apr 2023   Prob (F-statistic):           1.01e-15\n",
       "Time:                        11:20:49   Log-Likelihood:                -4541.4\n",
       "No. Observations:                1208   AIC:                             9139.\n",
       "Df Residuals:                    1180   BIC:                             9281.\n",
       "Df Model:                          27                                         \n",
       "Covariance Type:            nonrobust                                         \n",
       "==============================================================================================================================================================\n",
       "                                                                                                 coef    std err          t      P>|t|      [0.025      0.975]\n",
       "--------------------------------------------------------------------------------------------------------------------------------------------------------------\n",
       "Intercept                                                                                     18.7632     10.838      1.731      0.084      -2.500      40.027\n",
       "CANCER[T.Y]                                                                                   -1.3219      5.866     -0.225      0.822     -12.830      10.186\n",
       "OPCS_DESC[T.HEMIARTHROPLASTY HIP CANNULOK]                                                    13.1471      7.507      1.751      0.080      -1.581      27.875\n",
       "OPCS_DESC[T.HEMIARTHROPLASTY HIP CEMENTED USING EXETER STEM]                                   0.0276      0.941      0.029      0.977      -1.819       1.874\n",
       "OPCS_DESC[T.HEMIARTHROPLASTY HIP CEMENTED USING EXETER TRAUMA STEM]                            1.5833      1.229      1.288      0.198      -0.829       3.995\n",
       "OPCS_DESC[T.OPEN REDUCTION INTERNAL FIXATION FEMUR]                                            0.5385      3.163      0.170      0.865      -5.667       6.744\n",
       "OPCS_DESC[T.OPEN REDUCTION INTERNAL FIXATION FEMUR USING RIGID NAIL]                          -0.5606      1.646     -0.341      0.733      -3.790       2.669\n",
       "OPCS_DESC[T.OPEN REDUCTION INTERNAL FIXATION FRACTURE NECK OF FEMUR WITH HIP SCREW]           -0.9545      0.967     -0.988      0.324      -2.851       0.942\n",
       "OPCS_DESC[T.OPEN REDUCTION INTERNAL FIXATION TROCHANTERIC FRACTURE FEMUR USING RIGID NAIL]    -0.8500      4.058     -0.209      0.834      -8.813       7.113\n",
       "OPCS_DESC[T.TOTAL HIP REPLACEMENT]                                                            -5.0699      1.587     -3.194      0.001      -8.184      -1.955\n",
       "OPCS_DESC[T.TOTAL HIP REPLACEMENT CEMENTED]                                                   -7.5278      2.555     -2.946      0.003     -12.541      -2.515\n",
       "OPCS_DESC[T.TOTAL HIP REPLACEMENT EXETER CUP EXETER STEM]                                     -5.6612      6.135     -0.923      0.356     -17.698       6.375\n",
       "Average_Age                                                                                    0.1339      0.053      2.529      0.012       0.030       0.238\n",
       "CANCER[T.Y]:Average_Age                                                                        0.0441      0.072      0.614      0.539      -0.097       0.185\n",
       "MED_HX_NAME                                                                                    0.0905      0.537      0.169      0.866      -0.962       1.143\n",
       "CANCER[T.Y]:MED_HX_NAME                                                                        0.0905      0.537      0.169      0.866      -0.962       1.143\n",
       "Lactate                                                                                        0.4232      3.943      0.107      0.915      -7.313       8.159\n",
       "Haemoglobin                                                                                   -0.0871      0.068     -1.274      0.203      -0.221       0.047\n",
       "Creatinine                                                                                    -0.1061      0.076     -1.397      0.163      -0.255       0.043\n",
       "WEIGHT                                                                                        -0.1208      0.116     -1.045      0.296      -0.347       0.106\n",
       "Lactate:Haemoglobin                                                                            0.0121      0.027      0.441      0.659      -0.042       0.066\n",
       "Lactate:Creatinine                                                                             0.0044      0.011      0.406      0.685      -0.017       0.026\n",
       "Lactate:WEIGHT                                                                                -0.0080      0.046     -0.173      0.863      -0.099       0.083\n",
       "Haemoglobin:Creatinine                                                                     -1.244e-05      0.000     -0.025      0.980      -0.001       0.001\n",
       "Creatinine:WEIGHT                                                                              0.0013      0.001      1.547      0.122      -0.000       0.003\n",
       "Average_Age:MED_HX_NAME                                                                       -0.0103      0.009     -1.090      0.276      -0.029       0.008\n",
       "MED_HX_NAME:Lactate                                                                           -0.1829      0.142     -1.290      0.197      -0.461       0.095\n",
       "MED_HX_NAME:Haemoglobin                                                                        0.0084      0.006      1.408      0.159      -0.003       0.020\n",
       "MED_HX_NAME:Creatinine                                                                         0.0036      0.002      2.067      0.039       0.000       0.007\n",
       "==============================================================================\n",
       "Omnibus:                      538.883   Durbin-Watson:                   1.690\n",
       "Prob(Omnibus):                  0.000   Jarque-Bera (JB):             2816.285\n",
       "Skew:                           2.050   Prob(JB):                         0.00\n",
       "Kurtosis:                       9.256   Cond. No.                     1.10e+16\n",
       "==============================================================================\n",
       "\n",
       "Notes:\n",
       "[1] Standard Errors assume that the covariance matrix of the errors is correctly specified.\n",
       "[2] The smallest eigenvalue is 1.44e-21. This might indicate that there are\n",
       "strong multicollinearity problems or that the design matrix is singular.\n",
       "\"\"\""
      ]
     },
     "execution_count": 27,
     "metadata": {},
     "output_type": "execute_result"
    }
   ],
   "source": [
    "lm_full.summary()"
   ]
  },
  {
   "cell_type": "code",
   "execution_count": 28,
   "id": "ebeb54d9",
   "metadata": {},
   "outputs": [
    {
     "data": {
      "text/plain": [
       "9138.756637769986"
      ]
     },
     "execution_count": 28,
     "metadata": {},
     "output_type": "execute_result"
    }
   ],
   "source": [
    "lm_full.aic"
   ]
  },
  {
   "cell_type": "code",
   "execution_count": 29,
   "id": "4922189a",
   "metadata": {},
   "outputs": [
    {
     "data": {
      "text/html": [
       "<div>\n",
       "<style scoped>\n",
       "    .dataframe tbody tr th:only-of-type {\n",
       "        vertical-align: middle;\n",
       "    }\n",
       "\n",
       "    .dataframe tbody tr th {\n",
       "        vertical-align: top;\n",
       "    }\n",
       "\n",
       "    .dataframe thead th {\n",
       "        text-align: right;\n",
       "    }\n",
       "</style>\n",
       "<table border=\"1\" class=\"dataframe\">\n",
       "  <thead>\n",
       "    <tr style=\"text-align: right;\">\n",
       "      <th></th>\n",
       "      <th>df</th>\n",
       "      <th>sum_sq</th>\n",
       "      <th>mean_sq</th>\n",
       "      <th>F</th>\n",
       "      <th>PR(&gt;F)</th>\n",
       "    </tr>\n",
       "  </thead>\n",
       "  <tbody>\n",
       "    <tr>\n",
       "      <th>CANCER</th>\n",
       "      <td>1.0</td>\n",
       "      <td>3351.253328</td>\n",
       "      <td>3351.253328</td>\n",
       "      <td>30.346367</td>\n",
       "      <td>4.433201e-08</td>\n",
       "    </tr>\n",
       "    <tr>\n",
       "      <th>OPCS_DESC</th>\n",
       "      <td>10.0</td>\n",
       "      <td>5564.003832</td>\n",
       "      <td>556.400383</td>\n",
       "      <td>5.038333</td>\n",
       "      <td>3.292433e-07</td>\n",
       "    </tr>\n",
       "    <tr>\n",
       "      <th>Average_Age</th>\n",
       "      <td>1.0</td>\n",
       "      <td>2691.807821</td>\n",
       "      <td>2691.807821</td>\n",
       "      <td>24.374937</td>\n",
       "      <td>9.068496e-07</td>\n",
       "    </tr>\n",
       "    <tr>\n",
       "      <th>CANCER:Average_Age</th>\n",
       "      <td>1.0</td>\n",
       "      <td>2.897968</td>\n",
       "      <td>2.897968</td>\n",
       "      <td>0.026242</td>\n",
       "      <td>8.713390e-01</td>\n",
       "    </tr>\n",
       "    <tr>\n",
       "      <th>MED_HX_NAME</th>\n",
       "      <td>1.0</td>\n",
       "      <td>986.410151</td>\n",
       "      <td>986.410151</td>\n",
       "      <td>8.932170</td>\n",
       "      <td>2.859893e-03</td>\n",
       "    </tr>\n",
       "    <tr>\n",
       "      <th>CANCER:MED_HX_NAME</th>\n",
       "      <td>1.0</td>\n",
       "      <td>412.735818</td>\n",
       "      <td>412.735818</td>\n",
       "      <td>3.737417</td>\n",
       "      <td>5.344561e-02</td>\n",
       "    </tr>\n",
       "    <tr>\n",
       "      <th>Lactate</th>\n",
       "      <td>1.0</td>\n",
       "      <td>524.662365</td>\n",
       "      <td>524.662365</td>\n",
       "      <td>4.750938</td>\n",
       "      <td>2.947950e-02</td>\n",
       "    </tr>\n",
       "    <tr>\n",
       "      <th>Haemoglobin</th>\n",
       "      <td>1.0</td>\n",
       "      <td>436.411193</td>\n",
       "      <td>436.411193</td>\n",
       "      <td>3.951803</td>\n",
       "      <td>4.705195e-02</td>\n",
       "    </tr>\n",
       "    <tr>\n",
       "      <th>Creatinine</th>\n",
       "      <td>1.0</td>\n",
       "      <td>11.838128</td>\n",
       "      <td>11.838128</td>\n",
       "      <td>0.107197</td>\n",
       "      <td>7.434163e-01</td>\n",
       "    </tr>\n",
       "    <tr>\n",
       "      <th>WEIGHT</th>\n",
       "      <td>1.0</td>\n",
       "      <td>58.863596</td>\n",
       "      <td>58.863596</td>\n",
       "      <td>0.533023</td>\n",
       "      <td>4.654835e-01</td>\n",
       "    </tr>\n",
       "    <tr>\n",
       "      <th>Lactate:Haemoglobin</th>\n",
       "      <td>1.0</td>\n",
       "      <td>67.327508</td>\n",
       "      <td>67.327508</td>\n",
       "      <td>0.609666</td>\n",
       "      <td>4.350702e-01</td>\n",
       "    </tr>\n",
       "    <tr>\n",
       "      <th>Lactate:Creatinine</th>\n",
       "      <td>1.0</td>\n",
       "      <td>70.997669</td>\n",
       "      <td>70.997669</td>\n",
       "      <td>0.642900</td>\n",
       "      <td>4.228240e-01</td>\n",
       "    </tr>\n",
       "    <tr>\n",
       "      <th>Lactate:WEIGHT</th>\n",
       "      <td>1.0</td>\n",
       "      <td>1.214591</td>\n",
       "      <td>1.214591</td>\n",
       "      <td>0.010998</td>\n",
       "      <td>9.164942e-01</td>\n",
       "    </tr>\n",
       "    <tr>\n",
       "      <th>Haemoglobin:Creatinine</th>\n",
       "      <td>1.0</td>\n",
       "      <td>0.684066</td>\n",
       "      <td>0.684066</td>\n",
       "      <td>0.006194</td>\n",
       "      <td>9.372811e-01</td>\n",
       "    </tr>\n",
       "    <tr>\n",
       "      <th>Creatinine:WEIGHT</th>\n",
       "      <td>1.0</td>\n",
       "      <td>455.767957</td>\n",
       "      <td>455.767957</td>\n",
       "      <td>4.127083</td>\n",
       "      <td>4.242575e-02</td>\n",
       "    </tr>\n",
       "    <tr>\n",
       "      <th>Average_Age:MED_HX_NAME</th>\n",
       "      <td>1.0</td>\n",
       "      <td>98.214546</td>\n",
       "      <td>98.214546</td>\n",
       "      <td>0.889355</td>\n",
       "      <td>3.458451e-01</td>\n",
       "    </tr>\n",
       "    <tr>\n",
       "      <th>MED_HX_NAME:Lactate</th>\n",
       "      <td>1.0</td>\n",
       "      <td>257.912676</td>\n",
       "      <td>257.912676</td>\n",
       "      <td>2.335458</td>\n",
       "      <td>1.267258e-01</td>\n",
       "    </tr>\n",
       "    <tr>\n",
       "      <th>MED_HX_NAME:Haemoglobin</th>\n",
       "      <td>1.0</td>\n",
       "      <td>140.731273</td>\n",
       "      <td>140.731273</td>\n",
       "      <td>1.274354</td>\n",
       "      <td>2.591809e-01</td>\n",
       "    </tr>\n",
       "    <tr>\n",
       "      <th>MED_HX_NAME:Creatinine</th>\n",
       "      <td>1.0</td>\n",
       "      <td>465.007655</td>\n",
       "      <td>465.007655</td>\n",
       "      <td>4.210751</td>\n",
       "      <td>4.038882e-02</td>\n",
       "    </tr>\n",
       "    <tr>\n",
       "      <th>Residual</th>\n",
       "      <td>1180.0</td>\n",
       "      <td>130311.444135</td>\n",
       "      <td>110.433427</td>\n",
       "      <td>NaN</td>\n",
       "      <td>NaN</td>\n",
       "    </tr>\n",
       "  </tbody>\n",
       "</table>\n",
       "</div>"
      ],
      "text/plain": [
       "                             df         sum_sq      mean_sq          F  \\\n",
       "CANCER                      1.0    3351.253328  3351.253328  30.346367   \n",
       "OPCS_DESC                  10.0    5564.003832   556.400383   5.038333   \n",
       "Average_Age                 1.0    2691.807821  2691.807821  24.374937   \n",
       "CANCER:Average_Age          1.0       2.897968     2.897968   0.026242   \n",
       "MED_HX_NAME                 1.0     986.410151   986.410151   8.932170   \n",
       "CANCER:MED_HX_NAME          1.0     412.735818   412.735818   3.737417   \n",
       "Lactate                     1.0     524.662365   524.662365   4.750938   \n",
       "Haemoglobin                 1.0     436.411193   436.411193   3.951803   \n",
       "Creatinine                  1.0      11.838128    11.838128   0.107197   \n",
       "WEIGHT                      1.0      58.863596    58.863596   0.533023   \n",
       "Lactate:Haemoglobin         1.0      67.327508    67.327508   0.609666   \n",
       "Lactate:Creatinine          1.0      70.997669    70.997669   0.642900   \n",
       "Lactate:WEIGHT              1.0       1.214591     1.214591   0.010998   \n",
       "Haemoglobin:Creatinine      1.0       0.684066     0.684066   0.006194   \n",
       "Creatinine:WEIGHT           1.0     455.767957   455.767957   4.127083   \n",
       "Average_Age:MED_HX_NAME     1.0      98.214546    98.214546   0.889355   \n",
       "MED_HX_NAME:Lactate         1.0     257.912676   257.912676   2.335458   \n",
       "MED_HX_NAME:Haemoglobin     1.0     140.731273   140.731273   1.274354   \n",
       "MED_HX_NAME:Creatinine      1.0     465.007655   465.007655   4.210751   \n",
       "Residual                 1180.0  130311.444135   110.433427        NaN   \n",
       "\n",
       "                               PR(>F)  \n",
       "CANCER                   4.433201e-08  \n",
       "OPCS_DESC                3.292433e-07  \n",
       "Average_Age              9.068496e-07  \n",
       "CANCER:Average_Age       8.713390e-01  \n",
       "MED_HX_NAME              2.859893e-03  \n",
       "CANCER:MED_HX_NAME       5.344561e-02  \n",
       "Lactate                  2.947950e-02  \n",
       "Haemoglobin              4.705195e-02  \n",
       "Creatinine               7.434163e-01  \n",
       "WEIGHT                   4.654835e-01  \n",
       "Lactate:Haemoglobin      4.350702e-01  \n",
       "Lactate:Creatinine       4.228240e-01  \n",
       "Lactate:WEIGHT           9.164942e-01  \n",
       "Haemoglobin:Creatinine   9.372811e-01  \n",
       "Creatinine:WEIGHT        4.242575e-02  \n",
       "Average_Age:MED_HX_NAME  3.458451e-01  \n",
       "MED_HX_NAME:Lactate      1.267258e-01  \n",
       "MED_HX_NAME:Haemoglobin  2.591809e-01  \n",
       "MED_HX_NAME:Creatinine   4.038882e-02  \n",
       "Residual                          NaN  "
      ]
     },
     "execution_count": 29,
     "metadata": {},
     "output_type": "execute_result"
    }
   ],
   "source": [
    "aov_table = anova_lm(lm_full,typ=1)\n",
    "aov_table"
   ]
  },
  {
   "cell_type": "code",
   "execution_count": 30,
   "id": "4adb0101",
   "metadata": {},
   "outputs": [],
   "source": [
    "lm_full1 = ols('LOS ~ CANCER + OPCS_DESC + Average_Age + MED_HX_NAME + Lactate + Haemoglobin + Creatinine + WEIGHT + CANCER:Average_Age + Lactate:Haemoglobin + Lactate:Creatinine + Lactate:WEIGHT + Haemoglobin:Creatinine + Creatinine:WEIGHT + CANCER:MED_HX_NAME+ Average_Age:MED_HX_NAME + MED_HX_NAME:Lactate + MED_HX_NAME:Haemoglobin',data=df).fit()\n"
   ]
  },
  {
   "cell_type": "code",
   "execution_count": 31,
   "id": "2993ee96",
   "metadata": {},
   "outputs": [],
   "source": [
    "lm_full2 = ols('LOS ~ CANCER + OPCS_DESC + Average_Age + MED_HX_NAME + Lactate + Haemoglobin + Creatinine + WEIGHT + CANCER:Average_Age + Lactate:Haemoglobin + Lactate:Creatinine + Lactate:WEIGHT + Haemoglobin:Creatinine + Creatinine:WEIGHT + CANCER:MED_HX_NAME+ Average_Age:MED_HX_NAME + MED_HX_NAME:Lactate + MED_HX_NAME:Creatinine',data=df).fit()\n"
   ]
  },
  {
   "cell_type": "code",
   "execution_count": 32,
   "id": "acf7f909",
   "metadata": {},
   "outputs": [],
   "source": [
    "lm_full3 = ols('LOS ~ CANCER + OPCS_DESC + Average_Age + MED_HX_NAME + Lactate + Haemoglobin + Creatinine + WEIGHT + CANCER:Average_Age + Lactate:Haemoglobin + Lactate:Creatinine + Lactate:WEIGHT + Haemoglobin:Creatinine + Creatinine:WEIGHT + CANCER:MED_HX_NAME+ Average_Age:MED_HX_NAME+ MED_HX_NAME:Haemoglobin + MED_HX_NAME:Creatinine',data=df).fit()\n"
   ]
  },
  {
   "cell_type": "code",
   "execution_count": 33,
   "id": "9e47a817",
   "metadata": {},
   "outputs": [],
   "source": [
    "lm_full4 = ols('LOS ~ CANCER + OPCS_DESC + Average_Age + MED_HX_NAME + Lactate + Haemoglobin + Creatinine + WEIGHT + CANCER:Average_Age + Lactate:Haemoglobin + Lactate:Creatinine + Lactate:WEIGHT + Haemoglobin:Creatinine + Creatinine:WEIGHT + CANCER:MED_HX_NAME+ MED_HX_NAME:Lactate + MED_HX_NAME:Haemoglobin + MED_HX_NAME:Creatinine',data=df).fit()\n"
   ]
  },
  {
   "cell_type": "code",
   "execution_count": 34,
   "id": "31f56b0b",
   "metadata": {},
   "outputs": [],
   "source": [
    "lm_full5 = ols('LOS ~ CANCER + OPCS_DESC + Average_Age + MED_HX_NAME + Lactate + Haemoglobin + Creatinine + WEIGHT + CANCER:Average_Age + Lactate:Haemoglobin + Lactate:Creatinine + Lactate:WEIGHT + Haemoglobin:Creatinine + Creatinine:WEIGHT + Average_Age:MED_HX_NAME + MED_HX_NAME:Lactate + MED_HX_NAME:Haemoglobin + MED_HX_NAME:Creatinine',data=df).fit()\n"
   ]
  },
  {
   "cell_type": "code",
   "execution_count": 35,
   "id": "f2f1623a",
   "metadata": {},
   "outputs": [],
   "source": [
    "lm_full6 = ols('LOS ~ CANCER + OPCS_DESC + Average_Age + MED_HX_NAME + Lactate + Haemoglobin + Creatinine + WEIGHT + CANCER:Average_Age + Lactate:Haemoglobin + Lactate:Creatinine + Lactate:WEIGHT + Haemoglobin:Creatinine + CANCER:MED_HX_NAME+ Average_Age:MED_HX_NAME + MED_HX_NAME:Lactate + MED_HX_NAME:Haemoglobin + MED_HX_NAME:Creatinine',data=df).fit()\n"
   ]
  },
  {
   "cell_type": "code",
   "execution_count": 36,
   "id": "8baca7cd",
   "metadata": {},
   "outputs": [],
   "source": [
    "lm_full7 = ols('LOS ~ CANCER + OPCS_DESC + Average_Age + MED_HX_NAME + Lactate + Haemoglobin + Creatinine + WEIGHT + CANCER:Average_Age + Lactate:Haemoglobin + Lactate:Creatinine + Lactate:WEIGHT + Creatinine:WEIGHT + CANCER:MED_HX_NAME+ Average_Age:MED_HX_NAME + MED_HX_NAME:Lactate + MED_HX_NAME:Haemoglobin + MED_HX_NAME:Creatinine',data=df).fit()\n"
   ]
  },
  {
   "cell_type": "code",
   "execution_count": 37,
   "id": "31bd4edb",
   "metadata": {},
   "outputs": [],
   "source": [
    "lm_full8 = ols('LOS ~ CANCER + OPCS_DESC + Average_Age + MED_HX_NAME + Lactate + Haemoglobin + Creatinine + WEIGHT + CANCER:Average_Age + Lactate:Haemoglobin + Lactate:Creatinine + Haemoglobin:Creatinine + Creatinine:WEIGHT + CANCER:MED_HX_NAME+ Average_Age:MED_HX_NAME + MED_HX_NAME:Lactate + MED_HX_NAME:Haemoglobin + MED_HX_NAME:Creatinine',data=df).fit()\n"
   ]
  },
  {
   "cell_type": "code",
   "execution_count": 38,
   "id": "8f04e24f",
   "metadata": {},
   "outputs": [],
   "source": [
    "lm_full9 = ols('LOS ~ CANCER + OPCS_DESC + Average_Age + MED_HX_NAME + Lactate + Haemoglobin + Creatinine + WEIGHT + Lactate:WEIGHT + Haemoglobin:Creatinine + Creatinine:WEIGHT + CANCER:MED_HX_NAME+ Average_Age:MED_HX_NAME + MED_HX_NAME:Lactate + MED_HX_NAME:Haemoglobin + MED_HX_NAME:Creatinine',data=df).fit()\n"
   ]
  },
  {
   "cell_type": "code",
   "execution_count": 39,
   "id": "9916cb90",
   "metadata": {},
   "outputs": [
    {
     "data": {
      "text/plain": [
       "9141.121264382971"
      ]
     },
     "execution_count": 39,
     "metadata": {},
     "output_type": "execute_result"
    }
   ],
   "source": [
    "lm_full1.aic"
   ]
  },
  {
   "cell_type": "code",
   "execution_count": 40,
   "id": "d81ec1f8",
   "metadata": {},
   "outputs": [
    {
     "data": {
      "text/plain": [
       "9138.784691971607"
      ]
     },
     "execution_count": 40,
     "metadata": {},
     "output_type": "execute_result"
    }
   ],
   "source": [
    "lm_full2.aic"
   ]
  },
  {
   "cell_type": "code",
   "execution_count": 41,
   "id": "dceb47e8",
   "metadata": {},
   "outputs": [
    {
     "data": {
      "text/plain": [
       "9138.459985059755"
      ]
     },
     "execution_count": 41,
     "metadata": {},
     "output_type": "execute_result"
    }
   ],
   "source": [
    "lm_full3.aic"
   ]
  },
  {
   "cell_type": "code",
   "execution_count": 42,
   "id": "afccf30a",
   "metadata": {},
   "outputs": [
    {
     "data": {
      "text/plain": [
       "9137.973397236488"
      ]
     },
     "execution_count": 42,
     "metadata": {},
     "output_type": "execute_result"
    }
   ],
   "source": [
    "lm_full4.aic"
   ]
  },
  {
   "cell_type": "code",
   "execution_count": 43,
   "id": "5e2deba1",
   "metadata": {},
   "outputs": [
    {
     "data": {
      "text/plain": [
       "9138.756637769986"
      ]
     },
     "execution_count": 43,
     "metadata": {},
     "output_type": "execute_result"
    }
   ],
   "source": [
    "lm_full5.aic"
   ]
  },
  {
   "cell_type": "code",
   "execution_count": 44,
   "id": "02297f24",
   "metadata": {},
   "outputs": [
    {
     "data": {
      "text/plain": [
       "9139.205370823918"
      ]
     },
     "execution_count": 44,
     "metadata": {},
     "output_type": "execute_result"
    }
   ],
   "source": [
    "lm_full6.aic"
   ]
  },
  {
   "cell_type": "code",
   "execution_count": 45,
   "id": "0494be6d",
   "metadata": {},
   "outputs": [
    {
     "data": {
      "text/plain": [
       "9136.757283687053"
      ]
     },
     "execution_count": 45,
     "metadata": {},
     "output_type": "execute_result"
    }
   ],
   "source": [
    "lm_full7.aic"
   ]
  },
  {
   "cell_type": "code",
   "execution_count": 46,
   "id": "f18082bc",
   "metadata": {},
   "outputs": [
    {
     "data": {
      "text/plain": [
       "9136.787137137195"
      ]
     },
     "execution_count": 46,
     "metadata": {},
     "output_type": "execute_result"
    }
   ],
   "source": [
    "lm_full8.aic"
   ]
  },
  {
   "cell_type": "code",
   "execution_count": 47,
   "id": "481eb298",
   "metadata": {},
   "outputs": [
    {
     "data": {
      "text/plain": [
       "9133.471806569893"
      ]
     },
     "execution_count": 47,
     "metadata": {},
     "output_type": "execute_result"
    }
   ],
   "source": [
    "lm_full9.aic #Best "
   ]
  },
  {
   "cell_type": "code",
   "execution_count": 48,
   "id": "ad4ff207",
   "metadata": {},
   "outputs": [],
   "source": [
    "lm_full10 = ols('LOS ~ CANCER + OPCS_DESC + Average_Age + MED_HX_NAME + Lactate + Haemoglobin + Creatinine + WEIGHT + Lactate:WEIGHT + Haemoglobin:Creatinine + Creatinine:WEIGHT + CANCER:MED_HX_NAME+ Average_Age:MED_HX_NAME + MED_HX_NAME:Lactate + MED_HX_NAME:Haemoglobin',data=df).fit()"
   ]
  },
  {
   "cell_type": "code",
   "execution_count": 49,
   "id": "7a7ffb1d",
   "metadata": {},
   "outputs": [],
   "source": [
    "lm_full11 = ols('LOS ~ CANCER + OPCS_DESC + Average_Age + MED_HX_NAME + Lactate + Haemoglobin + Creatinine + WEIGHT + Lactate:WEIGHT + Haemoglobin:Creatinine + Creatinine:WEIGHT + CANCER:MED_HX_NAME+ Average_Age:MED_HX_NAME + MED_HX_NAME:Lactate + MED_HX_NAME:Creatinine',data=df).fit()"
   ]
  },
  {
   "cell_type": "code",
   "execution_count": 50,
   "id": "52294da7",
   "metadata": {},
   "outputs": [],
   "source": [
    "lm_full12 = ols('LOS ~ CANCER + OPCS_DESC + Average_Age + MED_HX_NAME + Lactate + Haemoglobin + Creatinine + WEIGHT + Lactate:WEIGHT + Haemoglobin:Creatinine + Creatinine:WEIGHT + CANCER:MED_HX_NAME+ Average_Age:MED_HX_NAME + MED_HX_NAME:Haemoglobin + MED_HX_NAME:Creatinine',data=df).fit()"
   ]
  },
  {
   "cell_type": "code",
   "execution_count": 51,
   "id": "f209f1d8",
   "metadata": {},
   "outputs": [],
   "source": [
    "lm_full13 = ols('LOS ~ CANCER + OPCS_DESC + Average_Age + MED_HX_NAME + Lactate + Haemoglobin + Creatinine + WEIGHT + Lactate:WEIGHT + Haemoglobin:Creatinine + Creatinine:WEIGHT + CANCER:MED_HX_NAME + MED_HX_NAME:Lactate + MED_HX_NAME:Haemoglobin + MED_HX_NAME:Creatinine',data=df).fit()"
   ]
  },
  {
   "cell_type": "code",
   "execution_count": 52,
   "id": "fb9c24d2",
   "metadata": {},
   "outputs": [],
   "source": [
    "lm_full14 = ols('LOS ~ CANCER + OPCS_DESC + Average_Age + MED_HX_NAME + Lactate + Haemoglobin + Creatinine + WEIGHT + Lactate:WEIGHT + Haemoglobin:Creatinine + Creatinine:WEIGHT + Average_Age:MED_HX_NAME + MED_HX_NAME:Lactate + MED_HX_NAME:Haemoglobin + MED_HX_NAME:Creatinine',data=df).fit()"
   ]
  },
  {
   "cell_type": "code",
   "execution_count": 53,
   "id": "b36e8a80",
   "metadata": {},
   "outputs": [],
   "source": [
    "lm_full15 = ols('LOS ~ CANCER + OPCS_DESC + Average_Age + MED_HX_NAME + Lactate + Haemoglobin + Creatinine + WEIGHT + Lactate:WEIGHT + Haemoglobin:Creatinine + CANCER:MED_HX_NAME+ Average_Age:MED_HX_NAME + MED_HX_NAME:Lactate + MED_HX_NAME:Haemoglobin + MED_HX_NAME:Creatinine',data=df).fit()"
   ]
  },
  {
   "cell_type": "code",
   "execution_count": 54,
   "id": "1a301b2f",
   "metadata": {},
   "outputs": [],
   "source": [
    "lm_full16 = ols('LOS ~ CANCER + OPCS_DESC + Average_Age + MED_HX_NAME + Lactate + Haemoglobin + Creatinine + WEIGHT + Lactate:WEIGHT + Creatinine:WEIGHT + CANCER:MED_HX_NAME+ Average_Age:MED_HX_NAME + MED_HX_NAME:Lactate + MED_HX_NAME:Haemoglobin + MED_HX_NAME:Creatinine',data=df).fit()"
   ]
  },
  {
   "cell_type": "code",
   "execution_count": 55,
   "id": "88862d8d",
   "metadata": {},
   "outputs": [],
   "source": [
    "lm_full17 = ols('LOS ~ CANCER + OPCS_DESC + Average_Age + MED_HX_NAME + Lactate + Haemoglobin + Creatinine + WEIGHT + Haemoglobin:Creatinine + Creatinine:WEIGHT + CANCER:MED_HX_NAME+ Average_Age:MED_HX_NAME + MED_HX_NAME:Lactate + MED_HX_NAME:Haemoglobin + MED_HX_NAME:Creatinine',data=df).fit()"
   ]
  },
  {
   "cell_type": "code",
   "execution_count": 56,
   "id": "11135036",
   "metadata": {},
   "outputs": [
    {
     "data": {
      "text/plain": [
       "9135.845538449346"
      ]
     },
     "execution_count": 56,
     "metadata": {},
     "output_type": "execute_result"
    }
   ],
   "source": [
    "lm_full10.aic"
   ]
  },
  {
   "cell_type": "code",
   "execution_count": 57,
   "id": "372b5cfc",
   "metadata": {},
   "outputs": [
    {
     "data": {
      "text/plain": [
       "9133.387141637715"
      ]
     },
     "execution_count": 57,
     "metadata": {},
     "output_type": "execute_result"
    }
   ],
   "source": [
    "lm_full11.aic"
   ]
  },
  {
   "cell_type": "code",
   "execution_count": 58,
   "id": "bb378c92",
   "metadata": {},
   "outputs": [
    {
     "data": {
      "text/plain": [
       "9133.422463395742"
      ]
     },
     "execution_count": 58,
     "metadata": {},
     "output_type": "execute_result"
    }
   ],
   "source": [
    "lm_full12.aic"
   ]
  },
  {
   "cell_type": "code",
   "execution_count": 59,
   "id": "3a726d68",
   "metadata": {},
   "outputs": [
    {
     "data": {
      "text/plain": [
       "9132.279522541246"
      ]
     },
     "execution_count": 59,
     "metadata": {},
     "output_type": "execute_result"
    }
   ],
   "source": [
    "lm_full13.aic"
   ]
  },
  {
   "cell_type": "code",
   "execution_count": 60,
   "id": "ca144960",
   "metadata": {},
   "outputs": [
    {
     "data": {
      "text/plain": [
       "9133.471806569893"
      ]
     },
     "execution_count": 60,
     "metadata": {},
     "output_type": "execute_result"
    }
   ],
   "source": [
    "lm_full14.aic"
   ]
  },
  {
   "cell_type": "code",
   "execution_count": 61,
   "id": "b59006bc",
   "metadata": {},
   "outputs": [
    {
     "data": {
      "text/plain": [
       "9133.96800850229"
      ]
     },
     "execution_count": 61,
     "metadata": {},
     "output_type": "execute_result"
    }
   ],
   "source": [
    "lm_full15.aic"
   ]
  },
  {
   "cell_type": "code",
   "execution_count": 62,
   "id": "3275d899",
   "metadata": {},
   "outputs": [
    {
     "data": {
      "text/plain": [
       "9131.471807148782"
      ]
     },
     "execution_count": 62,
     "metadata": {},
     "output_type": "execute_result"
    }
   ],
   "source": [
    "lm_full16.aic #Best Model "
   ]
  },
  {
   "cell_type": "code",
   "execution_count": 63,
   "id": "9fc72a88",
   "metadata": {},
   "outputs": [
    {
     "data": {
      "text/plain": [
       "9131.4719848985"
      ]
     },
     "execution_count": 63,
     "metadata": {},
     "output_type": "execute_result"
    }
   ],
   "source": [
    "lm_full17.aic"
   ]
  },
  {
   "cell_type": "code",
   "execution_count": 64,
   "id": "b8d3e717",
   "metadata": {},
   "outputs": [],
   "source": [
    "lm_full18 = ols('LOS ~ CANCER + OPCS_DESC + Average_Age + MED_HX_NAME + Lactate + Haemoglobin + Creatinine + WEIGHT + Lactate:WEIGHT + Creatinine:WEIGHT + CANCER:MED_HX_NAME+ Average_Age:MED_HX_NAME + MED_HX_NAME:Lactate + MED_HX_NAME:Haemoglobin',data=df).fit()"
   ]
  },
  {
   "cell_type": "code",
   "execution_count": 65,
   "id": "bc7710e4",
   "metadata": {},
   "outputs": [],
   "source": [
    "lm_full19 = ols('LOS ~ CANCER + OPCS_DESC + Average_Age + MED_HX_NAME + Lactate + Haemoglobin + Creatinine + WEIGHT + Lactate:WEIGHT + Creatinine:WEIGHT + CANCER:MED_HX_NAME+ Average_Age:MED_HX_NAME + MED_HX_NAME:Lactate  + MED_HX_NAME:Creatinine',data=df).fit()"
   ]
  },
  {
   "cell_type": "code",
   "execution_count": 66,
   "id": "3321127e",
   "metadata": {},
   "outputs": [],
   "source": [
    "lm_full20 = ols('LOS ~ CANCER + OPCS_DESC + Average_Age + MED_HX_NAME + Lactate + Haemoglobin + Creatinine + WEIGHT + Lactate:WEIGHT + Creatinine:WEIGHT + CANCER:MED_HX_NAME+ Average_Age:MED_HX_NAME + MED_HX_NAME:Haemoglobin + MED_HX_NAME:Creatinine',data=df).fit()"
   ]
  },
  {
   "cell_type": "code",
   "execution_count": 67,
   "id": "30ffaca2",
   "metadata": {},
   "outputs": [],
   "source": [
    "lm_full21 = ols('LOS ~ CANCER + OPCS_DESC + Average_Age + MED_HX_NAME + Lactate + Haemoglobin + Creatinine + WEIGHT + Lactate:WEIGHT + Creatinine:WEIGHT + CANCER:MED_HX_NAME + MED_HX_NAME:Lactate + MED_HX_NAME:Haemoglobin + MED_HX_NAME:Creatinine',data=df).fit()"
   ]
  },
  {
   "cell_type": "code",
   "execution_count": 68,
   "id": "2d6c23a8",
   "metadata": {},
   "outputs": [],
   "source": [
    "lm_full22 = ols('LOS ~ CANCER + OPCS_DESC + Average_Age + MED_HX_NAME + Lactate + Haemoglobin + Creatinine + WEIGHT + Lactate:WEIGHT + Creatinine:WEIGHT + Average_Age:MED_HX_NAME + MED_HX_NAME:Lactate + MED_HX_NAME:Haemoglobin + MED_HX_NAME:Creatinine',data=df).fit()"
   ]
  },
  {
   "cell_type": "code",
   "execution_count": 69,
   "id": "ce277aff",
   "metadata": {},
   "outputs": [],
   "source": [
    "lm_full23 = ols('LOS ~ CANCER + OPCS_DESC + Average_Age + MED_HX_NAME + Lactate + Haemoglobin + Creatinine + WEIGHT + Lactate:WEIGHT + CANCER:MED_HX_NAME+ Average_Age:MED_HX_NAME + MED_HX_NAME:Lactate + MED_HX_NAME:Haemoglobin + MED_HX_NAME:Creatinine',data=df).fit()"
   ]
  },
  {
   "cell_type": "code",
   "execution_count": 70,
   "id": "fbed7bef",
   "metadata": {},
   "outputs": [],
   "source": [
    "lm_full24 = ols('LOS ~ CANCER + OPCS_DESC + Average_Age + MED_HX_NAME + Lactate + Haemoglobin + Creatinine + WEIGHT + Creatinine:WEIGHT + CANCER:MED_HX_NAME+ Average_Age:MED_HX_NAME + MED_HX_NAME:Lactate + MED_HX_NAME:Haemoglobin + MED_HX_NAME:Creatinine',data=df).fit()"
   ]
  },
  {
   "cell_type": "code",
   "execution_count": 71,
   "id": "253f94ff",
   "metadata": {},
   "outputs": [
    {
     "data": {
      "text/plain": [
       "9133.908127598506"
      ]
     },
     "execution_count": 71,
     "metadata": {},
     "output_type": "execute_result"
    }
   ],
   "source": [
    "lm_full18.aic"
   ]
  },
  {
   "cell_type": "code",
   "execution_count": 72,
   "id": "188273fb",
   "metadata": {},
   "outputs": [
    {
     "data": {
      "text/plain": [
       "9131.393641726983"
      ]
     },
     "execution_count": 72,
     "metadata": {},
     "output_type": "execute_result"
    }
   ],
   "source": [
    "lm_full19.aic"
   ]
  },
  {
   "cell_type": "code",
   "execution_count": 73,
   "id": "c05ed0fb",
   "metadata": {},
   "outputs": [
    {
     "data": {
      "text/plain": [
       "9131.422904570154"
      ]
     },
     "execution_count": 73,
     "metadata": {},
     "output_type": "execute_result"
    }
   ],
   "source": [
    "lm_full20.aic"
   ]
  },
  {
   "cell_type": "code",
   "execution_count": 74,
   "id": "c1771566",
   "metadata": {},
   "outputs": [
    {
     "data": {
      "text/plain": [
       "9130.27958304376"
      ]
     },
     "execution_count": 74,
     "metadata": {},
     "output_type": "execute_result"
    }
   ],
   "source": [
    "lm_full21.aic"
   ]
  },
  {
   "cell_type": "code",
   "execution_count": 75,
   "id": "7bb8d854",
   "metadata": {},
   "outputs": [
    {
     "data": {
      "text/plain": [
       "9131.471807148782"
      ]
     },
     "execution_count": 75,
     "metadata": {},
     "output_type": "execute_result"
    }
   ],
   "source": [
    "lm_full22.aic"
   ]
  },
  {
   "cell_type": "code",
   "execution_count": 76,
   "id": "d78e9f7d",
   "metadata": {},
   "outputs": [
    {
     "data": {
      "text/plain": [
       "9131.982072976447"
      ]
     },
     "execution_count": 76,
     "metadata": {},
     "output_type": "execute_result"
    }
   ],
   "source": [
    "lm_full23.aic"
   ]
  },
  {
   "cell_type": "code",
   "execution_count": 77,
   "id": "78e35650",
   "metadata": {},
   "outputs": [
    {
     "data": {
      "text/plain": [
       "9129.471985036073"
      ]
     },
     "execution_count": 77,
     "metadata": {},
     "output_type": "execute_result"
    }
   ],
   "source": [
    "lm_full24.aic #Lowesr AIC"
   ]
  },
  {
   "cell_type": "code",
   "execution_count": 78,
   "id": "6a854582",
   "metadata": {},
   "outputs": [],
   "source": [
    "lm_full25 = ols('LOS ~ CANCER + OPCS_DESC + Average_Age + MED_HX_NAME + Lactate + Haemoglobin + Creatinine + WEIGHT + Creatinine:WEIGHT + CANCER:MED_HX_NAME+ Average_Age:MED_HX_NAME + MED_HX_NAME:Lactate + MED_HX_NAME:Haemoglobin',data=df).fit()"
   ]
  },
  {
   "cell_type": "code",
   "execution_count": 79,
   "id": "f77c2d51",
   "metadata": {},
   "outputs": [],
   "source": [
    "lm_full26 = ols('LOS ~ CANCER + OPCS_DESC + Average_Age + MED_HX_NAME + Lactate + Haemoglobin + Creatinine + WEIGHT + Creatinine:WEIGHT + CANCER:MED_HX_NAME+ Average_Age:MED_HX_NAME + MED_HX_NAME:Lactate  + MED_HX_NAME:Creatinine',data=df).fit()"
   ]
  },
  {
   "cell_type": "code",
   "execution_count": 80,
   "id": "22f8125e",
   "metadata": {},
   "outputs": [],
   "source": [
    "lm_full27 = ols('LOS ~ CANCER + OPCS_DESC + Average_Age + MED_HX_NAME + Lactate + Haemoglobin + Creatinine + WEIGHT + Creatinine:WEIGHT + CANCER:MED_HX_NAME+ Average_Age:MED_HX_NAME + MED_HX_NAME:Haemoglobin + MED_HX_NAME:Creatinine',data=df).fit()"
   ]
  },
  {
   "cell_type": "code",
   "execution_count": 81,
   "id": "1d77900c",
   "metadata": {},
   "outputs": [],
   "source": [
    "lm_full28 = ols('LOS ~ CANCER + OPCS_DESC + Average_Age + MED_HX_NAME + Lactate + Haemoglobin + Creatinine + WEIGHT + Creatinine:WEIGHT + CANCER:MED_HX_NAME+ + MED_HX_NAME:Lactate + MED_HX_NAME:Haemoglobin + MED_HX_NAME:Creatinine',data=df).fit()"
   ]
  },
  {
   "cell_type": "code",
   "execution_count": 82,
   "id": "6fcf0e2f",
   "metadata": {},
   "outputs": [],
   "source": [
    "lm_full29 = ols('LOS ~ CANCER + OPCS_DESC + Average_Age + MED_HX_NAME + Lactate + Haemoglobin + Creatinine + WEIGHT + Creatinine:WEIGHT + Average_Age:MED_HX_NAME + MED_HX_NAME:Lactate + MED_HX_NAME:Haemoglobin + MED_HX_NAME:Creatinine',data=df).fit()"
   ]
  },
  {
   "cell_type": "code",
   "execution_count": 83,
   "id": "d84a83da",
   "metadata": {},
   "outputs": [],
   "source": [
    "lm_full30 = ols('LOS ~ CANCER + OPCS_DESC + Average_Age + MED_HX_NAME + Lactate + Haemoglobin + Creatinine + WEIGHT + CANCER:MED_HX_NAME+ Average_Age:MED_HX_NAME + MED_HX_NAME:Lactate + MED_HX_NAME:Haemoglobin + MED_HX_NAME:Creatinine',data=df).fit()"
   ]
  },
  {
   "cell_type": "code",
   "execution_count": 84,
   "id": "b11fff2c",
   "metadata": {},
   "outputs": [],
   "source": [
    "lm_full31 = ols('LOS ~ CANCER + OPCS_DESC + Average_Age + MED_HX_NAME + Lactate + Haemoglobin + Creatinine + WEIGHT + Creatinine:WEIGHT + CANCER:MED_HX_NAME+ Average_Age:MED_HX_NAME + MED_HX_NAME:Lactate + MED_HX_NAME:Haemoglobin + MED_HX_NAME:Creatinine',data=df).fit()"
   ]
  },
  {
   "cell_type": "code",
   "execution_count": 85,
   "id": "d228f858",
   "metadata": {},
   "outputs": [
    {
     "data": {
      "text/plain": [
       "9131.914263179313"
      ]
     },
     "execution_count": 85,
     "metadata": {},
     "output_type": "execute_result"
    }
   ],
   "source": [
    "lm_full25.aic"
   ]
  },
  {
   "cell_type": "code",
   "execution_count": 86,
   "id": "561ed942",
   "metadata": {},
   "outputs": [
    {
     "data": {
      "text/plain": [
       "9129.394083193169"
      ]
     },
     "execution_count": 86,
     "metadata": {},
     "output_type": "execute_result"
    }
   ],
   "source": [
    "lm_full26.aic"
   ]
  },
  {
   "cell_type": "code",
   "execution_count": 87,
   "id": "027ce726",
   "metadata": {},
   "outputs": [
    {
     "data": {
      "text/plain": [
       "9129.424688645115"
      ]
     },
     "execution_count": 87,
     "metadata": {},
     "output_type": "execute_result"
    }
   ],
   "source": [
    "lm_full27.aic"
   ]
  },
  {
   "cell_type": "code",
   "execution_count": 88,
   "id": "9de3f232",
   "metadata": {},
   "outputs": [
    {
     "data": {
      "text/plain": [
       "9128.280507226378"
      ]
     },
     "execution_count": 88,
     "metadata": {},
     "output_type": "execute_result"
    }
   ],
   "source": [
    "lm_full28.aic #Lowest AIC"
   ]
  },
  {
   "cell_type": "code",
   "execution_count": 89,
   "id": "4e44cafb",
   "metadata": {},
   "outputs": [
    {
     "data": {
      "text/plain": [
       "9129.471985036073"
      ]
     },
     "execution_count": 89,
     "metadata": {},
     "output_type": "execute_result"
    }
   ],
   "source": [
    "lm_full29.aic"
   ]
  },
  {
   "cell_type": "code",
   "execution_count": 90,
   "id": "d2b40fc2",
   "metadata": {},
   "outputs": [
    {
     "data": {
      "text/plain": [
       "9129.983060002281"
      ]
     },
     "execution_count": 90,
     "metadata": {},
     "output_type": "execute_result"
    }
   ],
   "source": [
    "lm_full30.aic"
   ]
  },
  {
   "cell_type": "code",
   "execution_count": 91,
   "id": "752da249",
   "metadata": {},
   "outputs": [
    {
     "data": {
      "text/plain": [
       "9129.471985036073"
      ]
     },
     "execution_count": 91,
     "metadata": {},
     "output_type": "execute_result"
    }
   ],
   "source": [
    "lm_full31.aic"
   ]
  },
  {
   "cell_type": "code",
   "execution_count": 92,
   "id": "9d034dab",
   "metadata": {},
   "outputs": [],
   "source": [
    "lm_full32 = ols('LOS ~ CANCER + OPCS_DESC + Average_Age + MED_HX_NAME + Lactate + Haemoglobin + Creatinine + WEIGHT + Creatinine:WEIGHT + CANCER:MED_HX_NAME+ + MED_HX_NAME:Lactate + MED_HX_NAME:Haemoglobin',data=df).fit()"
   ]
  },
  {
   "cell_type": "code",
   "execution_count": 93,
   "id": "ba600268",
   "metadata": {},
   "outputs": [],
   "source": [
    "lm_full33 = ols('LOS ~ CANCER + OPCS_DESC + Average_Age + MED_HX_NAME + Lactate + Haemoglobin + Creatinine + WEIGHT + Creatinine:WEIGHT + CANCER:MED_HX_NAME+ + MED_HX_NAME:Lactate  + MED_HX_NAME:Creatinine',data=df).fit()"
   ]
  },
  {
   "cell_type": "code",
   "execution_count": 94,
   "id": "b2a47d56",
   "metadata": {},
   "outputs": [],
   "source": [
    "lm_full34 = ols('LOS ~ CANCER + OPCS_DESC + Average_Age + MED_HX_NAME + Lactate + Haemoglobin + Creatinine + WEIGHT + Creatinine:WEIGHT + CANCER:MED_HX_NAME + MED_HX_NAME:Haemoglobin + MED_HX_NAME:Creatinine',data=df).fit()"
   ]
  },
  {
   "cell_type": "code",
   "execution_count": 95,
   "id": "5cfe68fe",
   "metadata": {},
   "outputs": [],
   "source": [
    "lm_full35 = ols('LOS ~ CANCER + OPCS_DESC + Average_Age + MED_HX_NAME + Lactate + Haemoglobin + Creatinine + WEIGHT + Creatinine:WEIGHT + MED_HX_NAME:Lactate + MED_HX_NAME:Haemoglobin + MED_HX_NAME:Creatinine',data=df).fit()"
   ]
  },
  {
   "cell_type": "code",
   "execution_count": 96,
   "id": "dbc48193",
   "metadata": {},
   "outputs": [],
   "source": [
    "lm_full36 = ols('LOS ~ CANCER + OPCS_DESC + Average_Age + MED_HX_NAME + Lactate + Haemoglobin + Creatinine + WEIGHT  + CANCER:MED_HX_NAME+ + MED_HX_NAME:Lactate + MED_HX_NAME:Haemoglobin + MED_HX_NAME:Creatinine',data=df).fit()"
   ]
  },
  {
   "cell_type": "code",
   "execution_count": 97,
   "id": "36417183",
   "metadata": {},
   "outputs": [
    {
     "data": {
      "text/plain": [
       "9130.566491694932"
      ]
     },
     "execution_count": 97,
     "metadata": {},
     "output_type": "execute_result"
    }
   ],
   "source": [
    "lm_full32.aic"
   ]
  },
  {
   "cell_type": "code",
   "execution_count": 98,
   "id": "b674d9e1",
   "metadata": {},
   "outputs": [
    {
     "data": {
      "text/plain": [
       "9128.395443556437"
      ]
     },
     "execution_count": 98,
     "metadata": {},
     "output_type": "execute_result"
    }
   ],
   "source": [
    "lm_full33.aic"
   ]
  },
  {
   "cell_type": "code",
   "execution_count": 99,
   "id": "99957eb8",
   "metadata": {},
   "outputs": [
    {
     "data": {
      "text/plain": [
       "9128.289736223796"
      ]
     },
     "execution_count": 99,
     "metadata": {},
     "output_type": "execute_result"
    }
   ],
   "source": [
    "lm_full34.aic"
   ]
  },
  {
   "cell_type": "code",
   "execution_count": 100,
   "id": "c36465a0",
   "metadata": {},
   "outputs": [
    {
     "data": {
      "text/plain": [
       "9128.280507226378"
      ]
     },
     "execution_count": 100,
     "metadata": {},
     "output_type": "execute_result"
    }
   ],
   "source": [
    "lm_full35.aic #Lowest AIC"
   ]
  },
  {
   "cell_type": "code",
   "execution_count": 101,
   "id": "0ccc44b9",
   "metadata": {},
   "outputs": [
    {
     "data": {
      "text/plain": [
       "9128.89234137732"
      ]
     },
     "execution_count": 101,
     "metadata": {},
     "output_type": "execute_result"
    }
   ],
   "source": [
    "lm_full36.aic"
   ]
  },
  {
   "cell_type": "code",
   "execution_count": 102,
   "id": "727f6b2a",
   "metadata": {},
   "outputs": [],
   "source": [
    "lm_full35 = ols('LOS ~ CANCER + OPCS_DESC + Average_Age + MED_HX_NAME + Lactate + Haemoglobin + Creatinine + WEIGHT + Creatinine:WEIGHT + MED_HX_NAME:Lactate + MED_HX_NAME:Haemoglobin + MED_HX_NAME:Creatinine',data=df).fit()"
   ]
  },
  {
   "cell_type": "code",
   "execution_count": 103,
   "id": "68f9c88a",
   "metadata": {},
   "outputs": [],
   "source": [
    "lm_full37 = ols('LOS ~ CANCER + OPCS_DESC + Average_Age + MED_HX_NAME + Lactate + Haemoglobin + Creatinine + WEIGHT + Creatinine:WEIGHT + + MED_HX_NAME:Lactate + MED_HX_NAME:Haemoglobin',data=df).fit()"
   ]
  },
  {
   "cell_type": "code",
   "execution_count": 104,
   "id": "4fe2cae8",
   "metadata": {},
   "outputs": [],
   "source": [
    "lm_full38 = ols('LOS ~ CANCER + OPCS_DESC + Average_Age + MED_HX_NAME + Lactate + Haemoglobin + Creatinine + WEIGHT + Creatinine:WEIGHT + + MED_HX_NAME:Lactate + MED_HX_NAME:Creatinine',data=df).fit()"
   ]
  },
  {
   "cell_type": "code",
   "execution_count": 105,
   "id": "b3960e8e",
   "metadata": {},
   "outputs": [],
   "source": [
    "lm_full39 = ols('LOS ~ CANCER + OPCS_DESC + Average_Age + MED_HX_NAME + Lactate + Haemoglobin + Creatinine + WEIGHT + Creatinine:WEIGHT  + MED_HX_NAME:Haemoglobin + MED_HX_NAME:Creatinine',data=df).fit()"
   ]
  },
  {
   "cell_type": "code",
   "execution_count": 106,
   "id": "3fc2b318",
   "metadata": {},
   "outputs": [],
   "source": [
    "lm_full40 = ols('LOS ~ CANCER + OPCS_DESC + Average_Age + MED_HX_NAME + Lactate + Haemoglobin + Creatinine + WEIGHT + MED_HX_NAME:Lactate + MED_HX_NAME:Haemoglobin + MED_HX_NAME:Creatinine',data=df).fit()"
   ]
  },
  {
   "cell_type": "code",
   "execution_count": 107,
   "id": "579543d9",
   "metadata": {},
   "outputs": [],
   "source": [
    "lm_full41 = ols('LOS ~  OPCS_DESC + Average_Age + MED_HX_NAME + Lactate + Haemoglobin + Creatinine + WEIGHT + Creatinine:WEIGHT + + MED_HX_NAME:Lactate + MED_HX_NAME:Haemoglobin + MED_HX_NAME:Creatinine',data=df).fit()"
   ]
  },
  {
   "cell_type": "code",
   "execution_count": 108,
   "id": "06d0236a",
   "metadata": {},
   "outputs": [],
   "source": [
    "lm_full42 = ols('LOS ~ CANCER + Average_Age + MED_HX_NAME + Lactate + Haemoglobin + Creatinine + WEIGHT + Creatinine:WEIGHT + + MED_HX_NAME:Lactate + MED_HX_NAME:Haemoglobin + MED_HX_NAME:Creatinine',data=df).fit()"
   ]
  },
  {
   "cell_type": "code",
   "execution_count": 109,
   "id": "48fc8599",
   "metadata": {},
   "outputs": [],
   "source": [
    "lm_full43 = ols('LOS ~ CANCER + OPCS_DESC + MED_HX_NAME + Lactate + Haemoglobin + Creatinine + WEIGHT + Creatinine:WEIGHT + MED_HX_NAME:Lactate + MED_HX_NAME:Haemoglobin + MED_HX_NAME:Creatinine',data=df).fit()"
   ]
  },
  {
   "cell_type": "code",
   "execution_count": 110,
   "id": "db19a922",
   "metadata": {},
   "outputs": [
    {
     "data": {
      "text/plain": [
       "9130.566491694932"
      ]
     },
     "execution_count": 110,
     "metadata": {},
     "output_type": "execute_result"
    }
   ],
   "source": [
    "lm_full37.aic"
   ]
  },
  {
   "cell_type": "code",
   "execution_count": 111,
   "id": "17a361f6",
   "metadata": {},
   "outputs": [
    {
     "data": {
      "text/plain": [
       "9128.395443556437"
      ]
     },
     "execution_count": 111,
     "metadata": {},
     "output_type": "execute_result"
    }
   ],
   "source": [
    "lm_full38.aic"
   ]
  },
  {
   "cell_type": "code",
   "execution_count": 112,
   "id": "efc1193a",
   "metadata": {},
   "outputs": [
    {
     "data": {
      "text/plain": [
       "9128.289736223796"
      ]
     },
     "execution_count": 112,
     "metadata": {},
     "output_type": "execute_result"
    }
   ],
   "source": [
    "lm_full39.aic"
   ]
  },
  {
   "cell_type": "code",
   "execution_count": 113,
   "id": "185e1f80",
   "metadata": {},
   "outputs": [
    {
     "data": {
      "text/plain": [
       "9128.89234137732"
      ]
     },
     "execution_count": 113,
     "metadata": {},
     "output_type": "execute_result"
    }
   ],
   "source": [
    "lm_full40.aic"
   ]
  },
  {
   "cell_type": "code",
   "execution_count": 114,
   "id": "85fda220",
   "metadata": {},
   "outputs": [
    {
     "data": {
      "text/plain": [
       "9133.40047819408"
      ]
     },
     "execution_count": 114,
     "metadata": {},
     "output_type": "execute_result"
    }
   ],
   "source": [
    "lm_full41.aic"
   ]
  },
  {
   "cell_type": "code",
   "execution_count": 115,
   "id": "b89bfcdd",
   "metadata": {},
   "outputs": [
    {
     "data": {
      "text/plain": [
       "9137.76287110365"
      ]
     },
     "execution_count": 115,
     "metadata": {},
     "output_type": "execute_result"
    }
   ],
   "source": [
    "lm_full42.aic"
   ]
  },
  {
   "cell_type": "code",
   "execution_count": 116,
   "id": "2f09715d",
   "metadata": {},
   "outputs": [
    {
     "data": {
      "text/plain": [
       "9147.076279768906"
      ]
     },
     "execution_count": 116,
     "metadata": {},
     "output_type": "execute_result"
    }
   ],
   "source": [
    "lm_full43.aic "
   ]
  },
  {
   "cell_type": "code",
   "execution_count": 117,
   "id": "5d1cb9d8",
   "metadata": {},
   "outputs": [],
   "source": [
    "lm_final = ols('LOS ~ CANCER + OPCS_DESC + Average_Age + MED_HX_NAME + Lactate + Haemoglobin + Creatinine + WEIGHT + Creatinine:WEIGHT + MED_HX_NAME:Lactate + MED_HX_NAME:Haemoglobin + MED_HX_NAME:Creatinine',data=df).fit()"
   ]
  },
  {
   "cell_type": "code",
   "execution_count": 123,
   "id": "0c4b92cd",
   "metadata": {},
   "outputs": [
    {
     "data": {
      "text/plain": [
       "9128.280507226378"
      ]
     },
     "execution_count": 123,
     "metadata": {},
     "output_type": "execute_result"
    }
   ],
   "source": [
    "lm_final.aic"
   ]
  },
  {
   "cell_type": "code",
   "execution_count": 118,
   "id": "02372d0d",
   "metadata": {},
   "outputs": [
    {
     "data": {
      "text/html": [
       "<table class=\"simpletable\">\n",
       "<caption>OLS Regression Results</caption>\n",
       "<tr>\n",
       "  <th>Dep. Variable:</th>           <td>LOS</td>       <th>  R-squared:         </th> <td>   0.103</td>\n",
       "</tr>\n",
       "<tr>\n",
       "  <th>Model:</th>                   <td>OLS</td>       <th>  Adj. R-squared:    </th> <td>   0.088</td>\n",
       "</tr>\n",
       "<tr>\n",
       "  <th>Method:</th>             <td>Least Squares</td>  <th>  F-statistic:       </th> <td>   6.512</td>\n",
       "</tr>\n",
       "<tr>\n",
       "  <th>Date:</th>             <td>Thu, 20 Apr 2023</td> <th>  Prob (F-statistic):</th> <td>8.36e-18</td>\n",
       "</tr>\n",
       "<tr>\n",
       "  <th>Time:</th>                 <td>11:22:49</td>     <th>  Log-Likelihood:    </th> <td> -4542.1</td>\n",
       "</tr>\n",
       "<tr>\n",
       "  <th>No. Observations:</th>      <td>  1208</td>      <th>  AIC:               </th> <td>   9128.</td>\n",
       "</tr>\n",
       "<tr>\n",
       "  <th>Df Residuals:</th>          <td>  1186</td>      <th>  BIC:               </th> <td>   9240.</td>\n",
       "</tr>\n",
       "<tr>\n",
       "  <th>Df Model:</th>              <td>    21</td>      <th>                     </th>     <td> </td>   \n",
       "</tr>\n",
       "<tr>\n",
       "  <th>Covariance Type:</th>      <td>nonrobust</td>    <th>                     </th>     <td> </td>   \n",
       "</tr>\n",
       "</table>\n",
       "<table class=\"simpletable\">\n",
       "<tr>\n",
       "                                               <td></td>                                                 <th>coef</th>     <th>std err</th>      <th>t</th>      <th>P>|t|</th>  <th>[0.025</th>    <th>0.975]</th>  \n",
       "</tr>\n",
       "<tr>\n",
       "  <th>Intercept</th>                                                                                  <td>   16.3563</td> <td>    6.557</td> <td>    2.494</td> <td> 0.013</td> <td>    3.491</td> <td>   29.222</td>\n",
       "</tr>\n",
       "<tr>\n",
       "  <th>CANCER[T.Y]</th>                                                                                <td>    2.2638</td> <td>    0.855</td> <td>    2.648</td> <td> 0.008</td> <td>    0.586</td> <td>    3.941</td>\n",
       "</tr>\n",
       "<tr>\n",
       "  <th>OPCS_DESC[T.HEMIARTHROPLASTY HIP CANNULOK]</th>                                                 <td>   13.3108</td> <td>    7.484</td> <td>    1.778</td> <td> 0.076</td> <td>   -1.373</td> <td>   27.995</td>\n",
       "</tr>\n",
       "<tr>\n",
       "  <th>OPCS_DESC[T.HEMIARTHROPLASTY HIP CEMENTED USING EXETER STEM]</th>                               <td>    0.0106</td> <td>    0.937</td> <td>    0.011</td> <td> 0.991</td> <td>   -1.828</td> <td>    1.850</td>\n",
       "</tr>\n",
       "<tr>\n",
       "  <th>OPCS_DESC[T.HEMIARTHROPLASTY HIP CEMENTED USING EXETER TRAUMA STEM]</th>                        <td>    1.5001</td> <td>    1.224</td> <td>    1.226</td> <td> 0.221</td> <td>   -0.901</td> <td>    3.901</td>\n",
       "</tr>\n",
       "<tr>\n",
       "  <th>OPCS_DESC[T.OPEN REDUCTION INTERNAL FIXATION FEMUR]</th>                                        <td>    0.4046</td> <td>    3.139</td> <td>    0.129</td> <td> 0.897</td> <td>   -5.754</td> <td>    6.563</td>\n",
       "</tr>\n",
       "<tr>\n",
       "  <th>OPCS_DESC[T.OPEN REDUCTION INTERNAL FIXATION FEMUR USING RIGID NAIL]</th>                       <td>   -0.6304</td> <td>    1.636</td> <td>   -0.385</td> <td> 0.700</td> <td>   -3.840</td> <td>    2.579</td>\n",
       "</tr>\n",
       "<tr>\n",
       "  <th>OPCS_DESC[T.OPEN REDUCTION INTERNAL FIXATION FRACTURE NECK OF FEMUR WITH HIP SCREW]</th>        <td>   -0.9469</td> <td>    0.960</td> <td>   -0.986</td> <td> 0.324</td> <td>   -2.831</td> <td>    0.937</td>\n",
       "</tr>\n",
       "<tr>\n",
       "  <th>OPCS_DESC[T.OPEN REDUCTION INTERNAL FIXATION TROCHANTERIC FRACTURE FEMUR USING RIGID NAIL]</th> <td>   -0.8021</td> <td>    4.045</td> <td>   -0.198</td> <td> 0.843</td> <td>   -8.738</td> <td>    7.134</td>\n",
       "</tr>\n",
       "<tr>\n",
       "  <th>OPCS_DESC[T.TOTAL HIP REPLACEMENT]</th>                                                         <td>   -5.1737</td> <td>    1.579</td> <td>   -3.276</td> <td> 0.001</td> <td>   -8.272</td> <td>   -2.076</td>\n",
       "</tr>\n",
       "<tr>\n",
       "  <th>OPCS_DESC[T.TOTAL HIP REPLACEMENT CEMENTED]</th>                                                <td>   -7.5603</td> <td>    2.548</td> <td>   -2.967</td> <td> 0.003</td> <td>  -12.559</td> <td>   -2.561</td>\n",
       "</tr>\n",
       "<tr>\n",
       "  <th>OPCS_DESC[T.TOTAL HIP REPLACEMENT EXETER CUP EXETER STEM]</th>                                  <td>   -5.7311</td> <td>    6.118</td> <td>   -0.937</td> <td> 0.349</td> <td>  -17.735</td> <td>    6.273</td>\n",
       "</tr>\n",
       "<tr>\n",
       "  <th>Average_Age</th>                                                                                <td>    0.1364</td> <td>    0.030</td> <td>    4.538</td> <td> 0.000</td> <td>    0.077</td> <td>    0.195</td>\n",
       "</tr>\n",
       "<tr>\n",
       "  <th>MED_HX_NAME</th>                                                                                <td>   -0.6231</td> <td>    0.725</td> <td>   -0.859</td> <td> 0.390</td> <td>   -2.046</td> <td>    0.800</td>\n",
       "</tr>\n",
       "<tr>\n",
       "  <th>Lactate</th>                                                                                    <td>    1.7514</td> <td>    0.637</td> <td>    2.751</td> <td> 0.006</td> <td>    0.502</td> <td>    3.001</td>\n",
       "</tr>\n",
       "<tr>\n",
       "  <th>Haemoglobin</th>                                                                                <td>   -0.0667</td> <td>    0.028</td> <td>   -2.364</td> <td> 0.018</td> <td>   -0.122</td> <td>   -0.011</td>\n",
       "</tr>\n",
       "<tr>\n",
       "  <th>Creatinine</th>                                                                                 <td>   -0.0997</td> <td>    0.053</td> <td>   -1.895</td> <td> 0.058</td> <td>   -0.203</td> <td>    0.004</td>\n",
       "</tr>\n",
       "<tr>\n",
       "  <th>WEIGHT</th>                                                                                     <td>   -0.1378</td> <td>    0.079</td> <td>   -1.746</td> <td> 0.081</td> <td>   -0.293</td> <td>    0.017</td>\n",
       "</tr>\n",
       "<tr>\n",
       "  <th>Creatinine:WEIGHT</th>                                                                          <td>    0.0013</td> <td>    0.001</td> <td>    1.602</td> <td> 0.109</td> <td>   -0.000</td> <td>    0.003</td>\n",
       "</tr>\n",
       "<tr>\n",
       "  <th>MED_HX_NAME:Lactate</th>                                                                        <td>   -0.1961</td> <td>    0.140</td> <td>   -1.405</td> <td> 0.160</td> <td>   -0.470</td> <td>    0.078</td>\n",
       "</tr>\n",
       "<tr>\n",
       "  <th>MED_HX_NAME:Haemoglobin</th>                                                                    <td>    0.0085</td> <td>    0.006</td> <td>    1.442</td> <td> 0.150</td> <td>   -0.003</td> <td>    0.020</td>\n",
       "</tr>\n",
       "<tr>\n",
       "  <th>MED_HX_NAME:Creatinine</th>                                                                     <td>    0.0032</td> <td>    0.002</td> <td>    2.053</td> <td> 0.040</td> <td>    0.000</td> <td>    0.006</td>\n",
       "</tr>\n",
       "</table>\n",
       "<table class=\"simpletable\">\n",
       "<tr>\n",
       "  <th>Omnibus:</th>       <td>537.213</td> <th>  Durbin-Watson:     </th> <td>   1.691</td>\n",
       "</tr>\n",
       "<tr>\n",
       "  <th>Prob(Omnibus):</th> <td> 0.000</td>  <th>  Jarque-Bera (JB):  </th> <td>2785.436</td>\n",
       "</tr>\n",
       "<tr>\n",
       "  <th>Skew:</th>          <td> 2.046</td>  <th>  Prob(JB):          </th> <td>    0.00</td>\n",
       "</tr>\n",
       "<tr>\n",
       "  <th>Kurtosis:</th>      <td> 9.212</td>  <th>  Cond. No.          </th> <td>1.53e+05</td>\n",
       "</tr>\n",
       "</table><br/><br/>Notes:<br/>[1] Standard Errors assume that the covariance matrix of the errors is correctly specified.<br/>[2] The condition number is large, 1.53e+05. This might indicate that there are<br/>strong multicollinearity or other numerical problems."
      ],
      "text/plain": [
       "<class 'statsmodels.iolib.summary.Summary'>\n",
       "\"\"\"\n",
       "                            OLS Regression Results                            \n",
       "==============================================================================\n",
       "Dep. Variable:                    LOS   R-squared:                       0.103\n",
       "Model:                            OLS   Adj. R-squared:                  0.088\n",
       "Method:                 Least Squares   F-statistic:                     6.512\n",
       "Date:                Thu, 20 Apr 2023   Prob (F-statistic):           8.36e-18\n",
       "Time:                        11:22:49   Log-Likelihood:                -4542.1\n",
       "No. Observations:                1208   AIC:                             9128.\n",
       "Df Residuals:                    1186   BIC:                             9240.\n",
       "Df Model:                          21                                         \n",
       "Covariance Type:            nonrobust                                         \n",
       "==============================================================================================================================================================\n",
       "                                                                                                 coef    std err          t      P>|t|      [0.025      0.975]\n",
       "--------------------------------------------------------------------------------------------------------------------------------------------------------------\n",
       "Intercept                                                                                     16.3563      6.557      2.494      0.013       3.491      29.222\n",
       "CANCER[T.Y]                                                                                    2.2638      0.855      2.648      0.008       0.586       3.941\n",
       "OPCS_DESC[T.HEMIARTHROPLASTY HIP CANNULOK]                                                    13.3108      7.484      1.778      0.076      -1.373      27.995\n",
       "OPCS_DESC[T.HEMIARTHROPLASTY HIP CEMENTED USING EXETER STEM]                                   0.0106      0.937      0.011      0.991      -1.828       1.850\n",
       "OPCS_DESC[T.HEMIARTHROPLASTY HIP CEMENTED USING EXETER TRAUMA STEM]                            1.5001      1.224      1.226      0.221      -0.901       3.901\n",
       "OPCS_DESC[T.OPEN REDUCTION INTERNAL FIXATION FEMUR]                                            0.4046      3.139      0.129      0.897      -5.754       6.563\n",
       "OPCS_DESC[T.OPEN REDUCTION INTERNAL FIXATION FEMUR USING RIGID NAIL]                          -0.6304      1.636     -0.385      0.700      -3.840       2.579\n",
       "OPCS_DESC[T.OPEN REDUCTION INTERNAL FIXATION FRACTURE NECK OF FEMUR WITH HIP SCREW]           -0.9469      0.960     -0.986      0.324      -2.831       0.937\n",
       "OPCS_DESC[T.OPEN REDUCTION INTERNAL FIXATION TROCHANTERIC FRACTURE FEMUR USING RIGID NAIL]    -0.8021      4.045     -0.198      0.843      -8.738       7.134\n",
       "OPCS_DESC[T.TOTAL HIP REPLACEMENT]                                                            -5.1737      1.579     -3.276      0.001      -8.272      -2.076\n",
       "OPCS_DESC[T.TOTAL HIP REPLACEMENT CEMENTED]                                                   -7.5603      2.548     -2.967      0.003     -12.559      -2.561\n",
       "OPCS_DESC[T.TOTAL HIP REPLACEMENT EXETER CUP EXETER STEM]                                     -5.7311      6.118     -0.937      0.349     -17.735       6.273\n",
       "Average_Age                                                                                    0.1364      0.030      4.538      0.000       0.077       0.195\n",
       "MED_HX_NAME                                                                                   -0.6231      0.725     -0.859      0.390      -2.046       0.800\n",
       "Lactate                                                                                        1.7514      0.637      2.751      0.006       0.502       3.001\n",
       "Haemoglobin                                                                                   -0.0667      0.028     -2.364      0.018      -0.122      -0.011\n",
       "Creatinine                                                                                    -0.0997      0.053     -1.895      0.058      -0.203       0.004\n",
       "WEIGHT                                                                                        -0.1378      0.079     -1.746      0.081      -0.293       0.017\n",
       "Creatinine:WEIGHT                                                                              0.0013      0.001      1.602      0.109      -0.000       0.003\n",
       "MED_HX_NAME:Lactate                                                                           -0.1961      0.140     -1.405      0.160      -0.470       0.078\n",
       "MED_HX_NAME:Haemoglobin                                                                        0.0085      0.006      1.442      0.150      -0.003       0.020\n",
       "MED_HX_NAME:Creatinine                                                                         0.0032      0.002      2.053      0.040       0.000       0.006\n",
       "==============================================================================\n",
       "Omnibus:                      537.213   Durbin-Watson:                   1.691\n",
       "Prob(Omnibus):                  0.000   Jarque-Bera (JB):             2785.436\n",
       "Skew:                           2.046   Prob(JB):                         0.00\n",
       "Kurtosis:                       9.212   Cond. No.                     1.53e+05\n",
       "==============================================================================\n",
       "\n",
       "Notes:\n",
       "[1] Standard Errors assume that the covariance matrix of the errors is correctly specified.\n",
       "[2] The condition number is large, 1.53e+05. This might indicate that there are\n",
       "strong multicollinearity or other numerical problems.\n",
       "\"\"\""
      ]
     },
     "execution_count": 118,
     "metadata": {},
     "output_type": "execute_result"
    }
   ],
   "source": [
    "lm_final.summary()"
   ]
  },
  {
   "cell_type": "code",
   "execution_count": 119,
   "id": "c86719e1",
   "metadata": {},
   "outputs": [
    {
     "data": {
      "text/html": [
       "<div>\n",
       "<style scoped>\n",
       "    .dataframe tbody tr th:only-of-type {\n",
       "        vertical-align: middle;\n",
       "    }\n",
       "\n",
       "    .dataframe tbody tr th {\n",
       "        vertical-align: top;\n",
       "    }\n",
       "\n",
       "    .dataframe thead th {\n",
       "        text-align: right;\n",
       "    }\n",
       "</style>\n",
       "<table border=\"1\" class=\"dataframe\">\n",
       "  <thead>\n",
       "    <tr style=\"text-align: right;\">\n",
       "      <th></th>\n",
       "      <th>df</th>\n",
       "      <th>sum_sq</th>\n",
       "      <th>mean_sq</th>\n",
       "      <th>F</th>\n",
       "      <th>PR(&gt;F)</th>\n",
       "    </tr>\n",
       "  </thead>\n",
       "  <tbody>\n",
       "    <tr>\n",
       "      <th>CANCER</th>\n",
       "      <td>1.0</td>\n",
       "      <td>3351.253328</td>\n",
       "      <td>3351.253328</td>\n",
       "      <td>30.462219</td>\n",
       "      <td>4.178189e-08</td>\n",
       "    </tr>\n",
       "    <tr>\n",
       "      <th>OPCS_DESC</th>\n",
       "      <td>10.0</td>\n",
       "      <td>5564.003832</td>\n",
       "      <td>556.400383</td>\n",
       "      <td>5.057568</td>\n",
       "      <td>3.038984e-07</td>\n",
       "    </tr>\n",
       "    <tr>\n",
       "      <th>Average_Age</th>\n",
       "      <td>1.0</td>\n",
       "      <td>2691.807821</td>\n",
       "      <td>2691.807821</td>\n",
       "      <td>24.467992</td>\n",
       "      <td>8.643536e-07</td>\n",
       "    </tr>\n",
       "    <tr>\n",
       "      <th>MED_HX_NAME</th>\n",
       "      <td>1.0</td>\n",
       "      <td>986.475994</td>\n",
       "      <td>986.475994</td>\n",
       "      <td>8.966868</td>\n",
       "      <td>2.806199e-03</td>\n",
       "    </tr>\n",
       "    <tr>\n",
       "      <th>Lactate</th>\n",
       "      <td>1.0</td>\n",
       "      <td>518.124678</td>\n",
       "      <td>518.124678</td>\n",
       "      <td>4.709649</td>\n",
       "      <td>3.019173e-02</td>\n",
       "    </tr>\n",
       "    <tr>\n",
       "      <th>Haemoglobin</th>\n",
       "      <td>1.0</td>\n",
       "      <td>464.990147</td>\n",
       "      <td>464.990147</td>\n",
       "      <td>4.226667</td>\n",
       "      <td>4.001200e-02</td>\n",
       "    </tr>\n",
       "    <tr>\n",
       "      <th>Creatinine</th>\n",
       "      <td>1.0</td>\n",
       "      <td>15.080832</td>\n",
       "      <td>15.080832</td>\n",
       "      <td>0.137082</td>\n",
       "      <td>7.112657e-01</td>\n",
       "    </tr>\n",
       "    <tr>\n",
       "      <th>WEIGHT</th>\n",
       "      <td>1.0</td>\n",
       "      <td>68.505234</td>\n",
       "      <td>68.505234</td>\n",
       "      <td>0.622699</td>\n",
       "      <td>4.302039e-01</td>\n",
       "    </tr>\n",
       "    <tr>\n",
       "      <th>Creatinine:WEIGHT</th>\n",
       "      <td>1.0</td>\n",
       "      <td>495.501288</td>\n",
       "      <td>495.501288</td>\n",
       "      <td>4.504007</td>\n",
       "      <td>3.402232e-02</td>\n",
       "    </tr>\n",
       "    <tr>\n",
       "      <th>MED_HX_NAME:Lactate</th>\n",
       "      <td>1.0</td>\n",
       "      <td>290.889110</td>\n",
       "      <td>290.889110</td>\n",
       "      <td>2.644124</td>\n",
       "      <td>1.041991e-01</td>\n",
       "    </tr>\n",
       "    <tr>\n",
       "      <th>MED_HX_NAME:Haemoglobin</th>\n",
       "      <td>1.0</td>\n",
       "      <td>134.488182</td>\n",
       "      <td>134.488182</td>\n",
       "      <td>1.222471</td>\n",
       "      <td>2.691006e-01</td>\n",
       "    </tr>\n",
       "    <tr>\n",
       "      <th>MED_HX_NAME:Creatinine</th>\n",
       "      <td>1.0</td>\n",
       "      <td>463.750870</td>\n",
       "      <td>463.750870</td>\n",
       "      <td>4.215402</td>\n",
       "      <td>4.027753e-02</td>\n",
       "    </tr>\n",
       "    <tr>\n",
       "      <th>Residual</th>\n",
       "      <td>1186.0</td>\n",
       "      <td>130475.933319</td>\n",
       "      <td>110.013435</td>\n",
       "      <td>NaN</td>\n",
       "      <td>NaN</td>\n",
       "    </tr>\n",
       "  </tbody>\n",
       "</table>\n",
       "</div>"
      ],
      "text/plain": [
       "                             df         sum_sq      mean_sq          F  \\\n",
       "CANCER                      1.0    3351.253328  3351.253328  30.462219   \n",
       "OPCS_DESC                  10.0    5564.003832   556.400383   5.057568   \n",
       "Average_Age                 1.0    2691.807821  2691.807821  24.467992   \n",
       "MED_HX_NAME                 1.0     986.475994   986.475994   8.966868   \n",
       "Lactate                     1.0     518.124678   518.124678   4.709649   \n",
       "Haemoglobin                 1.0     464.990147   464.990147   4.226667   \n",
       "Creatinine                  1.0      15.080832    15.080832   0.137082   \n",
       "WEIGHT                      1.0      68.505234    68.505234   0.622699   \n",
       "Creatinine:WEIGHT           1.0     495.501288   495.501288   4.504007   \n",
       "MED_HX_NAME:Lactate         1.0     290.889110   290.889110   2.644124   \n",
       "MED_HX_NAME:Haemoglobin     1.0     134.488182   134.488182   1.222471   \n",
       "MED_HX_NAME:Creatinine      1.0     463.750870   463.750870   4.215402   \n",
       "Residual                 1186.0  130475.933319   110.013435        NaN   \n",
       "\n",
       "                               PR(>F)  \n",
       "CANCER                   4.178189e-08  \n",
       "OPCS_DESC                3.038984e-07  \n",
       "Average_Age              8.643536e-07  \n",
       "MED_HX_NAME              2.806199e-03  \n",
       "Lactate                  3.019173e-02  \n",
       "Haemoglobin              4.001200e-02  \n",
       "Creatinine               7.112657e-01  \n",
       "WEIGHT                   4.302039e-01  \n",
       "Creatinine:WEIGHT        3.402232e-02  \n",
       "MED_HX_NAME:Lactate      1.041991e-01  \n",
       "MED_HX_NAME:Haemoglobin  2.691006e-01  \n",
       "MED_HX_NAME:Creatinine   4.027753e-02  \n",
       "Residual                          NaN  "
      ]
     },
     "execution_count": 119,
     "metadata": {},
     "output_type": "execute_result"
    }
   ],
   "source": [
    "aov_table2 = anova_lm(lm_final,typ=1)\n",
    "aov_table2"
   ]
  },
  {
   "cell_type": "code",
   "execution_count": 120,
   "id": "fc2b776a",
   "metadata": {},
   "outputs": [],
   "source": [
    "from scipy.stats import shapiro "
   ]
  },
  {
   "cell_type": "code",
   "execution_count": 121,
   "id": "78bbfa2f",
   "metadata": {},
   "outputs": [
    {
     "data": {
      "text/plain": [
       "ShapiroResult(statistic=0.8322679400444031, pvalue=8.440220252926878e-34)"
      ]
     },
     "execution_count": 121,
     "metadata": {},
     "output_type": "execute_result"
    }
   ],
   "source": [
    "shapiro(lm_final.resid)"
   ]
  },
  {
   "cell_type": "code",
   "execution_count": 126,
   "id": "d1e850f3",
   "metadata": {},
   "outputs": [
    {
     "data": {
      "image/png": "[encoded data removed]",
      "text/plain": [
       "<Figure size 432x288 with 1 Axes>"
      ]
     },
     "execution_count": 126,
     "metadata": {},
     "output_type": "execute_result"
    },
    {
     "data": {
      "image/png": "[encoded data removed]",
      "text/plain": [
       "<Figure size 432x288 with 1 Axes>"
      ]
     },
     "metadata": {
      "needs_background": "light"
     },
     "output_type": "display_data"
    }
   ],
   "source": [
    "#QQPlot \n",
    "from statsmodels.graphics.gofplots import qqplot \n",
    "qqplot(lm_final.resid,line='s')"
   ]
  },
  {
   "cell_type": "code",
   "execution_count": 127,
   "id": "6981f5fb",
   "metadata": {},
   "outputs": [
    {
     "data": {
      "text/plain": [
       "Text(0, 0.5, 'Residuals')"
      ]
     },
     "execution_count": 127,
     "metadata": {},
     "output_type": "execute_result"
    },
    {
     "data": {
      "image/png": "[encoded data removed]",
      "text/plain": [
       "<Figure size 432x288 with 1 Axes>"
      ]
     },
     "metadata": {
      "needs_background": "light"
     },
     "output_type": "display_data"
    }
   ],
   "source": [
    "plt.scatter(lm_final.fittedvalues,lm_final.resid)\n",
    "plt.axhline(y=0)\n",
    "plt.xlabel('Fitted Values')\n",
    "plt.ylabel('Residuals')\n",
    "#Appears to be centrally scattered but co"
   ]
  },
  {
   "cell_type": "code",
   "execution_count": 128,
   "id": "9ba791fa",
   "metadata": {},
   "outputs": [
    {
     "data": {
      "text/plain": [
       "Text(0, 0.5, \"Cook's DIstance\")"
      ]
     },
     "execution_count": 128,
     "metadata": {},
     "output_type": "execute_result"
    },
    {
     "data": {
      "image/png": "[encoded data removed]",
      "text/plain": [
       "<Figure size 432x288 with 1 Axes>"
      ]
     },
     "metadata": {
      "needs_background": "light"
     },
     "output_type": "display_data"
    }
   ],
   "source": [
    "cooks=lm_final.get_influence().cooks_distance[0] \n",
    "plt.stem(range(len(cooks)),cooks) \n",
    "plt.xlabel('Observation Number') \n",
    "plt.ylabel(\"Cook's DIstance\")\n",
    "# No one vlaue is hugely affecting the model as they are all <0.2"
   ]
  },
  {
   "cell_type": "code",
   "execution_count": 129,
   "id": "080dcb8a",
   "metadata": {},
   "outputs": [
    {
     "data": {
      "text/plain": [
       "ShapiroResult(statistic=0.8319002389907837, pvalue=7.898209909667299e-34)"
      ]
     },
     "execution_count": 129,
     "metadata": {},
     "output_type": "execute_result"
    }
   ],
   "source": [
    "shapiro(lm_full.resid)"
   ]
  },
  {
   "cell_type": "code",
   "execution_count": 130,
   "id": "9c1eeef8",
   "metadata": {},
   "outputs": [
    {
     "data": {
      "image/png": "[encoded data removed]",
      "text/plain": [
       "<Figure size 432x288 with 1 Axes>"
      ]
     },
     "execution_count": 130,
     "metadata": {},
     "output_type": "execute_result"
    },
    {
     "data": {
      "image/png": "[encoded data removed]",
      "text/plain": [
       "<Figure size 432x288 with 1 Axes>"
      ]
     },
     "metadata": {
      "needs_background": "light"
     },
     "output_type": "display_data"
    }
   ],
   "source": [
    "#QQPlot \n",
    "from statsmodels.graphics.gofplots import qqplot \n",
    "qqplot(lm_full.resid,line='s')"
   ]
  },
  {
   "cell_type": "code",
   "execution_count": 131,
   "id": "21da12a5",
   "metadata": {},
   "outputs": [
    {
     "data": {
      "text/plain": [
       "Text(0, 0.5, 'Residuals')"
      ]
     },
     "execution_count": 131,
     "metadata": {},
     "output_type": "execute_result"
    },
    {
     "data": {
      "image/png": "[encoded data removed]",
      "text/plain": [
       "<Figure size 432x288 with 1 Axes>"
      ]
     },
     "metadata": {
      "needs_background": "light"
     },
     "output_type": "display_data"
    }
   ],
   "source": [
    "plt.scatter(lm_full.fittedvalues,lm_final.resid)\n",
    "plt.axhline(y=0)\n",
    "plt.xlabel('Fitted Values')\n",
    "plt.ylabel('Residuals')\n",
    "#Appears to be centrally scattered but co"
   ]
  },
  {
   "cell_type": "code",
   "execution_count": 132,
   "id": "56a91436",
   "metadata": {},
   "outputs": [
    {
     "data": {
      "text/plain": [
       "Text(0, 0.5, \"Cook's DIstance\")"
      ]
     },
     "execution_count": 132,
     "metadata": {},
     "output_type": "execute_result"
    },
    {
     "data": {
      "image/png": "[encoded data removed]",
      "text/plain": [
       "<Figure size 432x288 with 1 Axes>"
      ]
     },
     "metadata": {
      "needs_background": "light"
     },
     "output_type": "display_data"
    }
   ],
   "source": [
    "cooks=lm_full.get_influence().cooks_distance[0] \n",
    "plt.stem(range(len(cooks)),cooks) \n",
    "plt.xlabel('Observation Number') \n",
    "plt.ylabel(\"Cook's DIstance\")\n",
    "# No one vlaue is hugely affecting the model as they are all <0.2"
   ]
  },
  {
   "cell_type": "code",
   "execution_count": 133,
   "id": "cd75efdb",
   "metadata": {},
   "outputs": [
    {
     "data": {
      "text/plain": [
       "ShapiroResult(statistic=0.8319002389907837, pvalue=7.898209909667299e-34)"
      ]
     },
     "execution_count": 133,
     "metadata": {},
     "output_type": "execute_result"
    }
   ],
   "source": [
    "shapiro(lm_full.resid)"
   ]
  }
 ],
 "metadata": {
  "kernelspec": {
   "display_name": "Python 3",
   "language": "python",
   "name": "python3"
  },
  "language_info": {
   "codemirror_mode": {
    "name": "ipython",
    "version": 3
   },
   "file_extension": ".py",
   "mimetype": "text/x-python",
   "name": "python",
   "nbconvert_exporter": "python",
   "pygments_lexer": "ipython3",
   "version": "3.8.8"
  }
 },
 "nbformat": 4,
 "nbformat_minor": 5
}
